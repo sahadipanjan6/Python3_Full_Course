{
 "cells": [
  {
   "cell_type": "markdown",
   "metadata": {},
   "source": [
    "# Python Functions"
   ]
  },
  {
   "cell_type": "markdown",
   "metadata": {},
   "source": [
    "In Python, a function is a group of related statements that performs a specific task.\n",
    "\n",
    "Functions help break our program into smaller and modular chunks. As our program grows larger and larger, functions make it more organized and manageable.\n",
    "\n",
    "Furthermore, it avoids repetition and makes the code reusable."
   ]
  },
  {
   "cell_type": "markdown",
   "metadata": {},
   "source": [
    "Syntax of Function"
   ]
  },
  {
   "cell_type": "code",
   "execution_count": null,
   "metadata": {},
   "outputs": [],
   "source": [
    "def function_name(parameters):\n",
    "\t\"\"\"docstring\"\"\"\n",
    "\tstatement(s)"
   ]
  },
  {
   "cell_type": "markdown",
   "metadata": {},
   "source": [
    "Above shown is a function definition that consists of the following components."
   ]
  },
  {
   "cell_type": "markdown",
   "metadata": {},
   "source": [
    "1. Keyword def that marks the start of the function header.\n",
    "2. A function name to uniquely identify the function. Function naming follows the same rules of writing identifiers in Python.\n",
    "3. Parameters (arguments) through which we pass values to a function. They are optional.\n",
    "4. A colon (:) to mark the end of the function header.\n",
    "5. Optional documentation string (docstring) to describe what the function does.\n",
    "6. One or more valid python statements that make up the function body. Statements must have the same indentation level (usually 4 spaces).\n",
    "7. An optional return statement to return a value from the function."
   ]
  },
  {
   "cell_type": "markdown",
   "metadata": {},
   "source": [
    "Example of a function"
   ]
  },
  {
   "cell_type": "code",
   "execution_count": 1,
   "metadata": {},
   "outputs": [],
   "source": [
    "def greet(name):\n",
    "    \"\"\"\n",
    "    This function greets to\n",
    "    the person passed in as\n",
    "    a parameter\n",
    "    \"\"\"\n",
    "    print(\"Hello, \" + name + \". Good morning!\")"
   ]
  },
  {
   "cell_type": "markdown",
   "metadata": {},
   "source": [
    "# How to call a function in python?"
   ]
  },
  {
   "cell_type": "markdown",
   "metadata": {},
   "source": [
    "Once we have defined a function, we can call it from another function, program or even the Python prompt. To call a function we simply type the function name with appropriate parameters."
   ]
  },
  {
   "cell_type": "code",
   "execution_count": 2,
   "metadata": {},
   "outputs": [
    {
     "name": "stdout",
     "output_type": "stream",
     "text": [
      "Hello, Paul. Good morning!\n"
     ]
    }
   ],
   "source": [
    "greet('Paul')"
   ]
  },
  {
   "cell_type": "markdown",
   "metadata": {},
   "source": [
    "# The return statement"
   ]
  },
  {
   "cell_type": "markdown",
   "metadata": {},
   "source": [
    "The return statement is used to exit a function and go back to the place from where it was called."
   ]
  },
  {
   "cell_type": "markdown",
   "metadata": {},
   "source": [
    "Syntax of return"
   ]
  },
  {
   "cell_type": "code",
   "execution_count": null,
   "metadata": {},
   "outputs": [],
   "source": [
    "return [expression_list]"
   ]
  },
  {
   "cell_type": "markdown",
   "metadata": {},
   "source": [
    "This statement can contain an expression that gets evaluated and the value is returned. If there is no expression in the statement or the return statement itself is not present inside a function, then the function will return the None object."
   ]
  },
  {
   "cell_type": "markdown",
   "metadata": {},
   "source": [
    "For example:"
   ]
  },
  {
   "cell_type": "code",
   "execution_count": 3,
   "metadata": {},
   "outputs": [
    {
     "name": "stdout",
     "output_type": "stream",
     "text": [
      "Hello, May. Good morning!\n",
      "None\n"
     ]
    }
   ],
   "source": [
    "print(greet(\"May\"))"
   ]
  },
  {
   "cell_type": "markdown",
   "metadata": {},
   "source": [
    "Here, None is the returned value since greet() directly prints the name and no return statement is used."
   ]
  },
  {
   "cell_type": "markdown",
   "metadata": {},
   "source": [
    "Example of return"
   ]
  },
  {
   "cell_type": "code",
   "execution_count": 4,
   "metadata": {},
   "outputs": [
    {
     "name": "stdout",
     "output_type": "stream",
     "text": [
      "2\n",
      "4\n"
     ]
    }
   ],
   "source": [
    "def absolute_value(num):\n",
    "    \"\"\"This function returns the absolute\n",
    "    value of the entered number\"\"\"\n",
    "\n",
    "    if num >= 0:\n",
    "        return num\n",
    "    else:\n",
    "        return -num\n",
    "\n",
    "\n",
    "print(absolute_value(2))\n",
    "\n",
    "print(absolute_value(-4))"
   ]
  },
  {
   "cell_type": "markdown",
   "metadata": {},
   "source": [
    "# Scope and Lifetime of variables"
   ]
  },
  {
   "cell_type": "markdown",
   "metadata": {},
   "source": [
    "Scope of a variable is the portion of a program where the variable is recognized. Parameters and variables defined inside a function are not visible from outside the function. Hence, they have a local scope.\n",
    "\n",
    "The lifetime of a variable is the period throughout which the variable exits in the memory. The lifetime of variables inside a function is as long as the function executes.\n",
    "\n",
    "They are destroyed once we return from the function. Hence, a function does not remember the value of a variable from its previous calls.\n",
    "\n",
    "Here is an example to illustrate the scope of a variable inside a function."
   ]
  },
  {
   "cell_type": "code",
   "execution_count": 5,
   "metadata": {},
   "outputs": [
    {
     "name": "stdout",
     "output_type": "stream",
     "text": [
      "Value inside function: 10\n",
      "Value outside function: 20\n"
     ]
    }
   ],
   "source": [
    "def my_func():\n",
    "\tx = 10\n",
    "\tprint(\"Value inside function:\",x)\n",
    "\n",
    "x = 20\n",
    "my_func()\n",
    "print(\"Value outside function:\",x)"
   ]
  },
  {
   "cell_type": "markdown",
   "metadata": {},
   "source": [
    "Here, we can see that the value of x is 20 initially. Even though the function my_func() changed the value of x to 10, it did not affect the value outside the function.\n",
    "\n",
    "This is because the variable x inside the function is different (local to the function) from the one outside. Although they have the same names, they are two different variables with different scopes.\n",
    "\n",
    "On the other hand, variables outside of the function are visible from inside. They have a global scope.\n",
    "\n",
    "We can read these values from inside the function but cannot change (write) them. In order to modify the value of variables outside the function, they must be declared as global variables using the keyword global."
   ]
  },
  {
   "cell_type": "markdown",
   "metadata": {},
   "source": [
    "# Types of Functions"
   ]
  },
  {
   "cell_type": "markdown",
   "metadata": {},
   "source": [
    "Basically, we can divide functions into the following two types:"
   ]
  },
  {
   "cell_type": "markdown",
   "metadata": {},
   "source": [
    "1. Built-in-functions => Functions that are built into Python.\n",
    "2. User-defined functions => Functions defined by the users themselves."
   ]
  },
  {
   "cell_type": "markdown",
   "metadata": {},
   "source": [
    "# Python Function Arguments"
   ]
  },
  {
   "cell_type": "markdown",
   "metadata": {},
   "source": [
    "In the user-defined function topic, we learned about defining a function and calling it. Otherwise, the function call will result in an error. Here is an example."
   ]
  },
  {
   "cell_type": "code",
   "execution_count": 6,
   "metadata": {},
   "outputs": [
    {
     "name": "stdout",
     "output_type": "stream",
     "text": [
      "Hello Monica, Good morning!\n"
     ]
    }
   ],
   "source": [
    "def greet(name, msg):\n",
    "    \"\"\"This function greets to\n",
    "    the person with the provided message\"\"\"\n",
    "    print(\"Hello\", name + ', ' + msg)\n",
    "\n",
    "greet(\"Monica\", \"Good morning!\")"
   ]
  },
  {
   "cell_type": "markdown",
   "metadata": {},
   "source": [
    "Here, the function greet() has two parameters.\n",
    "\n",
    "Since we have called this function with two arguments, it runs smoothly and we do not get any error.\n",
    "\n",
    "If we call it with a different number of arguments, the interpreter will show an error message. Below is a call to this function with one and no arguments along with their respective error messages."
   ]
  },
  {
   "cell_type": "code",
   "execution_count": 7,
   "metadata": {},
   "outputs": [
    {
     "ename": "TypeError",
     "evalue": "greet() missing 1 required positional argument: 'msg'",
     "output_type": "error",
     "traceback": [
      "\u001b[0;31m---------------------------------------------------------------------------\u001b[0m",
      "\u001b[0;31mTypeError\u001b[0m                                 Traceback (most recent call last)",
      "\u001b[0;32m<ipython-input-7-c4428734d52c>\u001b[0m in \u001b[0;36m<module>\u001b[0;34m\u001b[0m\n\u001b[0;32m----> 1\u001b[0;31m \u001b[0mgreet\u001b[0m\u001b[0;34m(\u001b[0m\u001b[0;34m\"Monica\"\u001b[0m\u001b[0;34m)\u001b[0m    \u001b[0;31m# only one argument\u001b[0m\u001b[0;34m\u001b[0m\u001b[0;34m\u001b[0m\u001b[0m\n\u001b[0m",
      "\u001b[0;31mTypeError\u001b[0m: greet() missing 1 required positional argument: 'msg'"
     ]
    }
   ],
   "source": [
    "greet(\"Monica\")    # only one argument"
   ]
  },
  {
   "cell_type": "markdown",
   "metadata": {},
   "source": [
    "# Variable Function Arguments"
   ]
  },
  {
   "cell_type": "markdown",
   "metadata": {},
   "source": [
    "Up until now, functions had a fixed number of arguments. In Python, there are other ways to define a function that can take variable number of arguments.\n",
    "\n",
    "Three different forms of this type are described below."
   ]
  },
  {
   "cell_type": "markdown",
   "metadata": {},
   "source": [
    "# Python Default Arguments"
   ]
  },
  {
   "cell_type": "markdown",
   "metadata": {},
   "source": [
    "Function arguments can have default values in Python.\n",
    "\n",
    "We can provide a default value to an argument by using the assignment operator (=). Here is an example."
   ]
  },
  {
   "cell_type": "code",
   "execution_count": 8,
   "metadata": {},
   "outputs": [
    {
     "name": "stdout",
     "output_type": "stream",
     "text": [
      "Hello Kate, Good morning!\n",
      "Hello Bruce, How do you do?\n"
     ]
    }
   ],
   "source": [
    "def greet(name, msg=\"Good morning!\"):\n",
    "    \"\"\"\n",
    "    This function greets to\n",
    "    the person with the\n",
    "    provided message.\n",
    "\n",
    "    If the message is not provided,\n",
    "    it defaults to \"Good\n",
    "    morning!\"\n",
    "    \"\"\"\n",
    "\n",
    "    print(\"Hello\", name + ', ' + msg)\n",
    "\n",
    "\n",
    "greet(\"Kate\")\n",
    "greet(\"Bruce\", \"How do you do?\")"
   ]
  },
  {
   "cell_type": "markdown",
   "metadata": {},
   "source": [
    "In this function, the parameter name does not have a default value and is required (mandatory) during a call.\n",
    "\n",
    "On the other hand, the parameter msg has a default value of \"Good morning!\". So, it is optional during a call. If a value is provided, it will overwrite the default value.\n",
    "\n",
    "Any number of arguments in a function can have a default value. But once we have a default argument, all the arguments to its right must also have default values.\n",
    "\n",
    "This means to say, non-default arguments cannot follow default arguments. For example, if we had defined the function header above as:"
   ]
  },
  {
   "cell_type": "code",
   "execution_count": 9,
   "metadata": {},
   "outputs": [
    {
     "ename": "SyntaxError",
     "evalue": "unexpected EOF while parsing (<ipython-input-9-5e1a2b374d62>, line 1)",
     "output_type": "error",
     "traceback": [
      "\u001b[0;36m  File \u001b[0;32m\"<ipython-input-9-5e1a2b374d62>\"\u001b[0;36m, line \u001b[0;32m1\u001b[0m\n\u001b[0;31m    def greet(msg = \"Good morning!\", name):\u001b[0m\n\u001b[0m                                           ^\u001b[0m\n\u001b[0;31mSyntaxError\u001b[0m\u001b[0;31m:\u001b[0m unexpected EOF while parsing\n"
     ]
    }
   ],
   "source": [
    "def greet(msg = \"Good morning!\", name):"
   ]
  },
  {
   "cell_type": "markdown",
   "metadata": {},
   "source": [
    "# Python Keyword Arguments"
   ]
  },
  {
   "cell_type": "markdown",
   "metadata": {},
   "source": [
    "When we call a function with some values, these values get assigned to the arguments according to their position.\n",
    "\n",
    "For example, in the above function greet(), when we called it as greet(\"Bruce\", \"How do you do?\"), the value \"Bruce\" gets assigned to the argument name and similarly \"How do you do?\" to msg.\n",
    "\n",
    "Python allows functions to be called using keyword arguments. When we call functions in this way, the order (position) of the arguments can be changed. Following calls to the above function are all valid and produce the same result."
   ]
  },
  {
   "cell_type": "code",
   "execution_count": 10,
   "metadata": {},
   "outputs": [
    {
     "ename": "SyntaxError",
     "evalue": "invalid syntax (<ipython-input-10-9e2c2f334d3d>, line 7)",
     "output_type": "error",
     "traceback": [
      "\u001b[0;36m  File \u001b[0;32m\"<ipython-input-10-9e2c2f334d3d>\"\u001b[0;36m, line \u001b[0;32m7\u001b[0m\n\u001b[0;31m    1 positional, 1 keyword argument\u001b[0m\n\u001b[0m               ^\u001b[0m\n\u001b[0;31mSyntaxError\u001b[0m\u001b[0;31m:\u001b[0m invalid syntax\n"
     ]
    }
   ],
   "source": [
    "# 2 keyword arguments\n",
    "greet(name = \"Bruce\",msg = \"How do you do?\")\n",
    "\n",
    "# 2 keyword arguments (out of order)\n",
    "greet(msg = \"How do you do?\",name = \"Bruce\") \n",
    "\n",
    "1 positional, 1 keyword argument\n",
    "greet(\"Bruce\", msg = \"How do you do?\")     "
   ]
  },
  {
   "cell_type": "markdown",
   "metadata": {},
   "source": [
    "As we can see, we can mix positional arguments with keyword arguments during a function call. But we must keep in mind that keyword arguments must follow positional arguments."
   ]
  },
  {
   "cell_type": "markdown",
   "metadata": {},
   "source": [
    "# Python Arbitrary Arguments"
   ]
  },
  {
   "cell_type": "markdown",
   "metadata": {},
   "source": [
    "Sometimes, we do not know in advance the number of arguments that will be passed into a function. Python allows us to handle this kind of situation through function calls with an arbitrary number of arguments.\n",
    "\n",
    "In the function definition, we use an asterisk (*) before the parameter name to denote this kind of argument. Here is an example."
   ]
  },
  {
   "cell_type": "code",
   "execution_count": 11,
   "metadata": {},
   "outputs": [
    {
     "name": "stdout",
     "output_type": "stream",
     "text": [
      "Hello Monica\n",
      "Hello Luke\n",
      "Hello Steve\n",
      "Hello John\n"
     ]
    }
   ],
   "source": [
    "def greet(*names):\n",
    "    \"\"\"This function greets all\n",
    "    the person in the names tuple.\"\"\"\n",
    "\n",
    "    # names is a tuple with arguments\n",
    "    for name in names:\n",
    "        print(\"Hello\", name)\n",
    "\n",
    "\n",
    "greet(\"Monica\", \"Luke\", \"Steve\", \"John\")"
   ]
  },
  {
   "cell_type": "markdown",
   "metadata": {},
   "source": [
    "Here, we have called the function with multiple arguments. These arguments get wrapped up into a tuple before being passed into the function. Inside the function, we use a for loop to retrieve all the arguments back."
   ]
  },
  {
   "cell_type": "markdown",
   "metadata": {},
   "source": [
    "# Python Recursion"
   ]
  },
  {
   "cell_type": "markdown",
   "metadata": {},
   "source": [
    "Recursion is the process of defining something in terms of itself.\n",
    "\n",
    "A physical world example would be to place two parallel mirrors facing each other. Any object in between them would be reflected recursively."
   ]
  },
  {
   "cell_type": "markdown",
   "metadata": {},
   "source": [
    "# Python Recursive Function"
   ]
  },
  {
   "cell_type": "markdown",
   "metadata": {},
   "source": [
    "In Python, we know that a function can call other functions. It is even possible for the function to call itself. These type of construct are termed as recursive functions.\n",
    "\n",
    "Following is an example of a recursive function to find the factorial of an integer.\n",
    "\n",
    "Factorial of a number is the product of all the integers from 1 to that number. For example, the factorial of 6 (denoted as 6!) is 1x2x3x4x5x6 = 720."
   ]
  },
  {
   "cell_type": "markdown",
   "metadata": {},
   "source": [
    "Example of a recursive function"
   ]
  },
  {
   "cell_type": "code",
   "execution_count": 12,
   "metadata": {},
   "outputs": [
    {
     "name": "stdout",
     "output_type": "stream",
     "text": [
      "The factorial of 4 is 24\n"
     ]
    }
   ],
   "source": [
    "def calc_factorial(x):\n",
    "    \"\"\"This is a recursive function\n",
    "    to find the factorial of an integer\"\"\"\n",
    "\n",
    "    if x == 1:\n",
    "        return 1\n",
    "    else:\n",
    "        return (x * calc_factorial(x-1))\n",
    "\n",
    "\n",
    "num = 4\n",
    "print(\"The factorial of\", num, \"is\", calc_factorial(num))"
   ]
  },
  {
   "cell_type": "markdown",
   "metadata": {},
   "source": [
    "In the above example, calc_factorial() is a recursive function as it calls itself.\n",
    "\n",
    "When we call this function with a positive integer, it will recursively call itself by decreasing the number."
   ]
  },
  {
   "cell_type": "markdown",
   "metadata": {},
   "source": [
    "Each function calls multiples the number with the factorial of the number below it until it is equal to one."
   ]
  },
  {
   "cell_type": "code",
   "execution_count": null,
   "metadata": {},
   "outputs": [],
   "source": [
    "calc_factorial(4)              # 1st call with 4\n",
    "4 * calc_factorial(3)          # 2nd call with 3\n",
    "4 * 3 * calc_factorial(2)      # 3rd call with 2\n",
    "4 * 3 * 2 * calc_factorial(1)  # 4th call with 1\n",
    "4 * 3 * 2 * 1                  # return from 4th call as number=1\n",
    "4 * 3 * 2                      # return from 3rd call\n",
    "4 * 6                          # return from 2nd call\n",
    "24                             # return from 1st call"
   ]
  },
  {
   "cell_type": "markdown",
   "metadata": {},
   "source": [
    "Our recursion ends when the number reduces to 1. This is called the base condition.\n",
    "\n",
    "Every recursive function must have a base condition that stops the recursion or else the function calls itself infinitely.\n",
    "\n",
    "The Python interpreter limits the depths of recursion to help avoid infinite recursions, resulting in stack overflows.\n",
    "\n",
    "By default, the maximum depth of recursion is 1000. If the limit is crossed, it results in RecursionError. Let's look at one such condition."
   ]
  },
  {
   "cell_type": "code",
   "execution_count": 13,
   "metadata": {},
   "outputs": [
    {
     "ename": "RecursionError",
     "evalue": "maximum recursion depth exceeded",
     "output_type": "error",
     "traceback": [
      "\u001b[0;31m---------------------------------------------------------------------------\u001b[0m",
      "\u001b[0;31mRecursionError\u001b[0m                            Traceback (most recent call last)",
      "\u001b[0;32m<ipython-input-13-3ec8c6652eef>\u001b[0m in \u001b[0;36m<module>\u001b[0;34m\u001b[0m\n\u001b[1;32m      1\u001b[0m \u001b[0;32mdef\u001b[0m \u001b[0mrecursor\u001b[0m\u001b[0;34m(\u001b[0m\u001b[0;34m)\u001b[0m\u001b[0;34m:\u001b[0m\u001b[0;34m\u001b[0m\u001b[0;34m\u001b[0m\u001b[0m\n\u001b[1;32m      2\u001b[0m     \u001b[0mrecursor\u001b[0m\u001b[0;34m(\u001b[0m\u001b[0;34m)\u001b[0m\u001b[0;34m\u001b[0m\u001b[0;34m\u001b[0m\u001b[0m\n\u001b[0;32m----> 3\u001b[0;31m \u001b[0mrecursor\u001b[0m\u001b[0;34m(\u001b[0m\u001b[0;34m)\u001b[0m\u001b[0;34m\u001b[0m\u001b[0;34m\u001b[0m\u001b[0m\n\u001b[0m",
      "\u001b[0;32m<ipython-input-13-3ec8c6652eef>\u001b[0m in \u001b[0;36mrecursor\u001b[0;34m()\u001b[0m\n\u001b[1;32m      1\u001b[0m \u001b[0;32mdef\u001b[0m \u001b[0mrecursor\u001b[0m\u001b[0;34m(\u001b[0m\u001b[0;34m)\u001b[0m\u001b[0;34m:\u001b[0m\u001b[0;34m\u001b[0m\u001b[0;34m\u001b[0m\u001b[0m\n\u001b[0;32m----> 2\u001b[0;31m     \u001b[0mrecursor\u001b[0m\u001b[0;34m(\u001b[0m\u001b[0;34m)\u001b[0m\u001b[0;34m\u001b[0m\u001b[0;34m\u001b[0m\u001b[0m\n\u001b[0m\u001b[1;32m      3\u001b[0m \u001b[0mrecursor\u001b[0m\u001b[0;34m(\u001b[0m\u001b[0;34m)\u001b[0m\u001b[0;34m\u001b[0m\u001b[0;34m\u001b[0m\u001b[0m\n",
      "... last 1 frames repeated, from the frame below ...\n",
      "\u001b[0;32m<ipython-input-13-3ec8c6652eef>\u001b[0m in \u001b[0;36mrecursor\u001b[0;34m()\u001b[0m\n\u001b[1;32m      1\u001b[0m \u001b[0;32mdef\u001b[0m \u001b[0mrecursor\u001b[0m\u001b[0;34m(\u001b[0m\u001b[0;34m)\u001b[0m\u001b[0;34m:\u001b[0m\u001b[0;34m\u001b[0m\u001b[0;34m\u001b[0m\u001b[0m\n\u001b[0;32m----> 2\u001b[0;31m     \u001b[0mrecursor\u001b[0m\u001b[0;34m(\u001b[0m\u001b[0;34m)\u001b[0m\u001b[0;34m\u001b[0m\u001b[0;34m\u001b[0m\u001b[0m\n\u001b[0m\u001b[1;32m      3\u001b[0m \u001b[0mrecursor\u001b[0m\u001b[0;34m(\u001b[0m\u001b[0;34m)\u001b[0m\u001b[0;34m\u001b[0m\u001b[0;34m\u001b[0m\u001b[0m\n",
      "\u001b[0;31mRecursionError\u001b[0m: maximum recursion depth exceeded"
     ]
    }
   ],
   "source": [
    "def recursor():\n",
    "    recursor()\n",
    "recursor()"
   ]
  },
  {
   "cell_type": "markdown",
   "metadata": {},
   "source": [
    "# Advantages of Recursion"
   ]
  },
  {
   "cell_type": "markdown",
   "metadata": {},
   "source": [
    "1. Recursive functions make the code look clean and elegant.\n",
    "2. A complex task can be broken down into simpler sub-problems using recursion.\n",
    "3. Sequence generation is easier with recursion than using some nested iteration."
   ]
  },
  {
   "cell_type": "markdown",
   "metadata": {},
   "source": [
    "# Disadvantages of Recursion"
   ]
  },
  {
   "cell_type": "markdown",
   "metadata": {},
   "source": [
    "1. Sometimes the logic behind recursion is hard to follow through.\n",
    "2. Recursive calls are expensive (inefficient) as they take up a lot of memory and time.\n",
    "3. Recursive functions are hard to debug."
   ]
  },
  {
   "cell_type": "markdown",
   "metadata": {},
   "source": [
    "# Python Anonymous/Lambda Function"
   ]
  },
  {
   "cell_type": "markdown",
   "metadata": {},
   "source": [
    "In Python, an anonymous function is a function that is defined without a name.\n",
    "\n",
    "While normal functions are defined using the def keyword in Python, anonymous functions are defined using the lambda keyword.\n",
    "\n",
    "Hence, anonymous functions are also called lambda functions."
   ]
  },
  {
   "cell_type": "markdown",
   "metadata": {},
   "source": [
    "# How to use lambda Functions in Python?"
   ]
  },
  {
   "cell_type": "markdown",
   "metadata": {},
   "source": [
    "A lambda function in python has the following syntax."
   ]
  },
  {
   "cell_type": "code",
   "execution_count": null,
   "metadata": {},
   "outputs": [],
   "source": [
    "lambda arguments: expression"
   ]
  },
  {
   "cell_type": "markdown",
   "metadata": {},
   "source": [
    "Lambda functions can have any number of arguments but only one expression. The expression is evaluated and returned. Lambda functions can be used wherever function objects are required."
   ]
  },
  {
   "cell_type": "markdown",
   "metadata": {},
   "source": [
    "Example of Lambda Function in python"
   ]
  },
  {
   "cell_type": "code",
   "execution_count": 15,
   "metadata": {},
   "outputs": [
    {
     "name": "stdout",
     "output_type": "stream",
     "text": [
      "10\n"
     ]
    }
   ],
   "source": [
    "# Program to show the use of lambda functions\n",
    "double = lambda x: x * 2\n",
    "\n",
    "print(double(5))"
   ]
  },
  {
   "cell_type": "markdown",
   "metadata": {},
   "source": [
    "In the above program, lambda x: x * 2 is the lambda function. Here x is the argument and x * 2 is the expression that gets evaluated and returned.\n",
    "\n",
    "This function has no name. It returns a function object which is assigned to the identifier double. We can now call it as a normal function. The statement"
   ]
  },
  {
   "cell_type": "code",
   "execution_count": null,
   "metadata": {},
   "outputs": [],
   "source": [
    "double = lambda x: x * 2"
   ]
  },
  {
   "cell_type": "markdown",
   "metadata": {},
   "source": [
    "is nearly the same as:"
   ]
  },
  {
   "cell_type": "code",
   "execution_count": 16,
   "metadata": {},
   "outputs": [],
   "source": [
    "def double(x):\n",
    "   return x * 2"
   ]
  },
  {
   "cell_type": "markdown",
   "metadata": {},
   "source": [
    "# Use of Lambda Function in python"
   ]
  },
  {
   "cell_type": "markdown",
   "metadata": {},
   "source": [
    "We use lambda functions when we require a nameless function for a short period of time.\n",
    "\n",
    "In Python, we generally use it as an argument to a higher-order function (a function that takes in other functions as arguments). Lambda functions are used along with built-in functions like filter(), map() etc."
   ]
  },
  {
   "cell_type": "markdown",
   "metadata": {},
   "source": [
    "Example use with filter()"
   ]
  },
  {
   "cell_type": "markdown",
   "metadata": {},
   "source": [
    "The filter() function in Python takes in a function and a list as arguments.\n",
    "\n",
    "The function is called with all the items in the list and a new list is returned which contains items for which the function evaluates to True.\n",
    "\n",
    "Here is an example use of filter() function to filter out only even numbers from a list."
   ]
  },
  {
   "cell_type": "code",
   "execution_count": 17,
   "metadata": {},
   "outputs": [
    {
     "name": "stdout",
     "output_type": "stream",
     "text": [
      "[4, 6, 8, 12]\n"
     ]
    }
   ],
   "source": [
    "# Program to filter out only the even items from a list\n",
    "my_list = [1, 5, 4, 6, 8, 11, 3, 12]\n",
    "\n",
    "new_list = list(filter(lambda x: (x%2 == 0) , my_list))\n",
    "\n",
    "print(new_list)"
   ]
  },
  {
   "cell_type": "markdown",
   "metadata": {},
   "source": [
    "Example use with map()"
   ]
  },
  {
   "cell_type": "markdown",
   "metadata": {},
   "source": [
    "The map() function in Python takes in a function and a list.\n",
    "\n",
    "The function is called with all the items in the list and a new list is returned which contains items returned by that function for each item.\n",
    "\n",
    "Here is an example use of map() function to double all the items in a list."
   ]
  },
  {
   "cell_type": "code",
   "execution_count": 18,
   "metadata": {},
   "outputs": [
    {
     "name": "stdout",
     "output_type": "stream",
     "text": [
      "[2, 10, 8, 12, 16, 22, 6, 24]\n"
     ]
    }
   ],
   "source": [
    "# Program to double each item in a list using map()\n",
    "\n",
    "my_list = [1, 5, 4, 6, 8, 11, 3, 12]\n",
    "\n",
    "new_list = list(map(lambda x: x * 2 , my_list))\n",
    "\n",
    "print(new_list)"
   ]
  },
  {
   "cell_type": "markdown",
   "metadata": {},
   "source": [
    "# Python Global, Local and Nonlocal variables"
   ]
  },
  {
   "cell_type": "markdown",
   "metadata": {},
   "source": [
    "In Python, a variable declared outside of the function or in global scope is known as a global variable. This means that a global variable can be accessed inside or outside of the function."
   ]
  },
  {
   "cell_type": "markdown",
   "metadata": {},
   "source": [
    "Let's see an example of how a global variable is created in Python."
   ]
  },
  {
   "cell_type": "markdown",
   "metadata": {},
   "source": [
    "Example 1: Create a Global Variable"
   ]
  },
  {
   "cell_type": "code",
   "execution_count": 19,
   "metadata": {},
   "outputs": [
    {
     "name": "stdout",
     "output_type": "stream",
     "text": [
      "x inside: global\n",
      "x outside: global\n"
     ]
    }
   ],
   "source": [
    "x = \"global\"\n",
    "\n",
    "def foo():\n",
    " print(\"x inside:\", x)\n",
    "\n",
    "foo()\n",
    "print(\"x outside:\", x)"
   ]
  },
  {
   "cell_type": "markdown",
   "metadata": {},
   "source": [
    "In the above code, we created x as a global variable and defined a foo() to print the global variable x. Finally, we call the foo() which will print the value of x.\n",
    "\n",
    "What if you want to change the value of x inside a function?"
   ]
  },
  {
   "cell_type": "code",
   "execution_count": 20,
   "metadata": {},
   "outputs": [
    {
     "ename": "UnboundLocalError",
     "evalue": "local variable 'x' referenced before assignment",
     "output_type": "error",
     "traceback": [
      "\u001b[0;31m---------------------------------------------------------------------------\u001b[0m",
      "\u001b[0;31mUnboundLocalError\u001b[0m                         Traceback (most recent call last)",
      "\u001b[0;32m<ipython-input-20-bf76ef844d11>\u001b[0m in \u001b[0;36m<module>\u001b[0;34m\u001b[0m\n\u001b[1;32m      4\u001b[0m  \u001b[0mx\u001b[0m \u001b[0;34m=\u001b[0m \u001b[0mx\u001b[0m \u001b[0;34m*\u001b[0m \u001b[0;36m2\u001b[0m\u001b[0;34m\u001b[0m\u001b[0;34m\u001b[0m\u001b[0m\n\u001b[1;32m      5\u001b[0m  \u001b[0mprint\u001b[0m\u001b[0;34m(\u001b[0m\u001b[0mx\u001b[0m\u001b[0;34m)\u001b[0m\u001b[0;34m\u001b[0m\u001b[0;34m\u001b[0m\u001b[0m\n\u001b[0;32m----> 6\u001b[0;31m \u001b[0mfoo\u001b[0m\u001b[0;34m(\u001b[0m\u001b[0;34m)\u001b[0m\u001b[0;34m\u001b[0m\u001b[0;34m\u001b[0m\u001b[0m\n\u001b[0m",
      "\u001b[0;32m<ipython-input-20-bf76ef844d11>\u001b[0m in \u001b[0;36mfoo\u001b[0;34m()\u001b[0m\n\u001b[1;32m      2\u001b[0m \u001b[0;34m\u001b[0m\u001b[0m\n\u001b[1;32m      3\u001b[0m \u001b[0;32mdef\u001b[0m \u001b[0mfoo\u001b[0m\u001b[0;34m(\u001b[0m\u001b[0;34m)\u001b[0m\u001b[0;34m:\u001b[0m\u001b[0;34m\u001b[0m\u001b[0;34m\u001b[0m\u001b[0m\n\u001b[0;32m----> 4\u001b[0;31m  \u001b[0mx\u001b[0m \u001b[0;34m=\u001b[0m \u001b[0mx\u001b[0m \u001b[0;34m*\u001b[0m \u001b[0;36m2\u001b[0m\u001b[0;34m\u001b[0m\u001b[0;34m\u001b[0m\u001b[0m\n\u001b[0m\u001b[1;32m      5\u001b[0m  \u001b[0mprint\u001b[0m\u001b[0;34m(\u001b[0m\u001b[0mx\u001b[0m\u001b[0;34m)\u001b[0m\u001b[0;34m\u001b[0m\u001b[0;34m\u001b[0m\u001b[0m\n\u001b[1;32m      6\u001b[0m \u001b[0mfoo\u001b[0m\u001b[0;34m(\u001b[0m\u001b[0;34m)\u001b[0m\u001b[0;34m\u001b[0m\u001b[0;34m\u001b[0m\u001b[0m\n",
      "\u001b[0;31mUnboundLocalError\u001b[0m: local variable 'x' referenced before assignment"
     ]
    }
   ],
   "source": [
    "x = \"global\"\n",
    "\n",
    "def foo():\n",
    " x = x * 2\n",
    " print(x)\n",
    "foo()"
   ]
  },
  {
   "cell_type": "markdown",
   "metadata": {},
   "source": [
    "The output shows an error because Python treats x as a local variable and x is also not defined inside foo().\n",
    "\n",
    "To make this work we use the global keyword."
   ]
  },
  {
   "cell_type": "markdown",
   "metadata": {},
   "source": [
    "# Local Variables"
   ]
  },
  {
   "cell_type": "markdown",
   "metadata": {},
   "source": [
    "A variable declared inside the function's body or in the local scope is known as local variable."
   ]
  },
  {
   "cell_type": "markdown",
   "metadata": {},
   "source": [
    "Example 2: Accessing local variable outside the scope"
   ]
  },
  {
   "cell_type": "code",
   "execution_count": 21,
   "metadata": {},
   "outputs": [
    {
     "ename": "NameError",
     "evalue": "name 'y' is not defined",
     "output_type": "error",
     "traceback": [
      "\u001b[0;31m---------------------------------------------------------------------------\u001b[0m",
      "\u001b[0;31mNameError\u001b[0m                                 Traceback (most recent call last)",
      "\u001b[0;32m<ipython-input-21-fa815f51422d>\u001b[0m in \u001b[0;36m<module>\u001b[0;34m\u001b[0m\n\u001b[1;32m      3\u001b[0m \u001b[0;34m\u001b[0m\u001b[0m\n\u001b[1;32m      4\u001b[0m \u001b[0mfoo\u001b[0m\u001b[0;34m(\u001b[0m\u001b[0;34m)\u001b[0m\u001b[0;34m\u001b[0m\u001b[0;34m\u001b[0m\u001b[0m\n\u001b[0;32m----> 5\u001b[0;31m \u001b[0mprint\u001b[0m\u001b[0;34m(\u001b[0m\u001b[0my\u001b[0m\u001b[0;34m)\u001b[0m\u001b[0;34m\u001b[0m\u001b[0;34m\u001b[0m\u001b[0m\n\u001b[0m",
      "\u001b[0;31mNameError\u001b[0m: name 'y' is not defined"
     ]
    }
   ],
   "source": [
    "def foo():\n",
    " y = \"local\"\n",
    "\n",
    "foo()\n",
    "print(y)"
   ]
  },
  {
   "cell_type": "markdown",
   "metadata": {},
   "source": [
    "The output shows an error because we are trying to access a local variable y in a global scope whereas the local variable only works inside foo() or local scope."
   ]
  },
  {
   "cell_type": "markdown",
   "metadata": {},
   "source": [
    "Example 3: Create a Local Variable"
   ]
  },
  {
   "cell_type": "markdown",
   "metadata": {},
   "source": [
    "Normally, we declare a variable inside the function to create a local variable."
   ]
  },
  {
   "cell_type": "code",
   "execution_count": 22,
   "metadata": {},
   "outputs": [
    {
     "name": "stdout",
     "output_type": "stream",
     "text": [
      "local\n"
     ]
    }
   ],
   "source": [
    "def foo():\n",
    " y = \"local\"\n",
    " print(y)\n",
    "\n",
    "foo()"
   ]
  },
  {
   "cell_type": "markdown",
   "metadata": {},
   "source": [
    "# Global and local variables"
   ]
  },
  {
   "cell_type": "markdown",
   "metadata": {},
   "source": [
    "Here, we will show how to use global variables and local variables in the same code."
   ]
  },
  {
   "cell_type": "markdown",
   "metadata": {},
   "source": [
    "Example 4: Using Global and Local variables in the same code"
   ]
  },
  {
   "cell_type": "code",
   "execution_count": 23,
   "metadata": {},
   "outputs": [
    {
     "name": "stdout",
     "output_type": "stream",
     "text": [
      "globalglobal\n",
      "local\n"
     ]
    }
   ],
   "source": [
    "x = \"global\"\n",
    "\n",
    "def foo():\n",
    " global x\n",
    " y = \"local\"\n",
    " x = x * 2\n",
    " print(x)\n",
    " print(y)\n",
    " \n",
    "foo()"
   ]
  },
  {
   "cell_type": "markdown",
   "metadata": {},
   "source": [
    "In the above code, we declare x as a global and y as a local variable in the foo(). Then, we use multiplication operator * to modify the global variable x and we print both x and y.\n",
    "\n",
    "After calling the foo(), the value of x becomes global global because we used the x * 2 to print two times global. After that, we print the value of local variable y i.e local."
   ]
  },
  {
   "cell_type": "markdown",
   "metadata": {},
   "source": [
    "Example 5: Global variable and Local variable with same name"
   ]
  },
  {
   "cell_type": "code",
   "execution_count": 24,
   "metadata": {},
   "outputs": [
    {
     "name": "stdout",
     "output_type": "stream",
     "text": [
      "local x: 10\n",
      "global x: 5\n"
     ]
    }
   ],
   "source": [
    "x = 5\n",
    "\n",
    "def foo():\n",
    " x = 10\n",
    " print(\"local x:\", x)\n",
    "\n",
    "foo()\n",
    "print(\"global x:\", x)"
   ]
  },
  {
   "cell_type": "markdown",
   "metadata": {},
   "source": [
    "In the above code, we used the same name x for both global variable and local variable. We get a different result when we print the same variable because the variable is declared in both scopes, i.e. the local scope inside foo() and global scope outside foo().\n",
    "\n",
    "When we print the variable inside foo() it outputs local x: 10. This is called the local scope of the variable.\n",
    "\n",
    "Similarly, when we print the variable outside the foo(), it outputs global x: 5. This is called the global scope of the variable."
   ]
  },
  {
   "cell_type": "markdown",
   "metadata": {},
   "source": [
    "# Nonlocal Variables"
   ]
  },
  {
   "cell_type": "markdown",
   "metadata": {},
   "source": [
    "Nonlocal variable are used in nested function whose local scope is not defined. This means that the variable can be neither in the local nor the global scope.\n",
    "\n",
    "Let's see an example of how a global variable is created in Python.\n",
    "\n",
    "We use nonlocal keyword to create nonlocal variable."
   ]
  },
  {
   "cell_type": "markdown",
   "metadata": {},
   "source": [
    "Example 6: Create a nonlocal variable"
   ]
  },
  {
   "cell_type": "code",
   "execution_count": 26,
   "metadata": {},
   "outputs": [
    {
     "name": "stdout",
     "output_type": "stream",
     "text": [
      "inner: nonlocal\n",
      "outer: nonlocal\n"
     ]
    }
   ],
   "source": [
    "def outer():\n",
    " x = \"local\"\n",
    " \n",
    " def inner():\n",
    "    nonlocal x\n",
    " x = \"nonlocal\"\n",
    " print(\"inner:\", x)\n",
    " \n",
    " inner()\n",
    " print(\"outer:\", x)\n",
    "\n",
    "outer()"
   ]
  },
  {
   "cell_type": "markdown",
   "metadata": {},
   "source": [
    "In the above code, there is a nested function inner(). We use nonlocal keyword to create a nonlocal variable. The inner() function is defined in the scope of another function outer()."
   ]
  },
  {
   "cell_type": "markdown",
   "metadata": {},
   "source": [
    "# Python Global Keyword "
   ]
  },
  {
   "cell_type": "markdown",
   "metadata": {},
   "source": [
    "In Python, global keyword allows you to modify the variable outside of the current scope. It is used to create a global variable and make changes to the variable in a local context."
   ]
  },
  {
   "cell_type": "markdown",
   "metadata": {},
   "source": [
    "# Rules of global Keyword"
   ]
  },
  {
   "cell_type": "markdown",
   "metadata": {},
   "source": [
    "The basic rules for global keyword in Python are:"
   ]
  },
  {
   "cell_type": "markdown",
   "metadata": {},
   "source": [
    "1. When we create a variable inside a function, it is local by default.\n",
    "2. When we define a variable outside of a function, it is global by default. You don't have to use global keyword.\n",
    "3. We use global keyword to read and write a global variable inside a function.\n",
    "4. Use of global keyword outside a function has no effect."
   ]
  },
  {
   "cell_type": "markdown",
   "metadata": {},
   "source": [
    "# Use of global Keyword"
   ]
  },
  {
   "cell_type": "markdown",
   "metadata": {},
   "source": [
    "Example 1: Accessing global Variable From Inside a Function"
   ]
  },
  {
   "cell_type": "code",
   "execution_count": 27,
   "metadata": {},
   "outputs": [
    {
     "name": "stdout",
     "output_type": "stream",
     "text": [
      "1\n"
     ]
    }
   ],
   "source": [
    "c = 1 # global variable\n",
    "\n",
    "def add():\n",
    "    print(c)\n",
    "\n",
    "add()"
   ]
  },
  {
   "cell_type": "markdown",
   "metadata": {},
   "source": [
    "However, we may have some scenarios where we need to modify the global variable from inside a function."
   ]
  },
  {
   "cell_type": "markdown",
   "metadata": {},
   "source": [
    "Example 2: Modifying Global Variable From Inside the Function"
   ]
  },
  {
   "cell_type": "code",
   "execution_count": 28,
   "metadata": {},
   "outputs": [
    {
     "ename": "UnboundLocalError",
     "evalue": "local variable 'c' referenced before assignment",
     "output_type": "error",
     "traceback": [
      "\u001b[0;31m---------------------------------------------------------------------------\u001b[0m",
      "\u001b[0;31mUnboundLocalError\u001b[0m                         Traceback (most recent call last)",
      "\u001b[0;32m<ipython-input-28-10710404b9bd>\u001b[0m in \u001b[0;36m<module>\u001b[0;34m\u001b[0m\n\u001b[1;32m      5\u001b[0m     \u001b[0mprint\u001b[0m\u001b[0;34m(\u001b[0m\u001b[0mc\u001b[0m\u001b[0;34m)\u001b[0m\u001b[0;34m\u001b[0m\u001b[0;34m\u001b[0m\u001b[0m\n\u001b[1;32m      6\u001b[0m \u001b[0;34m\u001b[0m\u001b[0m\n\u001b[0;32m----> 7\u001b[0;31m \u001b[0madd\u001b[0m\u001b[0;34m(\u001b[0m\u001b[0;34m)\u001b[0m\u001b[0;34m\u001b[0m\u001b[0;34m\u001b[0m\u001b[0m\n\u001b[0m",
      "\u001b[0;32m<ipython-input-28-10710404b9bd>\u001b[0m in \u001b[0;36madd\u001b[0;34m()\u001b[0m\n\u001b[1;32m      2\u001b[0m \u001b[0;34m\u001b[0m\u001b[0m\n\u001b[1;32m      3\u001b[0m \u001b[0;32mdef\u001b[0m \u001b[0madd\u001b[0m\u001b[0;34m(\u001b[0m\u001b[0;34m)\u001b[0m\u001b[0;34m:\u001b[0m\u001b[0;34m\u001b[0m\u001b[0;34m\u001b[0m\u001b[0m\n\u001b[0;32m----> 4\u001b[0;31m     \u001b[0mc\u001b[0m \u001b[0;34m=\u001b[0m \u001b[0mc\u001b[0m \u001b[0;34m+\u001b[0m \u001b[0;36m2\u001b[0m \u001b[0;31m# increment c by 2\u001b[0m\u001b[0;34m\u001b[0m\u001b[0;34m\u001b[0m\u001b[0m\n\u001b[0m\u001b[1;32m      5\u001b[0m     \u001b[0mprint\u001b[0m\u001b[0;34m(\u001b[0m\u001b[0mc\u001b[0m\u001b[0;34m)\u001b[0m\u001b[0;34m\u001b[0m\u001b[0;34m\u001b[0m\u001b[0m\n\u001b[1;32m      6\u001b[0m \u001b[0;34m\u001b[0m\u001b[0m\n",
      "\u001b[0;31mUnboundLocalError\u001b[0m: local variable 'c' referenced before assignment"
     ]
    }
   ],
   "source": [
    "c = 1 # global variable\n",
    "    \n",
    "def add():\n",
    "    c = c + 2 # increment c by 2\n",
    "    print(c)\n",
    "\n",
    "add()"
   ]
  },
  {
   "cell_type": "markdown",
   "metadata": {},
   "source": [
    "This is because we can only access the global variable but cannot modify it from inside the function.\n",
    "\n",
    "The solution for this is to use the global keyword."
   ]
  },
  {
   "cell_type": "markdown",
   "metadata": {},
   "source": [
    "Example 3: Changing Global Variable From Inside a Function using global"
   ]
  },
  {
   "cell_type": "code",
   "execution_count": 29,
   "metadata": {},
   "outputs": [
    {
     "name": "stdout",
     "output_type": "stream",
     "text": [
      "Inside add(): 2\n",
      "In main: 2\n"
     ]
    }
   ],
   "source": [
    "c = 0 # global variable\n",
    "\n",
    "def add():\n",
    "    global c\n",
    "    c = c + 2 # increment by 2\n",
    "    print(\"Inside add():\", c)\n",
    "\n",
    "add()\n",
    "print(\"In main:\", c)"
   ]
  },
  {
   "cell_type": "markdown",
   "metadata": {},
   "source": [
    "In the above program, we define c as a global keyword inside the add() function.\n",
    "\n",
    "Then, we increment the variable c by 1, i.e c = c + 2. After that, we call the add() function. Finally, we print the global variable c.\n",
    "\n",
    "As we can see, change also occurred on the global variable outside the function, c = 2.\n"
   ]
  },
  {
   "cell_type": "markdown",
   "metadata": {},
   "source": [
    "# Global in Nested Functions"
   ]
  },
  {
   "cell_type": "markdown",
   "metadata": {},
   "source": [
    "Example 5: Using a Global Variable in Nested Function"
   ]
  },
  {
   "cell_type": "code",
   "execution_count": 30,
   "metadata": {},
   "outputs": [
    {
     "name": "stdout",
     "output_type": "stream",
     "text": [
      "Before calling bar:  20\n",
      "Calling bar now\n",
      "After calling bar:  20\n",
      "x in main:  25\n"
     ]
    }
   ],
   "source": [
    "def foo():\n",
    "    x = 20\n",
    "\n",
    "    def bar():\n",
    "        global x\n",
    "        x = 25\n",
    "    \n",
    "    print(\"Before calling bar: \", x)\n",
    "    print(\"Calling bar now\")\n",
    "    bar()\n",
    "    print(\"After calling bar: \", x)\n",
    "\n",
    "foo()\n",
    "print(\"x in main: \", x)"
   ]
  },
  {
   "cell_type": "markdown",
   "metadata": {},
   "source": [
    "In the above program, we declared a global variable inside the nested function bar(). Inside foo() function, x has no effect of the global keyword.\n",
    "\n",
    "Before and after calling bar(), the variable x takes the value of local variable i.e x = 20. Outside of the foo() function, the variable x will take value defined in the bar() function i.e x = 25. This is because we have used global keyword in x to create global variable inside the bar() function (local scope).\n",
    "\n",
    "If we make any changes inside the bar() function, the changes appear outside the local scope, i.e. foo()."
   ]
  },
  {
   "cell_type": "markdown",
   "metadata": {},
   "source": [
    "# Python Package"
   ]
  },
  {
   "cell_type": "markdown",
   "metadata": {},
   "source": [
    "We don't usually store all of our files on our computer in the same location. We use a well-organized hierarchy of directories for easier access.\n",
    "\n",
    "Similar files are kept in the same directory, for example, we may keep all the songs in the \"music\" directory. Analogous to this, Python has packages for directories and modules for files.\n",
    "\n",
    "As our application program grows larger in size with a lot of modules, we place similar modules in one package and different modules in different packages. This makes a project (program) easy to manage and conceptually clear.\n",
    "\n",
    "Similarly, as a directory can contain subdirectories and files, a Python package can have sub-packages and modules.\n",
    "\n",
    "A directory must contain a file named __init__.py in order for Python to consider it as a package. This file can be left empty but we generally place the initialization code for that package in this file."
   ]
  },
  {
   "cell_type": "markdown",
   "metadata": {},
   "source": [
    "# Importing module from a package"
   ]
  },
  {
   "cell_type": "markdown",
   "metadata": {},
   "source": [
    "We can import modules from packages using the dot (.) operator.\n",
    "\n",
    "For example, if we want to import the start module in the above example, it can be done as follows:"
   ]
  },
  {
   "cell_type": "code",
   "execution_count": null,
   "metadata": {},
   "outputs": [],
   "source": [
    "import Game.Level.start"
   ]
  },
  {
   "cell_type": "markdown",
   "metadata": {},
   "source": [
    "Now, if this module contains a function named select_difficulty(), we must use the full name to reference it."
   ]
  },
  {
   "cell_type": "code",
   "execution_count": null,
   "metadata": {},
   "outputs": [],
   "source": [
    "Game.Level.start.select_difficulty(2)"
   ]
  },
  {
   "cell_type": "markdown",
   "metadata": {},
   "source": [
    "If this construct seems lengthy, we can import the module without the package prefix as follows:"
   ]
  },
  {
   "cell_type": "code",
   "execution_count": null,
   "metadata": {},
   "outputs": [],
   "source": [
    "from Game.Level import start"
   ]
  },
  {
   "cell_type": "markdown",
   "metadata": {},
   "source": [
    "We can now call the function simply as follows:"
   ]
  },
  {
   "cell_type": "code",
   "execution_count": null,
   "metadata": {},
   "outputs": [],
   "source": [
    "start.select_difficulty(2)"
   ]
  },
  {
   "cell_type": "markdown",
   "metadata": {},
   "source": [
    "Another way of importing just the required function (or class or variable) from a module within a package would be as follows:"
   ]
  },
  {
   "cell_type": "code",
   "execution_count": null,
   "metadata": {},
   "outputs": [],
   "source": [
    "from Game.Level.start import select_difficulty"
   ]
  },
  {
   "cell_type": "markdown",
   "metadata": {},
   "source": [
    "Now we can directly call this function."
   ]
  },
  {
   "cell_type": "code",
   "execution_count": null,
   "metadata": {},
   "outputs": [],
   "source": [
    "select_difficulty(2)"
   ]
  },
  {
   "cell_type": "markdown",
   "metadata": {},
   "source": [
    "Although easier, this method is not recommended. Using the full namespace avoids confusion and prevents two same identifier names from colliding.\n",
    "\n",
    "While importing packages, Python looks in the list of directories defined in sys.path, similar as for module search path."
   ]
  },
  {
   "cell_type": "code",
   "execution_count": null,
   "metadata": {},
   "outputs": [],
   "source": []
  }
 ],
 "metadata": {
  "kernelspec": {
   "display_name": "Python 3",
   "language": "python",
   "name": "python3"
  },
  "language_info": {
   "codemirror_mode": {
    "name": "ipython",
    "version": 3
   },
   "file_extension": ".py",
   "mimetype": "text/x-python",
   "name": "python",
   "nbconvert_exporter": "python",
   "pygments_lexer": "ipython3",
   "version": "3.7.4"
  }
 },
 "nbformat": 4,
 "nbformat_minor": 2
}
