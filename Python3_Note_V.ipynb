{
 "cells": [
  {
   "cell_type": "markdown",
   "metadata": {},
   "source": [
    "# Python File I/O"
   ]
  },
  {
   "cell_type": "markdown",
   "metadata": {},
   "source": [
    "File is a named location on disk to store related information. It is used to permanently store data in a non-volatile memory (e.g. hard disk).\n",
    "\n",
    "Since, random access memory (RAM) is volatile which loses its data when computer is turned off, we use files for future use of the data.\n",
    "\n",
    "When we want to read from or write to a file we need to open it first. When we are done, it needs to be closed, so that resources that are tied with the file are freed.\n",
    "\n",
    "Hence, in Python, a file operation takes place in the following order."
   ]
  },
  {
   "cell_type": "markdown",
   "metadata": {},
   "source": [
    "1. Open a file\n",
    "2. Read or Write(perform an operation)\n",
    "3. Close the file"
   ]
  },
  {
   "cell_type": "markdown",
   "metadata": {},
   "source": [
    "# How to open a file?"
   ]
  },
  {
   "cell_type": "markdown",
   "metadata": {},
   "source": [
    "Python has a built-in function open() to open a file. This function returns a file object, also called a handle, as it is used to read or modify the file accordingly."
   ]
  },
  {
   "cell_type": "code",
   "execution_count": null,
   "metadata": {},
   "outputs": [],
   "source": [
    "f = open(\"test.txt\")    # open file in current directory\n",
    "f = open(\"C:/Python33/README.txt\")  # specifying full path"
   ]
  },
  {
   "cell_type": "markdown",
   "metadata": {},
   "source": [
    "We can specify the mode while opening a file. In mode, we specify whether we want to read 'r', write 'w' or append 'a' to the file. We also specify if we want to open the file in text mode or binary mode.\n",
    "\n",
    "The default is reading in text mode. In this mode, we get strings when reading from the file.\n",
    "\n",
    "On the other hand, binary mode returns bytes and this is the mode to be used when dealing with non-text files like image or exe files."
   ]
  },
  {
   "cell_type": "markdown",
   "metadata": {},
   "source": [
    "1. 'r' => Open a file for reading. (default)\n",
    "2. 'w' => Open a file for writing. Creates a new file if it does not exist or truncates the file if it exists.\n",
    "3. 'x' => Open a file for exclusive creation. If the file already exists, the operation fails.\n",
    "4. 'a' => Open for appending at the end of the file without truncating it. Creates a new file if it does not exist.\n",
    "5. 't' => Open in text mode. (default)\n",
    "6. 'b' => Open in binary mode.\n",
    "7. '+' => Open a file for updating (reading and writing)"
   ]
  },
  {
   "cell_type": "code",
   "execution_count": null,
   "metadata": {},
   "outputs": [],
   "source": [
    "f = open(\"test.txt\")      # equivalent to 'r' or 'rt'\n",
    "f = open(\"test.txt\",'w')  # write in text mode\n",
    "f = open(\"img.bmp\",'r+b') # read and write in binary mode"
   ]
  },
  {
   "cell_type": "markdown",
   "metadata": {},
   "source": [
    "Unlike other languages, the character 'a' does not imply the number 97 until it is encoded using ASCII (or other equivalent encodings).\n",
    "\n",
    "Moreover, the default encoding is platform dependent. In windows, it is 'cp1252' but 'utf-8' in Linux.\n",
    "\n",
    "So, we must not also rely on the default encoding or else our code will behave differently in different platforms.\n",
    "\n",
    "Hence, when working with files in text mode, it is highly recommended to specify the encoding type.\n",
    "\n"
   ]
  },
  {
   "cell_type": "code",
   "execution_count": null,
   "metadata": {},
   "outputs": [],
   "source": [
    "f = open(\"test.txt\",mode = 'r',encoding = 'utf-8')"
   ]
  },
  {
   "cell_type": "markdown",
   "metadata": {},
   "source": [
    "# How to close a file Using Python?"
   ]
  },
  {
   "cell_type": "markdown",
   "metadata": {},
   "source": [
    "When we are done with operations to the file, we need to properly close the file.\n",
    "\n",
    "Closing a file will free up the resources that were tied with the file and is done using Python close() method.\n",
    "\n",
    "Python has a garbage collector to clean up unreferenced objects but, we must not rely on it to close the file."
   ]
  },
  {
   "cell_type": "code",
   "execution_count": null,
   "metadata": {},
   "outputs": [],
   "source": [
    "f = open(\"test.txt\",encoding = 'utf-8')\n",
    "# perform file operations\n",
    "f.close()"
   ]
  },
  {
   "cell_type": "markdown",
   "metadata": {},
   "source": [
    "This method is not entirely safe. If an exception occurs when we are performing some operation with the file, the code exits without closing the file.\n",
    "\n",
    "A safer way is to use a try...finally block."
   ]
  },
  {
   "cell_type": "code",
   "execution_count": null,
   "metadata": {},
   "outputs": [],
   "source": [
    "try:\n",
    "   f = open(\"test.txt\",encoding = 'utf-8')\n",
    "   # perform file operations\n",
    "finally:\n",
    "   f.close()"
   ]
  },
  {
   "cell_type": "markdown",
   "metadata": {},
   "source": [
    "This way, we are guaranteed that the file is properly closed even if an exception is raised, causing program flow to stop.\n",
    "\n",
    "The best way to do this is using the with statement. This ensures that the file is closed when the block inside with is exited.\n",
    "\n",
    "We don't need to explicitly call the close() method. It is done internally."
   ]
  },
  {
   "cell_type": "code",
   "execution_count": null,
   "metadata": {},
   "outputs": [],
   "source": [
    "with open(\"test.txt\",encoding = 'utf-8') as f:\n",
    "   # perform file operations"
   ]
  },
  {
   "cell_type": "markdown",
   "metadata": {},
   "source": [
    "# How to write to File Using Python?"
   ]
  },
  {
   "cell_type": "markdown",
   "metadata": {},
   "source": [
    "In order to write into a file in Python, we need to open it in write 'w', append 'a' or exclusive creation 'x' mode.\n",
    "\n",
    "We need to be careful with the 'w' mode as it will overwrite into the file if it already exists. All previous data are erased.\n",
    "\n",
    "Writing a string or sequence of bytes (for binary files) is done using write() method. This method returns the number of characters written to the file."
   ]
  },
  {
   "cell_type": "code",
   "execution_count": null,
   "metadata": {},
   "outputs": [],
   "source": [
    "with open(\"test.txt\",'w',encoding = 'utf-8') as f:\n",
    "   f.write(\"my first file\\n\")\n",
    "   f.write(\"This file\\n\\n\")\n",
    "   f.write(\"contains three lines\\n\")"
   ]
  },
  {
   "cell_type": "markdown",
   "metadata": {},
   "source": [
    "This program will create a new file named 'test.txt' if it does not exist. If it does exist, it is overwritten.\n",
    "\n",
    "We must include the newline characters ourselves to distinguish different lines."
   ]
  },
  {
   "cell_type": "markdown",
   "metadata": {},
   "source": [
    "# How to read files in Python?"
   ]
  },
  {
   "cell_type": "markdown",
   "metadata": {},
   "source": [
    "To read a file in Python, we must open the file in reading mode.\n",
    "\n",
    "There are various methods available for this purpose. We can use the read(size) method to read in size number of data. If size parameter is not specified, it reads and returns up to the end of the file."
   ]
  },
  {
   "cell_type": "markdown",
   "metadata": {},
   "source": [
    "# Python File Methods"
   ]
  },
  {
   "cell_type": "markdown",
   "metadata": {},
   "source": [
    "There are various methods available with the file object. Some of them have been used in above examples.\n",
    "\n",
    "Here is the complete list of methods in text mode with a brief description."
   ]
  },
  {
   "cell_type": "markdown",
   "metadata": {},
   "source": [
    "1. close() => Close an open file. It has no effect if the file is already closed.\n",
    "2. detach() => Separate the underlying binary buffer from the TextIOBase and return it.\n",
    "3. fileno() => Return an integer number (file descriptor) of the file.\n",
    "4. flush() => Flush the write buffer of the file stream.\n",
    "5. isatty() => Return True if the file stream is interactive.\n",
    "6. read(n) => Read atmost n characters form the file. Reads till end of file if it is negative or None.\n",
    "7. readable() => Returns True if the file stream can be read from.\n",
    "8. readline(n=-1) => Read and return one line from the file. Reads in at most n bytes if specified.\n",
    "9. readlines(n=-1) => Read and return a list of lines from the file. Reads in at most n bytes/characters if specified.\n",
    "10. write(s) => Write string s to the file and return the number of characters written.\n",
    "11. writelines(lines) => Write a list of lines to the file."
   ]
  },
  {
   "cell_type": "markdown",
   "metadata": {},
   "source": [
    "# Python Directory and Files Management"
   ]
  },
  {
   "cell_type": "markdown",
   "metadata": {},
   "source": [
    "If there are a large number of files to handle in your Python program, you can arrange your code within different directories to make things more manageable.\n",
    "\n",
    "A directory or folder is a collection of files and sub directories. Python has the os module, which provides us with many useful methods to work with directories (and files as well)."
   ]
  },
  {
   "cell_type": "markdown",
   "metadata": {},
   "source": [
    "# Get Current Directory"
   ]
  },
  {
   "cell_type": "markdown",
   "metadata": {},
   "source": [
    "We can get the present working directory using the getcwd() method.\n",
    "\n",
    "This method returns the current working directory in the form of a string. We can also use the getcwdb() method to get it as bytes object."
   ]
  },
  {
   "cell_type": "code",
   "execution_count": 1,
   "metadata": {},
   "outputs": [
    {
     "data": {
      "text/plain": [
       "'/home/dipanjan'"
      ]
     },
     "execution_count": 1,
     "metadata": {},
     "output_type": "execute_result"
    }
   ],
   "source": [
    "import os\n",
    "\n",
    "os.getcwd()"
   ]
  },
  {
   "cell_type": "code",
   "execution_count": 2,
   "metadata": {},
   "outputs": [
    {
     "data": {
      "text/plain": [
       "b'/home/dipanjan'"
      ]
     },
     "execution_count": 2,
     "metadata": {},
     "output_type": "execute_result"
    }
   ],
   "source": [
    "os.getcwdb()"
   ]
  },
  {
   "cell_type": "markdown",
   "metadata": {},
   "source": [
    "The extra backslash implies escape sequence. The print() function will render this properly."
   ]
  },
  {
   "cell_type": "code",
   "execution_count": 3,
   "metadata": {},
   "outputs": [
    {
     "name": "stdout",
     "output_type": "stream",
     "text": [
      "/home/dipanjan\n"
     ]
    }
   ],
   "source": [
    "print(os.getcwd())"
   ]
  },
  {
   "cell_type": "markdown",
   "metadata": {},
   "source": [
    "# Changing Directory"
   ]
  },
  {
   "cell_type": "markdown",
   "metadata": {},
   "source": [
    "We can change the current working directory using the chdir() method.\n",
    "\n",
    "The new path that we want to change to must be supplied as a string to this method. We can use both forward slash (/) or the backward slash (\\) to separate path elements.\n",
    "\n",
    "It is safer to use escape sequence when using the backward slash."
   ]
  },
  {
   "cell_type": "code",
   "execution_count": null,
   "metadata": {},
   "outputs": [],
   "source": [
    "os.chdir('C:\\\\Python33')"
   ]
  },
  {
   "cell_type": "markdown",
   "metadata": {},
   "source": [
    "# List Directories and Files"
   ]
  },
  {
   "cell_type": "markdown",
   "metadata": {},
   "source": [
    "All files and sub directories inside a directory can be known using the listdir() method."
   ]
  },
  {
   "cell_type": "markdown",
   "metadata": {},
   "source": [
    "This method takes in a path and returns a list of sub directories and files in that path. If no path is specified, it returns from the current working directory."
   ]
  },
  {
   "cell_type": "code",
   "execution_count": 4,
   "metadata": {},
   "outputs": [
    {
     "name": "stdout",
     "output_type": "stream",
     "text": [
      "/home/dipanjan\n"
     ]
    }
   ],
   "source": [
    "print(os.getcwd())"
   ]
  },
  {
   "cell_type": "code",
   "execution_count": 5,
   "metadata": {},
   "outputs": [
    {
     "data": {
      "text/plain": [
       "['Dataset_numbering.csv',\n",
       " 'Untitled.ipynb',\n",
       " 'Python3_Note_V.ipynb',\n",
       " '.thunderbird',\n",
       " 'abmlInLaw.pdf',\n",
       " 'cv_dl_resource_guide.pdf',\n",
       " 'v2_Annotations_Train_mscoco',\n",
       " 'Pattern_Classification_by_Richard_O._Dud.pdf',\n",
       " 'Combined Machine Learning Algorithms.ipynb',\n",
       " 'Public',\n",
       " 'sample.jpeg',\n",
       " 'transfer-learning-keras',\n",
       " '.adobe',\n",
       " '.zoom',\n",
       " 'Music',\n",
       " 'MachineLearning_FullCourse_Codes.ipynb',\n",
       " 'Text Clustering with KMeans and TF-IDF.ipynb',\n",
       " 'sample_image.png',\n",
       " 'examples.desktop',\n",
       " '.cache',\n",
       " 'Datasets',\n",
       " '.python_history',\n",
       " 'v2_Annotations_Train_mscoco.zip',\n",
       " 'bbc',\n",
       " '.profile',\n",
       " '.ipynb_checkpoints',\n",
       " 'anaconda3',\n",
       " 'NLP and Text Mining.ipynb',\n",
       " 'Python3_Note_II.ipynb',\n",
       " 'index.png',\n",
       " 'v2_Questions_Train_mscoco.zip',\n",
       " 'ImageClef-2019-VQA-Med-Training',\n",
       " '5_6086862149068521656.pdf',\n",
       " '.conda',\n",
       " 'nltk_data',\n",
       " 'TF-IDF Calculation.ipynb',\n",
       " 'ACM',\n",
       " 'fruits',\n",
       " 'Untitled1.ipynb',\n",
       " '.sudo_as_admin_successful',\n",
       " 'v2_Questions_Train_mscoco',\n",
       " 'mozilla.pdf',\n",
       " '.dropbox-dist',\n",
       " 'Dataset_number.csv',\n",
       " 'Visual Question Answering (VQA).ipynb',\n",
       " 'Downloads',\n",
       " 'Linear Regression Legal Domain.ipynb',\n",
       " 'bbc-fulltext.zip',\n",
       " 'social-network-ads.zip',\n",
       " '.ICEauthority',\n",
       " '.config',\n",
       " 'Dropbox',\n",
       " 'snap',\n",
       " '.mozilla',\n",
       " 'DecisionTreeNew.ipynb',\n",
       " 'ACM_Datasets_Modification.ipynb',\n",
       " 'Text Clustering with BBC Dataset.ipynb',\n",
       " 'DecisionTreeAlgorithm.ipynb',\n",
       " 'Image Processing and Analysis.ipynb',\n",
       " 'OOP In Python.ipynb',\n",
       " '.ssh',\n",
       " '.bash_history',\n",
       " '.ipython',\n",
       " '.macromedia',\n",
       " 'zoo.names',\n",
       " 'fruits.zip',\n",
       " '.bashrc',\n",
       " 'Image Classification using Extracted features.ipynb',\n",
       " '.jupyter',\n",
       " 'cell_samples.csv',\n",
       " 'Python3_Note_III.ipynb',\n",
       " '.pki',\n",
       " 'Desktop',\n",
       " 'Python3_Note_IV.ipynb',\n",
       " 'headbrain.zip',\n",
       " 'Untitled2.ipynb',\n",
       " '.local',\n",
       " '.gnupg',\n",
       " 'Python3_Note_I.ipynb',\n",
       " '.keras',\n",
       " '.dropbox',\n",
       " 'Documents',\n",
       " 'AdbeRdr9.5.5-1_i386linux_enu.deb',\n",
       " 'titanic.zip',\n",
       " 'Videos',\n",
       " 'ImageClef-2019-VQA-Med-Training.zip',\n",
       " 'my_tensorflow',\n",
       " '.bash_logout',\n",
       " 'transfer-learning-keras.zip',\n",
       " 'Untitled3.ipynb',\n",
       " 'Templates',\n",
       " 'Pictures']"
      ]
     },
     "execution_count": 5,
     "metadata": {},
     "output_type": "execute_result"
    }
   ],
   "source": [
    "os.listdir()"
   ]
  },
  {
   "cell_type": "markdown",
   "metadata": {},
   "source": [
    "# Making a New Directory"
   ]
  },
  {
   "cell_type": "markdown",
   "metadata": {},
   "source": [
    "We can make a new directory using the mkdir() method.\n",
    "\n",
    "This method takes in the path of the new directory. If the full path is not specified, the new directory is created in the current working directory.\n",
    "\n"
   ]
  },
  {
   "cell_type": "code",
   "execution_count": 6,
   "metadata": {},
   "outputs": [
    {
     "data": {
      "text/plain": [
       "['Dataset_numbering.csv',\n",
       " 'Untitled.ipynb',\n",
       " 'Python3_Note_V.ipynb',\n",
       " '.thunderbird',\n",
       " 'abmlInLaw.pdf',\n",
       " 'cv_dl_resource_guide.pdf',\n",
       " 'v2_Annotations_Train_mscoco',\n",
       " 'Pattern_Classification_by_Richard_O._Dud.pdf',\n",
       " 'Combined Machine Learning Algorithms.ipynb',\n",
       " 'Public',\n",
       " 'sample.jpeg',\n",
       " 'transfer-learning-keras',\n",
       " '.adobe',\n",
       " '.zoom',\n",
       " 'Music',\n",
       " 'MachineLearning_FullCourse_Codes.ipynb',\n",
       " 'Text Clustering with KMeans and TF-IDF.ipynb',\n",
       " 'sample_image.png',\n",
       " 'examples.desktop',\n",
       " '.cache',\n",
       " 'Datasets',\n",
       " '.python_history',\n",
       " 'v2_Annotations_Train_mscoco.zip',\n",
       " 'bbc',\n",
       " '.profile',\n",
       " '.ipynb_checkpoints',\n",
       " 'anaconda3',\n",
       " 'NLP and Text Mining.ipynb',\n",
       " 'Python3_Note_II.ipynb',\n",
       " 'index.png',\n",
       " 'v2_Questions_Train_mscoco.zip',\n",
       " 'ImageClef-2019-VQA-Med-Training',\n",
       " '5_6086862149068521656.pdf',\n",
       " '.conda',\n",
       " 'nltk_data',\n",
       " 'TF-IDF Calculation.ipynb',\n",
       " 'ACM',\n",
       " 'fruits',\n",
       " 'Untitled1.ipynb',\n",
       " '.sudo_as_admin_successful',\n",
       " 'v2_Questions_Train_mscoco',\n",
       " 'mozilla.pdf',\n",
       " '.dropbox-dist',\n",
       " 'Dataset_number.csv',\n",
       " 'Visual Question Answering (VQA).ipynb',\n",
       " 'test',\n",
       " 'Downloads',\n",
       " 'Linear Regression Legal Domain.ipynb',\n",
       " 'bbc-fulltext.zip',\n",
       " 'social-network-ads.zip',\n",
       " '.ICEauthority',\n",
       " '.config',\n",
       " 'Dropbox',\n",
       " 'snap',\n",
       " '.mozilla',\n",
       " 'DecisionTreeNew.ipynb',\n",
       " 'ACM_Datasets_Modification.ipynb',\n",
       " 'Text Clustering with BBC Dataset.ipynb',\n",
       " 'DecisionTreeAlgorithm.ipynb',\n",
       " 'Image Processing and Analysis.ipynb',\n",
       " 'OOP In Python.ipynb',\n",
       " '.ssh',\n",
       " '.bash_history',\n",
       " '.ipython',\n",
       " '.macromedia',\n",
       " 'zoo.names',\n",
       " 'fruits.zip',\n",
       " '.bashrc',\n",
       " 'Image Classification using Extracted features.ipynb',\n",
       " '.jupyter',\n",
       " 'cell_samples.csv',\n",
       " 'Python3_Note_III.ipynb',\n",
       " '.pki',\n",
       " 'Desktop',\n",
       " 'Python3_Note_IV.ipynb',\n",
       " 'headbrain.zip',\n",
       " 'Untitled2.ipynb',\n",
       " '.local',\n",
       " '.gnupg',\n",
       " 'Python3_Note_I.ipynb',\n",
       " '.keras',\n",
       " '.dropbox',\n",
       " 'Documents',\n",
       " 'AdbeRdr9.5.5-1_i386linux_enu.deb',\n",
       " 'titanic.zip',\n",
       " 'Videos',\n",
       " 'ImageClef-2019-VQA-Med-Training.zip',\n",
       " 'my_tensorflow',\n",
       " '.bash_logout',\n",
       " 'transfer-learning-keras.zip',\n",
       " 'Untitled3.ipynb',\n",
       " 'Templates',\n",
       " 'Pictures']"
      ]
     },
     "execution_count": 6,
     "metadata": {},
     "output_type": "execute_result"
    }
   ],
   "source": [
    "os.mkdir('test')\n",
    "os.listdir()"
   ]
  },
  {
   "cell_type": "markdown",
   "metadata": {},
   "source": [
    "# Renaming a Directory or a File"
   ]
  },
  {
   "cell_type": "markdown",
   "metadata": {},
   "source": [
    "The rename() method can rename a directory or a file.\n",
    "\n",
    "The first argument is the old name and the new name must be supplies as the second argument."
   ]
  },
  {
   "cell_type": "code",
   "execution_count": null,
   "metadata": {},
   "outputs": [],
   "source": [
    "os.rename('test','new_one')"
   ]
  },
  {
   "cell_type": "markdown",
   "metadata": {},
   "source": [
    "# Removing Directory or File"
   ]
  },
  {
   "cell_type": "markdown",
   "metadata": {},
   "source": [
    "A file can be removed (deleted) using the remove() method.\n",
    "\n",
    "Similarly, the rmdir() method removes an empty directory."
   ]
  },
  {
   "cell_type": "code",
   "execution_count": null,
   "metadata": {},
   "outputs": [],
   "source": [
    "os.remove('old.txt')"
   ]
  },
  {
   "cell_type": "code",
   "execution_count": null,
   "metadata": {},
   "outputs": [],
   "source": [
    "os.rmdir('new_one')"
   ]
  },
  {
   "cell_type": "markdown",
   "metadata": {},
   "source": [
    "However, note that rmdir() method can only remove empty directories.\n",
    "\n",
    "In order to remove a non-empty directory we can use the rmtree() method inside the shutil module."
   ]
  },
  {
   "cell_type": "markdown",
   "metadata": {},
   "source": [
    "# Python Errors and Built-in Exceptions"
   ]
  },
  {
   "cell_type": "markdown",
   "metadata": {},
   "source": [
    "When writing a program, we, more often than not, will encounter errors.\n",
    "\n",
    "Error caused by not following the proper structure (syntax) of the language is called syntax error or parsing error."
   ]
  },
  {
   "cell_type": "code",
   "execution_count": 7,
   "metadata": {},
   "outputs": [
    {
     "ename": "SyntaxError",
     "evalue": "invalid syntax (<ipython-input-7-3e28e520013d>, line 1)",
     "output_type": "error",
     "traceback": [
      "\u001b[0;36m  File \u001b[0;32m\"<ipython-input-7-3e28e520013d>\"\u001b[0;36m, line \u001b[0;32m1\u001b[0m\n\u001b[0;31m    if a < 3\u001b[0m\n\u001b[0m            ^\u001b[0m\n\u001b[0;31mSyntaxError\u001b[0m\u001b[0;31m:\u001b[0m invalid syntax\n"
     ]
    }
   ],
   "source": [
    "if a < 3"
   ]
  },
  {
   "cell_type": "markdown",
   "metadata": {},
   "source": [
    "We can notice here that a colon is missing in the if statement.\n",
    "\n",
    "Errors can also occur at runtime and these are called exceptions. They occur, for example, when a file we try to open does not exist (FileNotFoundError), dividing a number by zero (ZeroDivisionError), module we try to import is not found (ImportError) etc.\n",
    "\n",
    "Whenever these type of runtime error occur, Python creates an exception object. If not handled properly, it prints a traceback to that error along with some details about why that error occurred."
   ]
  },
  {
   "cell_type": "code",
   "execution_count": 8,
   "metadata": {},
   "outputs": [
    {
     "ename": "ZeroDivisionError",
     "evalue": "division by zero",
     "output_type": "error",
     "traceback": [
      "\u001b[0;31m---------------------------------------------------------------------------\u001b[0m",
      "\u001b[0;31mZeroDivisionError\u001b[0m                         Traceback (most recent call last)",
      "\u001b[0;32m<ipython-input-8-bc757c3fda29>\u001b[0m in \u001b[0;36m<module>\u001b[0;34m\u001b[0m\n\u001b[0;32m----> 1\u001b[0;31m \u001b[0;36m1\u001b[0m \u001b[0;34m/\u001b[0m \u001b[0;36m0\u001b[0m\u001b[0;34m\u001b[0m\u001b[0;34m\u001b[0m\u001b[0m\n\u001b[0m",
      "\u001b[0;31mZeroDivisionError\u001b[0m: division by zero"
     ]
    }
   ],
   "source": [
    "1 / 0"
   ]
  },
  {
   "cell_type": "markdown",
   "metadata": {},
   "source": [
    "# Python Built-in Exceptions"
   ]
  },
  {
   "cell_type": "markdown",
   "metadata": {},
   "source": [
    "Illegal operations can raise exceptions. There are plenty of built-in exceptions in Python that are raised when corresponding errors occur. We can view all the built-in exceptions using the local() built-in functions as follows."
   ]
  },
  {
   "cell_type": "code",
   "execution_count": 9,
   "metadata": {},
   "outputs": [
    {
     "data": {
      "text/plain": [
       "<module 'builtins' (built-in)>"
      ]
     },
     "execution_count": 9,
     "metadata": {},
     "output_type": "execute_result"
    }
   ],
   "source": [
    "locals()['__builtins__']"
   ]
  },
  {
   "cell_type": "markdown",
   "metadata": {},
   "source": [
    "This will return us a dictionary of built-in exceptions, functions and attributes.\n",
    "\n",
    "Some of the common built-in exceptions in Python programming along with the error that cause then are tabulated below."
   ]
  },
  {
   "cell_type": "markdown",
   "metadata": {},
   "source": [
    "1. AssertionError => Raised when assert statement fails.\n",
    "2. AttributeError => Raised when attribute assignment or reference fails.\n",
    "3. EOFError => Raised when the input() functions hits end-of-file condition.\n",
    "4. FloatingPointError => Raised when a floating point operation fails.\n",
    "5. GeneratorExit => Raise when a generator's close() method is called.\n",
    "6. ImportError => Raised when the imported module is not found.\n",
    "7. IndexError => Raised when index of a sequence is out of range.\n",
    "8. KeyError => Raised when a key is not found in a dictionary.\n",
    "9. KeyboardInterrupt => Raised when the user hits interrupt key (Ctrl+c or delete).\n",
    "10. MemoryError => Raised when an operation runs out of memory.\n",
    "11. NameError => Raised when a variable is not found in local or global scope.\n",
    "12. RuntimeError => Raised when an error does not fall under any other category.\n",
    "13. SyntaxError => Raised by parser when syntax error is encountered.\n",
    "14. IndentationError => Raised when there is incorrect indentation.\n",
    "15. SystemError => Raised when interpreter detects internal error.\n",
    "16. TypeError => Raised when a function or operation is applied to an object of incorrect type.\n",
    "17. UnicodeError => Raised when a Unicode-related encoding or decoding error occurs.\n",
    "18. ValueError => Raised when a function gets argument of correct type but improper value.\n",
    "19. ZeroDivisionError => Raised when second operand of division or modulo operation is zero."
   ]
  },
  {
   "cell_type": "markdown",
   "metadata": {},
   "source": [
    "# Python Exception Handling - Try, Except and Finally"
   ]
  },
  {
   "cell_type": "markdown",
   "metadata": {},
   "source": [
    "Python has many built-in exceptions that force your program to output an error when something in the program goes wrong.\n",
    "\n",
    "When these exceptions occur, it causes the current process to stop and passes it to the calling process until it is handled. If not handled, our program will crash.\n",
    "\n",
    "For example, if function A calls function B which in turn calls function C and an exception occurs in function C. If it is not handled in C, the exception passes to B and then to A.\n",
    "\n",
    "If never handled, an error message is displayed and our program comes to a sudden unexpected halt."
   ]
  },
  {
   "cell_type": "markdown",
   "metadata": {},
   "source": [
    "# Catching Exceptions in Python"
   ]
  },
  {
   "cell_type": "markdown",
   "metadata": {},
   "source": [
    "In Python, exceptions can be handled using a try statement.\n",
    "\n",
    "A critical operation which can raise an exception is placed inside the try clause and the code that handles exceptions is written in the except clause.\n",
    "\n",
    "We can thus choose what operations to perform once we have caught the exception. Here is a simple example."
   ]
  },
  {
   "cell_type": "code",
   "execution_count": 1,
   "metadata": {},
   "outputs": [
    {
     "name": "stdout",
     "output_type": "stream",
     "text": [
      "The entry is a\n",
      "Oops! <class 'ValueError'> occured.\n",
      "Next entry.\n",
      "\n",
      "The entry is 0\n",
      "Oops! <class 'ZeroDivisionError'> occured.\n",
      "Next entry.\n",
      "\n",
      "The entry is 2\n",
      "The reciprocal of 2 is 0.5\n"
     ]
    }
   ],
   "source": [
    "# import module sys to get the type of exception\n",
    "import sys\n",
    "\n",
    "randomList = ['a', 0, 2]\n",
    "\n",
    "for entry in randomList:\n",
    "    try:\n",
    "        print(\"The entry is\", entry)\n",
    "        r = 1/int(entry)\n",
    "        break\n",
    "    except:\n",
    "        print(\"Oops!\", sys.exc_info()[0], \"occured.\")\n",
    "        print(\"Next entry.\")\n",
    "        print()\n",
    "print(\"The reciprocal of\", entry, \"is\", r)"
   ]
  },
  {
   "cell_type": "markdown",
   "metadata": {},
   "source": [
    "In this program, we loop until the user enters an integer that has a valid reciprocal. The portion that can cause an exception is placed inside the try block.\n",
    "\n",
    "If no exception occurs, the except block is skipped and normal flow continues. But if any exception occurs, it is caught by the except block.\n",
    "\n",
    "Here, we print the name of the exception using the exc_info() function inside sys module and ask the user to try again. We can see that the values a and 1.3 cause ValueError and 0 causes ZeroDivisionError."
   ]
  },
  {
   "cell_type": "markdown",
   "metadata": {},
   "source": [
    "# Catching Specific Exceptions in Python"
   ]
  },
  {
   "cell_type": "markdown",
   "metadata": {},
   "source": [
    "In the above example, we did not mention any exception in the except clause.\n",
    "\n",
    "This is not a good programming practice as it will catch all exceptions and handle every case in the same way. We can specify which exceptions an except clause will catch.\n",
    "\n",
    "A try clause can have any number of except clauses to handle them differently, but only one will be executed in case an exception occurs.\n",
    "\n",
    "We can use a tuple of values to specify multiple exceptions in an except clause. Here is an example pseudo code."
   ]
  },
  {
   "cell_type": "code",
   "execution_count": null,
   "metadata": {},
   "outputs": [],
   "source": [
    "try:\n",
    "   # do something\n",
    "   pass\n",
    "\n",
    "except ValueError:\n",
    "   # handle ValueError exception\n",
    "   pass\n",
    "\n",
    "except (TypeError, ZeroDivisionError):\n",
    "   # handle multiple exceptions\n",
    "   # TypeError and ZeroDivisionError\n",
    "   pass\n",
    "\n",
    "except:\n",
    "   # handle all other exceptions\n",
    "   pass"
   ]
  },
  {
   "cell_type": "markdown",
   "metadata": {},
   "source": [
    "# Raising Exceptions"
   ]
  },
  {
   "cell_type": "markdown",
   "metadata": {},
   "source": [
    "In Python programming, exceptions are raised when corresponding errors occur at runtime, but we can forcefully raise it using the raise keyword.\n",
    "\n",
    "We can also optionally pass values to the exception to clarify why that exception was raised."
   ]
  },
  {
   "cell_type": "code",
   "execution_count": 2,
   "metadata": {},
   "outputs": [
    {
     "ename": "KeyboardInterrupt",
     "evalue": "",
     "output_type": "error",
     "traceback": [
      "\u001b[0;31m---------------------------------------------------------------------------\u001b[0m",
      "\u001b[0;31mKeyboardInterrupt\u001b[0m                         Traceback (most recent call last)",
      "\u001b[0;32m<ipython-input-2-c761920b81b0>\u001b[0m in \u001b[0;36m<module>\u001b[0;34m\u001b[0m\n\u001b[0;32m----> 1\u001b[0;31m \u001b[0;32mraise\u001b[0m \u001b[0mKeyboardInterrupt\u001b[0m\u001b[0;34m\u001b[0m\u001b[0;34m\u001b[0m\u001b[0m\n\u001b[0m",
      "\u001b[0;31mKeyboardInterrupt\u001b[0m: "
     ]
    }
   ],
   "source": [
    "raise KeyboardInterrupt"
   ]
  },
  {
   "cell_type": "code",
   "execution_count": 3,
   "metadata": {},
   "outputs": [
    {
     "ename": "MemoryError",
     "evalue": "This is an argument",
     "output_type": "error",
     "traceback": [
      "\u001b[0;31m---------------------------------------------------------------------------\u001b[0m",
      "\u001b[0;31mMemoryError\u001b[0m                               Traceback (most recent call last)",
      "\u001b[0;32m<ipython-input-3-51782e52f201>\u001b[0m in \u001b[0;36m<module>\u001b[0;34m\u001b[0m\n\u001b[0;32m----> 1\u001b[0;31m \u001b[0;32mraise\u001b[0m \u001b[0mMemoryError\u001b[0m\u001b[0;34m(\u001b[0m\u001b[0;34m\"This is an argument\"\u001b[0m\u001b[0;34m)\u001b[0m\u001b[0;34m\u001b[0m\u001b[0;34m\u001b[0m\u001b[0m\n\u001b[0m",
      "\u001b[0;31mMemoryError\u001b[0m: This is an argument"
     ]
    }
   ],
   "source": [
    "raise MemoryError(\"This is an argument\")"
   ]
  },
  {
   "cell_type": "code",
   "execution_count": 5,
   "metadata": {},
   "outputs": [
    {
     "name": "stdout",
     "output_type": "stream",
     "text": [
      "Enter a positive integer: -1\n",
      "That is not a positive number!\n"
     ]
    }
   ],
   "source": [
    "try:\n",
    "    a = int(input(\"Enter a positive integer: \"))\n",
    "    if a <= 0:\n",
    "        raise ValueError(\"That is not a positive number!\")\n",
    "except ValueError as ve:\n",
    "    print(ve)"
   ]
  },
  {
   "cell_type": "markdown",
   "metadata": {},
   "source": [
    "# try...finally"
   ]
  },
  {
   "cell_type": "markdown",
   "metadata": {},
   "source": [
    "The try statement in Python can have an optional finally clause. This clause is executed no matter what, and is generally used to release external resources.\n",
    "\n",
    "For example, we may be connected to a remote data center through the network or working with a file or working with a Graphical User Interface (GUI).\n",
    "\n",
    "In all these circumstances, we must clean up the resource once used, whether it was successful or not. These actions (closing a file, GUI or disconnecting from network) are performed in the finally clause to guarantee the execution.\n",
    "\n",
    "Here is an example of file operations to illustrate this."
   ]
  },
  {
   "cell_type": "code",
   "execution_count": null,
   "metadata": {},
   "outputs": [],
   "source": [
    "try:\n",
    "   f = open(\"test.txt\",encoding = 'utf-8')\n",
    "   # perform file operations\n",
    "finally:\n",
    "   f.close()"
   ]
  },
  {
   "cell_type": "markdown",
   "metadata": {},
   "source": [
    "This type of construct makes sure the file is closed even if an exception occurs."
   ]
  },
  {
   "cell_type": "code",
   "execution_count": null,
   "metadata": {},
   "outputs": [],
   "source": []
  }
 ],
 "metadata": {
  "kernelspec": {
   "display_name": "Python 3",
   "language": "python",
   "name": "python3"
  },
  "language_info": {
   "codemirror_mode": {
    "name": "ipython",
    "version": 3
   },
   "file_extension": ".py",
   "mimetype": "text/x-python",
   "name": "python",
   "nbconvert_exporter": "python",
   "pygments_lexer": "ipython3",
   "version": "3.7.4"
  }
 },
 "nbformat": 4,
 "nbformat_minor": 2
}
