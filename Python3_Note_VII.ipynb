{
 "cells": [
  {
   "cell_type": "markdown",
   "metadata": {},
   "source": [
    "# Python Iterators"
   ]
  },
  {
   "cell_type": "markdown",
   "metadata": {},
   "source": [
    "# What are iterators in Python?"
   ]
  },
  {
   "cell_type": "markdown",
   "metadata": {},
   "source": [
    "Iterators are everywhere in Python. They are elegantly implemented within for loops, comprehensions, generators etc. but hidden in plain sight.\n",
    "\n",
    "Iterator in Python is simply an object that can be iterated upon. An object which will return data, one element at a time.\n",
    "\n",
    "Technically speaking, Python iterator object must implement two special methods, __iter__() and __next__(), collectively called the iterator protocol.\n",
    "\n",
    "An object is called iterable if we can get an iterator from it. Most of built-in containers in Python like: list, tuple, string etc. are iterables.\n",
    "\n",
    "The iter() function (which in turn calls the __iter__() method) returns an iterator from them."
   ]
  },
  {
   "cell_type": "markdown",
   "metadata": {},
   "source": [
    "# Iterating Through an Iterator in Python"
   ]
  },
  {
   "cell_type": "markdown",
   "metadata": {},
   "source": [
    "We use the next() function to manually iterate through all the items of an iterator. When we reach the end and there is no more data to be returned, it will raise StopIteration. Following is an example."
   ]
  },
  {
   "cell_type": "code",
   "execution_count": 1,
   "metadata": {},
   "outputs": [
    {
     "name": "stdout",
     "output_type": "stream",
     "text": [
      "4\n",
      "7\n",
      "0\n",
      "3\n"
     ]
    },
    {
     "ename": "StopIteration",
     "evalue": "",
     "output_type": "error",
     "traceback": [
      "\u001b[0;31m---------------------------------------------------------------------------\u001b[0m",
      "\u001b[0;31mStopIteration\u001b[0m                             Traceback (most recent call last)",
      "\u001b[0;32m<ipython-input-1-03ee51577cce>\u001b[0m in \u001b[0;36m<module>\u001b[0;34m\u001b[0m\n\u001b[1;32m     22\u001b[0m \u001b[0;34m\u001b[0m\u001b[0m\n\u001b[1;32m     23\u001b[0m \u001b[0;31m## This will raise error, no items left\u001b[0m\u001b[0;34m\u001b[0m\u001b[0;34m\u001b[0m\u001b[0;34m\u001b[0m\u001b[0m\n\u001b[0;32m---> 24\u001b[0;31m \u001b[0mnext\u001b[0m\u001b[0;34m(\u001b[0m\u001b[0mmy_iter\u001b[0m\u001b[0;34m)\u001b[0m\u001b[0;34m\u001b[0m\u001b[0;34m\u001b[0m\u001b[0m\n\u001b[0m",
      "\u001b[0;31mStopIteration\u001b[0m: "
     ]
    }
   ],
   "source": [
    "# define a list\n",
    "my_list = [4, 7, 0, 3]\n",
    "\n",
    "# get an iterator using iter()\n",
    "my_iter = iter(my_list)\n",
    "\n",
    "## iterate through it using next() \n",
    "\n",
    "#prints 4\n",
    "print(next(my_iter))\n",
    "\n",
    "#prints 7\n",
    "print(next(my_iter))\n",
    "\n",
    "## next(obj) is same as obj.__next__()\n",
    "\n",
    "#prints 0\n",
    "print(my_iter.__next__())\n",
    "\n",
    "#prints 3\n",
    "print(my_iter.__next__())\n",
    "\n",
    "## This will raise error, no items left\n",
    "next(my_iter)"
   ]
  },
  {
   "cell_type": "markdown",
   "metadata": {},
   "source": [
    "A more elegant way of automatically iterating is by using the for loop. Using this, we can iterate over any object that can return an iterator, for example list, string, file etc."
   ]
  },
  {
   "cell_type": "code",
   "execution_count": 2,
   "metadata": {},
   "outputs": [
    {
     "name": "stdout",
     "output_type": "stream",
     "text": [
      "4\n",
      "7\n",
      "0\n",
      "3\n"
     ]
    }
   ],
   "source": [
    "for element in my_list:\n",
    "    print(element)"
   ]
  },
  {
   "cell_type": "markdown",
   "metadata": {},
   "source": [
    "# How for loop actually works?"
   ]
  },
  {
   "cell_type": "markdown",
   "metadata": {},
   "source": [
    "As we see in the above example, the for loop was able to iterate automatically through the list.\n",
    "\n",
    "In fact the for loop can iterate over any iterable. Let's take a closer look at how the for loop is actually implemented in Python."
   ]
  },
  {
   "cell_type": "code",
   "execution_count": null,
   "metadata": {},
   "outputs": [],
   "source": [
    "for element in iterable:\n",
    "    # do something with element"
   ]
  },
  {
   "cell_type": "markdown",
   "metadata": {},
   "source": [
    "Is actually implemented as."
   ]
  },
  {
   "cell_type": "code",
   "execution_count": null,
   "metadata": {},
   "outputs": [],
   "source": [
    "# create an iterator object from that iterable\n",
    "iter_obj = iter(iterable)\n",
    "\n",
    "# infinite loop\n",
    "while True:\n",
    "    try:\n",
    "        # get the next item\n",
    "        element = next(iter_obj)\n",
    "        # do something with element\n",
    "    except StopIteration:\n",
    "        # if StopIteration is raised, break from loop\n",
    "        break"
   ]
  },
  {
   "cell_type": "markdown",
   "metadata": {},
   "source": [
    "So internally, the for loop creates an iterator object, iter_obj by calling iter() on the iterable.\n",
    "\n",
    "Ironically, this for loop is actually an infinite while loop.\n",
    "\n",
    "Inside the loop, it calls next() to get the next element and executes the body of the for loop with this value. After all the items exhaust, StopIteration is raised which is internally caught and the loop ends. Note that any other kind of exception will pass through."
   ]
  },
  {
   "cell_type": "markdown",
   "metadata": {},
   "source": [
    "# Building Your Own Iterator in Python"
   ]
  },
  {
   "cell_type": "markdown",
   "metadata": {},
   "source": [
    "Building an iterator from scratch is easy in Python. We just have to implement the methods __iter__() and __next__().\n",
    "\n",
    "The __iter__() method returns the iterator object itself. If required, some initialization can be performed.\n",
    "\n",
    "The __next__() method must return the next item in the sequence. On reaching the end, and in subsequent calls, it must raise StopIteration.\n",
    "\n",
    "Here, we show an example that will give us next power of 2 in each iteration. Power exponent starts from zero up to a user set number."
   ]
  },
  {
   "cell_type": "code",
   "execution_count": 3,
   "metadata": {},
   "outputs": [],
   "source": [
    "class PowTwo:\n",
    "    \"\"\"Class to implement an iterator\n",
    "    of powers of two\"\"\"\n",
    "\n",
    "    def __init__(self, max = 0):\n",
    "        self.max = max\n",
    "\n",
    "    def __iter__(self):\n",
    "        self.n = 0\n",
    "        return self\n",
    "\n",
    "    def __next__(self):\n",
    "        if self.n <= self.max:\n",
    "            result = 2 ** self.n\n",
    "            self.n += 1\n",
    "            return result\n",
    "        else:\n",
    "            raise StopIteration"
   ]
  },
  {
   "cell_type": "markdown",
   "metadata": {},
   "source": [
    "Now we can create an iterator and iterate through it as follows."
   ]
  },
  {
   "cell_type": "code",
   "execution_count": 4,
   "metadata": {},
   "outputs": [
    {
     "data": {
      "text/plain": [
       "1"
      ]
     },
     "execution_count": 4,
     "metadata": {},
     "output_type": "execute_result"
    }
   ],
   "source": [
    "a = PowTwo(4)\n",
    "i = iter(a)\n",
    "next(i)"
   ]
  },
  {
   "cell_type": "code",
   "execution_count": 5,
   "metadata": {},
   "outputs": [
    {
     "data": {
      "text/plain": [
       "2"
      ]
     },
     "execution_count": 5,
     "metadata": {},
     "output_type": "execute_result"
    }
   ],
   "source": [
    "next(i)"
   ]
  },
  {
   "cell_type": "code",
   "execution_count": 6,
   "metadata": {},
   "outputs": [
    {
     "data": {
      "text/plain": [
       "4"
      ]
     },
     "execution_count": 6,
     "metadata": {},
     "output_type": "execute_result"
    }
   ],
   "source": [
    "next(i)"
   ]
  },
  {
   "cell_type": "code",
   "execution_count": 7,
   "metadata": {},
   "outputs": [
    {
     "data": {
      "text/plain": [
       "8"
      ]
     },
     "execution_count": 7,
     "metadata": {},
     "output_type": "execute_result"
    }
   ],
   "source": [
    "next(i)"
   ]
  },
  {
   "cell_type": "code",
   "execution_count": 8,
   "metadata": {},
   "outputs": [
    {
     "data": {
      "text/plain": [
       "16"
      ]
     },
     "execution_count": 8,
     "metadata": {},
     "output_type": "execute_result"
    }
   ],
   "source": [
    "next(i)"
   ]
  },
  {
   "cell_type": "code",
   "execution_count": 9,
   "metadata": {},
   "outputs": [
    {
     "ename": "StopIteration",
     "evalue": "",
     "output_type": "error",
     "traceback": [
      "\u001b[0;31m---------------------------------------------------------------------------\u001b[0m",
      "\u001b[0;31mStopIteration\u001b[0m                             Traceback (most recent call last)",
      "\u001b[0;32m<ipython-input-9-a883b34d6d8a>\u001b[0m in \u001b[0;36m<module>\u001b[0;34m\u001b[0m\n\u001b[0;32m----> 1\u001b[0;31m \u001b[0mnext\u001b[0m\u001b[0;34m(\u001b[0m\u001b[0mi\u001b[0m\u001b[0;34m)\u001b[0m\u001b[0;34m\u001b[0m\u001b[0;34m\u001b[0m\u001b[0m\n\u001b[0m",
      "\u001b[0;32m<ipython-input-3-9ee5a30174e7>\u001b[0m in \u001b[0;36m__next__\u001b[0;34m(self)\u001b[0m\n\u001b[1;32m     16\u001b[0m             \u001b[0;32mreturn\u001b[0m \u001b[0mresult\u001b[0m\u001b[0;34m\u001b[0m\u001b[0;34m\u001b[0m\u001b[0m\n\u001b[1;32m     17\u001b[0m         \u001b[0;32melse\u001b[0m\u001b[0;34m:\u001b[0m\u001b[0;34m\u001b[0m\u001b[0;34m\u001b[0m\u001b[0m\n\u001b[0;32m---> 18\u001b[0;31m             \u001b[0;32mraise\u001b[0m \u001b[0mStopIteration\u001b[0m\u001b[0;34m\u001b[0m\u001b[0;34m\u001b[0m\u001b[0m\n\u001b[0m",
      "\u001b[0;31mStopIteration\u001b[0m: "
     ]
    }
   ],
   "source": [
    "next(i)"
   ]
  },
  {
   "cell_type": "markdown",
   "metadata": {},
   "source": [
    "# Python Infinite Iterators"
   ]
  },
  {
   "cell_type": "markdown",
   "metadata": {},
   "source": [
    "It is not necessary that the item in an iterator object has to exhaust. There can be infinite iterators (which never ends). We must be careful when handling such iterator.\n",
    "\n",
    "Here is a simple example to demonstrate infinite iterators.\n",
    "\n",
    "The built-in function iter() can be called with two arguments where the first argument must be a callable object (function) and second is the sentinel. The iterator calls this function until the returned value is equal to the sentinel."
   ]
  },
  {
   "cell_type": "code",
   "execution_count": 10,
   "metadata": {},
   "outputs": [
    {
     "data": {
      "text/plain": [
       "0"
      ]
     },
     "execution_count": 10,
     "metadata": {},
     "output_type": "execute_result"
    }
   ],
   "source": [
    "int()"
   ]
  },
  {
   "cell_type": "code",
   "execution_count": 11,
   "metadata": {},
   "outputs": [
    {
     "data": {
      "text/plain": [
       "0"
      ]
     },
     "execution_count": 11,
     "metadata": {},
     "output_type": "execute_result"
    }
   ],
   "source": [
    "inf = iter(int,1)\n",
    "next(inf)"
   ]
  },
  {
   "cell_type": "markdown",
   "metadata": {},
   "source": [
    "We can see that the int() function always returns 0. So passing it as iter(int,1) will return an iterator that calls int() until the returned value equals 1. This never happens and we get an infinite iterator.\n",
    "\n",
    "We can also built our own infinite iterators. The following iterator will, theoretically, return all the odd numbers."
   ]
  },
  {
   "cell_type": "code",
   "execution_count": 12,
   "metadata": {},
   "outputs": [],
   "source": [
    "class InfIter:\n",
    "    \"\"\"Infinite iterator to return all\n",
    "        odd numbers\"\"\"\n",
    "\n",
    "    def __iter__(self):\n",
    "        self.num = 1\n",
    "        return self\n",
    "\n",
    "    def __next__(self):\n",
    "        num = self.num\n",
    "        self.num += 2\n",
    "        return num"
   ]
  },
  {
   "cell_type": "markdown",
   "metadata": {},
   "source": [
    "A sample run would be as follows."
   ]
  },
  {
   "cell_type": "code",
   "execution_count": 13,
   "metadata": {},
   "outputs": [
    {
     "name": "stdout",
     "output_type": "stream",
     "text": [
      "1\n",
      "3\n",
      "5\n",
      "7\n"
     ]
    }
   ],
   "source": [
    "a = iter(InfIter())\n",
    "print(next(a))\n",
    "print(next(a))\n",
    "print(next(a))\n",
    "print(next(a))"
   ]
  },
  {
   "cell_type": "markdown",
   "metadata": {},
   "source": [
    "And so on...\n",
    "\n",
    "Be careful to include a terminating condition, when iterating over these type of infinite iterators.\n",
    "\n",
    "The advantage of using iterators is that they save resources. Like shown above, we could get all the odd numbers without storing the entire number system in memory. We can have infinite items (theoretically) in finite memory."
   ]
  },
  {
   "cell_type": "markdown",
   "metadata": {},
   "source": [
    "# Python RegEx"
   ]
  },
  {
   "cell_type": "markdown",
   "metadata": {},
   "source": [
    "A Regular Expression (RegEx) is a sequence of characters that defines a search pattern. For example,"
   ]
  },
  {
   "cell_type": "code",
   "execution_count": null,
   "metadata": {},
   "outputs": [],
   "source": [
    "^a...s$"
   ]
  },
  {
   "cell_type": "markdown",
   "metadata": {},
   "source": [
    "The above code defines a RegEx pattern. The pattern is: any five letter string starting with a and ending with s.\n",
    "\n",
    "A pattern defined using RegEx can be used to match against a string."
   ]
  },
  {
   "cell_type": "markdown",
   "metadata": {},
   "source": [
    "Python has a module named re to work with RegEx. Here's an example:"
   ]
  },
  {
   "cell_type": "code",
   "execution_count": 14,
   "metadata": {},
   "outputs": [
    {
     "name": "stdout",
     "output_type": "stream",
     "text": [
      "Search successful.\n"
     ]
    }
   ],
   "source": [
    "\n",
    "import re\n",
    "\n",
    "pattern = '^a...s$'\n",
    "test_string = 'abyss'\n",
    "result = re.match(pattern, test_string)\n",
    "\n",
    "if result:\n",
    "  print(\"Search successful.\")\n",
    "else:\n",
    "  print(\"Search unsuccessful.\")\t"
   ]
  },
  {
   "cell_type": "markdown",
   "metadata": {},
   "source": [
    "Here, we used re.match() function to search pattern within the test_string. The method returns a match object if the search is successful. If not, it returns None."
   ]
  },
  {
   "cell_type": "markdown",
   "metadata": {},
   "source": [
    "There are other several functions defined in the re module to work with RegEx. "
   ]
  },
  {
   "cell_type": "markdown",
   "metadata": {},
   "source": [
    "# Specify Pattern Using RegEx"
   ]
  },
  {
   "cell_type": "markdown",
   "metadata": {},
   "source": [
    "To specify regular expressions, metacharacters are used. In the above example, ^ and $ are metacharacters."
   ]
  },
  {
   "cell_type": "markdown",
   "metadata": {},
   "source": [
    "# MetaCharacters"
   ]
  },
  {
   "cell_type": "markdown",
   "metadata": {},
   "source": [
    "Metacharacters are characters that are interpreted in a special way by a RegEx engine. Here's a list of metacharacters:\n",
    "\n",
    "[] . ^ $ * + ? {} () \\ |"
   ]
  },
  {
   "cell_type": "markdown",
   "metadata": {},
   "source": [
    "# [] - Square brackets"
   ]
  },
  {
   "cell_type": "markdown",
   "metadata": {},
   "source": [
    "Square brackets specifies a set of characters you wish to match.\n",
    "\n",
    "1. [abc] => a => 1 match\n",
    "2. [abc] => ac => 2 matches\n",
    "3. [abc] => Hey Jude => No match\n",
    "4. [abc] => abc de ca => 5 matches"
   ]
  },
  {
   "cell_type": "markdown",
   "metadata": {},
   "source": [
    "Here, [abc] will match if the string you are trying to match contains any of the a, b or c.\n",
    "\n",
    "You can also specify a range of characters using - inside square brackets."
   ]
  },
  {
   "cell_type": "markdown",
   "metadata": {},
   "source": [
    "1. [a-e] is the same as [abcde].\n",
    "2. [1-4] is the same as [1234].\n",
    "3. [0-39] is the same as [01239]."
   ]
  },
  {
   "cell_type": "markdown",
   "metadata": {},
   "source": [
    "You can complement (invert) the character set by using caret ^ symbol at the start of a square-bracket."
   ]
  },
  {
   "cell_type": "markdown",
   "metadata": {},
   "source": [
    "1. [^abc] means any character except a or b or c.\n",
    "2. [^0-9] means any non-digit character."
   ]
  },
  {
   "cell_type": "markdown",
   "metadata": {},
   "source": [
    "# . - Period"
   ]
  },
  {
   "cell_type": "markdown",
   "metadata": {},
   "source": [
    "A period matches any single character (except newline '\\n').\n",
    "\n",
    "1. .. => a => No match\n",
    "2. .. => ac => 1 match\n",
    "3. .. => acd => 1 match\n",
    "4. .. => acde => 2 matches(contains 4 characters)"
   ]
  },
  {
   "cell_type": "markdown",
   "metadata": {},
   "source": [
    "# ^ - Caret"
   ]
  },
  {
   "cell_type": "markdown",
   "metadata": {},
   "source": [
    "The caret symbol ^ is used to check if a string starts with a certain character.\n",
    "\n",
    "1. ^a => a => 1 match\n",
    "2. ^a => abc => 1 match\n",
    "3. ^a => bac => No match\n",
    "4. ^ab => abc => 1 match\n",
    "5. ^ab => acb => No match(starts with a but not followed by b)"
   ]
  },
  {
   "cell_type": "markdown",
   "metadata": {},
   "source": [
    "# * - Star"
   ]
  },
  {
   "cell_type": "markdown",
   "metadata": {},
   "source": [
    "The star symbol * matches zero or more occurrences of the pattern left to it.\n",
    "\n",
    "1. ma*n => mn => 1 match\n",
    "2. ma*n => man => 1 match\n",
    "3. ma*n => maan => 1 match\n",
    "4. ma*n => main => No match(a is not followed by n)\n",
    "5. ma*n => woman => 1 match"
   ]
  },
  {
   "cell_type": "markdown",
   "metadata": {},
   "source": [
    "# + - Plus"
   ]
  },
  {
   "cell_type": "markdown",
   "metadata": {},
   "source": [
    "The plus symbol + matches one or more occurrences of the pattern left to it.\n",
    "\n",
    "1. ma+n => mn => No match(no a character)\n",
    "2. ma+n => man => 1 match\n",
    "3. ma+n => maan => 1 match\n",
    "4. ma+n => main => No match(a is not followed by n)\n",
    "5. ma+n => woman => 1 match"
   ]
  },
  {
   "cell_type": "markdown",
   "metadata": {},
   "source": [
    "# ? - Question Mark"
   ]
  },
  {
   "cell_type": "markdown",
   "metadata": {},
   "source": [
    "The question mark symbol ? matches zero or one occurrence of the pattern left to it.\n",
    "\n",
    "1. ma?n => mn => 1 match\n",
    "2. ma?n => man => 1 match\n",
    "3. ma?n => maaan => No match(more than one a character)\n",
    "4. ma?n => main => No match(a is not followed by n)\n",
    "5. ma?n => woman => 1 match"
   ]
  },
  {
   "cell_type": "markdown",
   "metadata": {},
   "source": [
    "# {} - Braces"
   ]
  },
  {
   "cell_type": "markdown",
   "metadata": {},
   "source": [
    "Consider this code: {n,m}. This means at least n, and at most m repetitions of the pattern left to it.\n",
    "    \n",
    "1. a{2,3} => abc dat => No match\n",
    "2. a{2,3} => abc daat => 1 match(at daat)\n",
    "3. a{2,3} => aabc daaat => 2 matches(at aabc and daaat)\n",
    "4. a{2,3} => aabc daaaat => 2 matches(at aabc and daaaat)"
   ]
  },
  {
   "cell_type": "markdown",
   "metadata": {},
   "source": [
    "Let's try one more example. This RegEx [0-9]{2, 4} matches at least 2 digits but not more than 4 digits"
   ]
  },
  {
   "cell_type": "markdown",
   "metadata": {},
   "source": [
    "1. [0-9]{2,4} => ab123csde => 1 match (match at ab123csde)\n",
    "2. [0-9]{2,4} => 12 and 345673 => 2 matches (at 12 and 345673)\n",
    "3. [0-9]{2,4} => 1 and 2 => No match"
   ]
  },
  {
   "cell_type": "markdown",
   "metadata": {},
   "source": [
    "# | - Alternation"
   ]
  },
  {
   "cell_type": "markdown",
   "metadata": {},
   "source": [
    "Vertical bar | is used for alternation (or operator)."
   ]
  },
  {
   "cell_type": "markdown",
   "metadata": {},
   "source": [
    "1. a|b => cde => No match\n",
    "2. a|b => ade => 1 match (match at ade)\n",
    "3. a|b => acdbea => 3 matches (at acdbea)"
   ]
  },
  {
   "cell_type": "markdown",
   "metadata": {},
   "source": [
    "Here, a|b match any string that contains either a or b"
   ]
  },
  {
   "cell_type": "markdown",
   "metadata": {},
   "source": [
    "# () - Group"
   ]
  },
  {
   "cell_type": "markdown",
   "metadata": {},
   "source": [
    "Parentheses () is used to group sub-patterns. For example, (a|b|c)xz match any string that matches either a or b or c followed by xz"
   ]
  },
  {
   "cell_type": "markdown",
   "metadata": {},
   "source": [
    "1. (a|b|c)xz => ab xz => No match\n",
    "2. (a|b|c)xz => abxz => 1 match(at abxz)\n",
    "3. (a|b|c)xz => axz cabxz => 2 matches (at axzbc cabxz)"
   ]
  },
  {
   "cell_type": "markdown",
   "metadata": {},
   "source": [
    "# Python RegEx"
   ]
  },
  {
   "cell_type": "markdown",
   "metadata": {},
   "source": [
    "Python has a module named re to work with regular expressions. To use it, we need to import the module."
   ]
  },
  {
   "cell_type": "code",
   "execution_count": 15,
   "metadata": {},
   "outputs": [],
   "source": [
    "import re"
   ]
  },
  {
   "cell_type": "markdown",
   "metadata": {},
   "source": [
    "The module defines several functions and constants to work with RegEx."
   ]
  },
  {
   "cell_type": "markdown",
   "metadata": {},
   "source": [
    "# re.findall()"
   ]
  },
  {
   "cell_type": "markdown",
   "metadata": {},
   "source": [
    "The re.findall() method returns a list of strings containing all matches."
   ]
  },
  {
   "cell_type": "markdown",
   "metadata": {},
   "source": [
    "Example 1: re.findall()"
   ]
  },
  {
   "cell_type": "code",
   "execution_count": 16,
   "metadata": {},
   "outputs": [
    {
     "name": "stdout",
     "output_type": "stream",
     "text": [
      "['12', '89', '34']\n"
     ]
    }
   ],
   "source": [
    "# Program to extract numbers from a string\n",
    "\n",
    "import re\n",
    "\n",
    "string = 'hello 12 hi 89. Howdy 34'\n",
    "pattern = '\\d+'\n",
    "\n",
    "result = re.findall(pattern, string) \n",
    "print(result)\n",
    "\n",
    "# Output: ['12', '89', '34']"
   ]
  },
  {
   "cell_type": "markdown",
   "metadata": {},
   "source": [
    "If the pattern is no found, re.findall() returns an empty list.\n"
   ]
  },
  {
   "cell_type": "markdown",
   "metadata": {},
   "source": [
    "# re.split()"
   ]
  },
  {
   "cell_type": "markdown",
   "metadata": {},
   "source": [
    "The re.split method splits the string where there is a match and returns a list of strings where the splits have occurred."
   ]
  },
  {
   "cell_type": "markdown",
   "metadata": {},
   "source": [
    "Example 2: re.split()"
   ]
  },
  {
   "cell_type": "code",
   "execution_count": 17,
   "metadata": {},
   "outputs": [
    {
     "name": "stdout",
     "output_type": "stream",
     "text": [
      "['Twelve:', ' Eighty nine:', '.']\n"
     ]
    }
   ],
   "source": [
    "import re\n",
    "\n",
    "string = 'Twelve:12 Eighty nine:89.'\n",
    "pattern = '\\d+'\n",
    "\n",
    "result = re.split(pattern, string) \n",
    "print(result)\n",
    "\n",
    "# Output: ['Twelve:', ' Eighty nine:', '.']"
   ]
  },
  {
   "cell_type": "markdown",
   "metadata": {},
   "source": [
    "If the pattern is no found, re.split() returns a list containing an empty string."
   ]
  },
  {
   "cell_type": "markdown",
   "metadata": {},
   "source": [
    "You can pass maxsplit argument to the re.split() method. It's the maximum number of splits that will occur."
   ]
  },
  {
   "cell_type": "code",
   "execution_count": 18,
   "metadata": {},
   "outputs": [
    {
     "name": "stdout",
     "output_type": "stream",
     "text": [
      "['Twelve:', ' Eighty nine:89 Nine:9.']\n"
     ]
    }
   ],
   "source": [
    "import re\n",
    "\n",
    "string = 'Twelve:12 Eighty nine:89 Nine:9.'\n",
    "pattern = '\\d+'\n",
    "\n",
    "# maxsplit = 1\n",
    "# split only at the first occurrence\n",
    "result = re.split(pattern, string, 1) \n",
    "print(result)\n",
    "\n",
    "# Output: ['Twelve:', ' Eighty nine:89 Nine:9.']"
   ]
  },
  {
   "cell_type": "markdown",
   "metadata": {},
   "source": [
    "By the way, the default value of maxsplit is 0; meaning all possible splits."
   ]
  },
  {
   "cell_type": "markdown",
   "metadata": {},
   "source": [
    "# re.sub()"
   ]
  },
  {
   "cell_type": "markdown",
   "metadata": {},
   "source": [
    "The syntax of re.sub() is:"
   ]
  },
  {
   "cell_type": "code",
   "execution_count": null,
   "metadata": {},
   "outputs": [],
   "source": [
    "re.sub(pattern, replace, string)"
   ]
  },
  {
   "cell_type": "markdown",
   "metadata": {},
   "source": [
    "The method returns a string where matched occurrences are replaced with the content of replace variable."
   ]
  },
  {
   "cell_type": "markdown",
   "metadata": {},
   "source": [
    "Example 3: re.sub()"
   ]
  },
  {
   "cell_type": "code",
   "execution_count": 19,
   "metadata": {},
   "outputs": [
    {
     "name": "stdout",
     "output_type": "stream",
     "text": [
      "abc12de23f456\n"
     ]
    }
   ],
   "source": [
    "# Program to remove all whitespaces\n",
    "import re\n",
    "\n",
    "# multiline string\n",
    "string = 'abc 12\\\n",
    "de 23 \\n f45 6'\n",
    "\n",
    "# matches all whitespace characters\n",
    "pattern = '\\s+'\n",
    "\n",
    "# empty string\n",
    "replace = ''\n",
    "\n",
    "new_string = re.sub(pattern, replace, string) \n",
    "print(new_string)\n",
    "\n",
    "# Output: abc12de23f456"
   ]
  },
  {
   "cell_type": "markdown",
   "metadata": {},
   "source": [
    "If the pattern is no found, re.sub() returns the original string."
   ]
  },
  {
   "cell_type": "markdown",
   "metadata": {},
   "source": [
    "You can pass count as a fourth parameter to the re.sub() method. If omited, it results to 0. This will replace all occurrences."
   ]
  },
  {
   "cell_type": "code",
   "execution_count": 20,
   "metadata": {},
   "outputs": [
    {
     "name": "stdout",
     "output_type": "stream",
     "text": [
      "abc12de 23 \n",
      " f45 6\n"
     ]
    }
   ],
   "source": [
    "\n",
    "import re\n",
    "\n",
    "# multiline string\n",
    "string = 'abc 12\\\n",
    "de 23 \\n f45 6'\n",
    "\n",
    "# matches all whitespace characters\n",
    "pattern = '\\s+'\n",
    "replace = ''\n",
    "\n",
    "new_string = re.sub(r'\\s+', replace, string, 1) \n",
    "print(new_string)\n",
    "\n",
    "# Output:\n",
    "# abc12de 23\n",
    "# f45 6"
   ]
  },
  {
   "cell_type": "markdown",
   "metadata": {},
   "source": [
    "# re.subn()"
   ]
  },
  {
   "cell_type": "markdown",
   "metadata": {},
   "source": [
    "The re.subn() is similar to re.sub() expect it returns a tuple of 2 items containing the new string and the number of substitutions made."
   ]
  },
  {
   "cell_type": "markdown",
   "metadata": {},
   "source": [
    "Example 4: re.subn()"
   ]
  },
  {
   "cell_type": "code",
   "execution_count": 21,
   "metadata": {},
   "outputs": [
    {
     "name": "stdout",
     "output_type": "stream",
     "text": [
      "('abc12de23f456', 4)\n"
     ]
    }
   ],
   "source": [
    "# Program to remove all whitespaces\n",
    "import re\n",
    "\n",
    "# multiline string\n",
    "string = 'abc 12\\\n",
    "de 23 \\n f45 6'\n",
    "\n",
    "# matches all whitespace characters\n",
    "pattern = '\\s+'\n",
    "\n",
    "# empty string\n",
    "replace = ''\n",
    "\n",
    "new_string = re.subn(pattern, replace, string) \n",
    "print(new_string)\n",
    "\n",
    "# Output: ('abc12de23f456', 4)"
   ]
  },
  {
   "cell_type": "markdown",
   "metadata": {},
   "source": [
    "# re.search()"
   ]
  },
  {
   "cell_type": "markdown",
   "metadata": {},
   "source": [
    "The re.search() method takes two arguments: a pattern and a string. The method looks for the first location where the RegEx pattern produces a match with the string.\n",
    "\n",
    "If the search is successful, re.search() returns a match object; if not, it returns None"
   ]
  },
  {
   "cell_type": "code",
   "execution_count": null,
   "metadata": {},
   "outputs": [],
   "source": [
    "match = re.search(pattern, str)"
   ]
  },
  {
   "cell_type": "markdown",
   "metadata": {},
   "source": [
    "Example 5: re.search()"
   ]
  },
  {
   "cell_type": "code",
   "execution_count": 22,
   "metadata": {},
   "outputs": [
    {
     "name": "stdout",
     "output_type": "stream",
     "text": [
      "pattern found inside the string\n"
     ]
    }
   ],
   "source": [
    "import re\n",
    "\n",
    "string = \"Python is fun\"\n",
    "\n",
    "# check if 'Python' is at the beginning\n",
    "match = re.search('\\APython', string)\n",
    "\n",
    "if match:\n",
    "  print(\"pattern found inside the string\")\n",
    "else:\n",
    "  print(\"pattern not found\")  \n",
    "\n",
    "# Output: pattern found inside the string"
   ]
  },
  {
   "cell_type": "markdown",
   "metadata": {},
   "source": [
    "Here, match contains a match object."
   ]
  },
  {
   "cell_type": "markdown",
   "metadata": {},
   "source": [
    "# Match object"
   ]
  },
  {
   "cell_type": "markdown",
   "metadata": {},
   "source": [
    "You can get methods and attributes of a match object using dir() function.\n",
    "\n",
    "Some of the commonly used methods and attributes of match objects are:"
   ]
  },
  {
   "cell_type": "markdown",
   "metadata": {},
   "source": [
    "# match.group()"
   ]
  },
  {
   "cell_type": "markdown",
   "metadata": {},
   "source": [
    "The group() method returns the part of the string where there is a match."
   ]
  },
  {
   "cell_type": "markdown",
   "metadata": {},
   "source": [
    "Example 6: Match object"
   ]
  },
  {
   "cell_type": "code",
   "execution_count": 23,
   "metadata": {},
   "outputs": [
    {
     "name": "stdout",
     "output_type": "stream",
     "text": [
      "801 35\n"
     ]
    }
   ],
   "source": [
    "import re\n",
    "\n",
    "string = '39801 356, 2102 1111'\n",
    "\n",
    "# Three digit number followed by space followed by two digit number\n",
    "pattern = '(\\d{3}) (\\d{2})'\n",
    "\n",
    "# match variable contains a Match object.\n",
    "match = re.search(pattern, string) \n",
    "\n",
    "if match:\n",
    "  print(match.group())\n",
    "else:\n",
    "  print(\"pattern not found\")\n",
    "\n",
    "# Output: 801 35"
   ]
  },
  {
   "cell_type": "markdown",
   "metadata": {},
   "source": [
    "Here, match variable contains a match object.\n",
    "\n",
    "Our pattern (\\d{3}) (\\d{2}) has two subgroups (\\d{3}) and (\\d{2}). You can get the part of the string of these parenthesized subgroups. Here's how:"
   ]
  },
  {
   "cell_type": "code",
   "execution_count": 24,
   "metadata": {},
   "outputs": [
    {
     "name": "stdout",
     "output_type": "stream",
     "text": [
      "801\n",
      "35\n",
      "('801', '35')\n",
      "('801', '35')\n"
     ]
    }
   ],
   "source": [
    "print(match.group(1))\n",
    "print(match.group(2))\n",
    "print(match.group(1,2))\n",
    "print(match.groups())"
   ]
  },
  {
   "cell_type": "markdown",
   "metadata": {},
   "source": [
    "# match.start(), match.end() and match.span()"
   ]
  },
  {
   "cell_type": "markdown",
   "metadata": {},
   "source": [
    "The start() function returns the index of the start of the matched substring. Similarly, end() returns the end index of the matched substring."
   ]
  },
  {
   "cell_type": "code",
   "execution_count": 25,
   "metadata": {},
   "outputs": [
    {
     "name": "stdout",
     "output_type": "stream",
     "text": [
      "2\n",
      "8\n"
     ]
    }
   ],
   "source": [
    "print(match.start())\n",
    "print(match.end())"
   ]
  },
  {
   "cell_type": "markdown",
   "metadata": {},
   "source": [
    "The span() function returns a tuple containing start and end index of the matched part."
   ]
  },
  {
   "cell_type": "code",
   "execution_count": 26,
   "metadata": {},
   "outputs": [
    {
     "data": {
      "text/plain": [
       "(2, 8)"
      ]
     },
     "execution_count": 26,
     "metadata": {},
     "output_type": "execute_result"
    }
   ],
   "source": [
    "match.span()"
   ]
  },
  {
   "cell_type": "markdown",
   "metadata": {},
   "source": [
    "# match.re and match.string"
   ]
  },
  {
   "cell_type": "markdown",
   "metadata": {},
   "source": [
    "The re attribute of a matched object returns a regular expression object. Similarly, string attribute returns the passed string."
   ]
  },
  {
   "cell_type": "code",
   "execution_count": 27,
   "metadata": {},
   "outputs": [
    {
     "data": {
      "text/plain": [
       "re.compile(r'(\\d{3}) (\\d{2})', re.UNICODE)"
      ]
     },
     "execution_count": 27,
     "metadata": {},
     "output_type": "execute_result"
    }
   ],
   "source": [
    "match.re"
   ]
  },
  {
   "cell_type": "code",
   "execution_count": 28,
   "metadata": {},
   "outputs": [
    {
     "data": {
      "text/plain": [
       "'39801 356, 2102 1111'"
      ]
     },
     "execution_count": 28,
     "metadata": {},
     "output_type": "execute_result"
    }
   ],
   "source": [
    "match.string"
   ]
  },
  {
   "cell_type": "code",
   "execution_count": null,
   "metadata": {},
   "outputs": [],
   "source": []
  }
 ],
 "metadata": {
  "kernelspec": {
   "display_name": "Python 3",
   "language": "python",
   "name": "python3"
  },
  "language_info": {
   "codemirror_mode": {
    "name": "ipython",
    "version": 3
   },
   "file_extension": ".py",
   "mimetype": "text/x-python",
   "name": "python",
   "nbconvert_exporter": "python",
   "pygments_lexer": "ipython3",
   "version": "3.7.4"
  }
 },
 "nbformat": 4,
 "nbformat_minor": 2
}
