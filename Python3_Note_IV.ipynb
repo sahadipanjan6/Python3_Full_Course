{
 "cells": [
  {
   "cell_type": "markdown",
   "metadata": {},
   "source": [
    "# Python Numbers, Type Conversion and Mathematics"
   ]
  },
  {
   "cell_type": "markdown",
   "metadata": {},
   "source": [
    "# Number Data Type in Python"
   ]
  },
  {
   "cell_type": "markdown",
   "metadata": {},
   "source": [
    "Python supports integers, floating point numbers and complex numbers. They are defined as int, float and complex class in Python.\n",
    "\n",
    "Integers and floating points are separated by the presence or absence of a decimal point. 5 is integer whereas 5.0 is a floating point number.\n",
    "\n",
    "Complex numbers are written in the form, x + yj, where x is the real part and y is the imaginary part.\n",
    "\n",
    "We can use the type() function to know which class a variable or a value belongs to and isinstance() function to check if it belongs to a particular class."
   ]
  },
  {
   "cell_type": "code",
   "execution_count": 1,
   "metadata": {},
   "outputs": [
    {
     "name": "stdout",
     "output_type": "stream",
     "text": [
      "<class 'int'>\n",
      "<class 'float'>\n",
      "(8+3j)\n",
      "True\n"
     ]
    }
   ],
   "source": [
    "a = 5\n",
    "\n",
    "# Output: <class 'int'>\n",
    "print(type(a))\n",
    "\n",
    "# Output: <class 'float'>\n",
    "print(type(5.0))\n",
    "\n",
    "# Output: (8+3j)\n",
    "c = 5 + 3j\n",
    "print(c + 3)\n",
    "\n",
    "# Output: True\n",
    "print(isinstance(c, complex))"
   ]
  },
  {
   "cell_type": "markdown",
   "metadata": {},
   "source": [
    "While integers can be of any length, a floating point number is accurate only up to 15 decimal places (the 16th place is inaccurate).\n",
    "\n",
    "Numbers we deal with everyday are decimal (base 10) number system. But computer programmers (generally embedded programmer) need to work with binary (base 2), hexadecimal (base 16) and octal (base 8) number systems.\n",
    "\n",
    "In Python, we can represent these numbers by appropriately placing a prefix before that number. Following table lists these prefix."
   ]
  },
  {
   "cell_type": "markdown",
   "metadata": {},
   "source": [
    "Here are some examples"
   ]
  },
  {
   "cell_type": "code",
   "execution_count": 2,
   "metadata": {},
   "outputs": [
    {
     "name": "stdout",
     "output_type": "stream",
     "text": [
      "107\n",
      "253\n",
      "13\n"
     ]
    }
   ],
   "source": [
    "print(0b1101011)\n",
    "\n",
    "# Output: 253 (251 + 2)\n",
    "print(0xFB + 0b10)\n",
    "\n",
    "# Output: 13\n",
    "print(0o15)"
   ]
  },
  {
   "cell_type": "markdown",
   "metadata": {},
   "source": [
    "# Type Conversion"
   ]
  },
  {
   "cell_type": "markdown",
   "metadata": {},
   "source": [
    "We can convert one type of number into another. This is also known as coercion.\n",
    "\n",
    "Operations like addition, subtraction coerce integer to float implicitly (automatically), if one of the operand is float."
   ]
  },
  {
   "cell_type": "code",
   "execution_count": 3,
   "metadata": {},
   "outputs": [
    {
     "data": {
      "text/plain": [
       "3.0"
      ]
     },
     "execution_count": 3,
     "metadata": {},
     "output_type": "execute_result"
    }
   ],
   "source": [
    "1 + 2.0"
   ]
  },
  {
   "cell_type": "markdown",
   "metadata": {},
   "source": [
    "We can see above that 1 (integer) is coerced into 1.0 (float) for addition and the result is also a floating point number.\n",
    "\n",
    "We can also use built-in functions like int(), float() and complex() to convert between types explicitly. These function can even convert from strings."
   ]
  },
  {
   "cell_type": "code",
   "execution_count": 4,
   "metadata": {},
   "outputs": [
    {
     "name": "stdout",
     "output_type": "stream",
     "text": [
      "2\n",
      "-2\n",
      "5.0\n",
      "(3+5j)\n"
     ]
    }
   ],
   "source": [
    "print(int(2.3))\n",
    "print(int(-2.8))\n",
    "print(float(5))\n",
    "print(complex('3+5j'))"
   ]
  },
  {
   "cell_type": "markdown",
   "metadata": {},
   "source": [
    "When converting from float to integer, the number gets truncated (integer that is closer to zero)."
   ]
  },
  {
   "cell_type": "markdown",
   "metadata": {},
   "source": [
    "# Python Decimal"
   ]
  },
  {
   "cell_type": "markdown",
   "metadata": {},
   "source": [
    "Python built-in class float performs some calculations that might amaze us. We all know that the sum of 1.1 and 2.2 is 3.3, but Python seems to disagree."
   ]
  },
  {
   "cell_type": "code",
   "execution_count": 5,
   "metadata": {},
   "outputs": [
    {
     "data": {
      "text/plain": [
       "False"
      ]
     },
     "execution_count": 5,
     "metadata": {},
     "output_type": "execute_result"
    }
   ],
   "source": [
    "(1.1 + 2.2) == 3.3"
   ]
  },
  {
   "cell_type": "markdown",
   "metadata": {},
   "source": [
    "What is going on?\n",
    "\n",
    "It turns out that floating-point numbers are implemented in computer hardware as binary fractions, as computer only understands binary (0 and 1). Due to this reason, most of the decimal fractions we know, cannot be accurately stored in our computer.\n",
    "\n",
    "Let's take an example. We cannot represent the fraction 1/3 as a decimal number. This will give 0.33333333... which is infinitely long, and we can only approximate it.\n",
    "\n",
    "Turns out decimal fraction 0.1 will result into an infinitely long binary fraction of 0.000110011001100110011... and our computer only stores a finite number of it.\n",
    "\n",
    "This will only approximate 0.1 but never be equal. Hence, it is the limitation of our computer hardware and not an error in Python."
   ]
  },
  {
   "cell_type": "code",
   "execution_count": 6,
   "metadata": {},
   "outputs": [
    {
     "data": {
      "text/plain": [
       "3.3000000000000003"
      ]
     },
     "execution_count": 6,
     "metadata": {},
     "output_type": "execute_result"
    }
   ],
   "source": [
    "1.1 + 2.2"
   ]
  },
  {
   "cell_type": "markdown",
   "metadata": {},
   "source": [
    "To overcome this issue, we can use decimal module that comes with Python. While floating point numbers have precision up to 15 decimal places, the decimal module has user settable precision."
   ]
  },
  {
   "cell_type": "code",
   "execution_count": 7,
   "metadata": {},
   "outputs": [
    {
     "name": "stdout",
     "output_type": "stream",
     "text": [
      "0.1\n",
      "0.1000000000000000055511151231257827021181583404541015625\n"
     ]
    }
   ],
   "source": [
    "import decimal\n",
    "\n",
    "# Output: 0.1\n",
    "print(0.1)\n",
    "\n",
    "# Output: Decimal('0.1000000000000000055511151231257827021181583404541015625')\n",
    "print(decimal.Decimal(0.1))"
   ]
  },
  {
   "cell_type": "markdown",
   "metadata": {},
   "source": [
    "This module is used when we want to carry out decimal calculations like we learned in school.\n",
    "\n",
    "It also preserves significance. We know 25.50 kg is more accurate than 25.5 kg as it has two significant decimal places compared to one."
   ]
  },
  {
   "cell_type": "code",
   "execution_count": 8,
   "metadata": {},
   "outputs": [
    {
     "name": "stdout",
     "output_type": "stream",
     "text": [
      "3.3\n",
      "3.000\n"
     ]
    }
   ],
   "source": [
    "from decimal import Decimal as D\n",
    "# Output: Decimal('3.3')\n",
    "print(D('1.1') + D('2.2'))\n",
    "\n",
    "# Output: Decimal('3.000')\n",
    "print(D('1.2') * D('2.50'))"
   ]
  },
  {
   "cell_type": "markdown",
   "metadata": {},
   "source": [
    "Notice the trailing zeroes in the above example.\n",
    "\n",
    "We might ask, why not implement Decimal every time, instead of float? The main reason is efficiency. Floating point operations are carried out must faster than Decimal operations."
   ]
  },
  {
   "cell_type": "markdown",
   "metadata": {},
   "source": [
    "# When to use Decimal instead of float?"
   ]
  },
  {
   "cell_type": "markdown",
   "metadata": {},
   "source": [
    "1. When we are making financial applications that need exact decimal representation.\n",
    "2. When we want to control the level of precision required.\n",
    "3. When we want to implement the notion of significant decimal places.\n",
    "4. When we want the operations to be carried out like we did at school."
   ]
  },
  {
   "cell_type": "markdown",
   "metadata": {},
   "source": [
    "# Python Fractions"
   ]
  },
  {
   "cell_type": "markdown",
   "metadata": {},
   "source": [
    "Python provides operations involving fractional numbers through its fractions module.\n",
    "\n",
    "A fraction has a numerator and a denominator, both of which are integers. This module has support for rational number arithmetic.\n",
    "\n",
    "We can create Fraction objects in various ways."
   ]
  },
  {
   "cell_type": "code",
   "execution_count": 10,
   "metadata": {},
   "outputs": [
    {
     "name": "stdout",
     "output_type": "stream",
     "text": [
      "3/2\n",
      "5\n",
      "1/3\n"
     ]
    }
   ],
   "source": [
    "import fractions\n",
    "\n",
    "# Output: 3/2\n",
    "print(fractions.Fraction(1.5))\n",
    "\n",
    "# Output: 5\n",
    "print(fractions.Fraction(5))\n",
    "\n",
    "# Output: 1/3\n",
    "print(fractions.Fraction(1,3))"
   ]
  },
  {
   "cell_type": "markdown",
   "metadata": {},
   "source": [
    "While creating Fraction from float, we might get some unusual results. This is due to the imperfect binary floating point number representation as discussed in the previous section.\n",
    "\n",
    "Fortunately, Fraction allows us to instantiate with string as well. This is the preferred options when using decimal numbers."
   ]
  },
  {
   "cell_type": "code",
   "execution_count": 11,
   "metadata": {},
   "outputs": [
    {
     "name": "stdout",
     "output_type": "stream",
     "text": [
      "2476979795053773/2251799813685248\n",
      "11/10\n"
     ]
    }
   ],
   "source": [
    "import fractions\n",
    "\n",
    "# As float\n",
    "# Output: 2476979795053773/2251799813685248\n",
    "print(fractions.Fraction(1.1))\n",
    "\n",
    "# As string\n",
    "# Output: 11/10\n",
    "print(fractions.Fraction('1.1'))"
   ]
  },
  {
   "cell_type": "markdown",
   "metadata": {},
   "source": [
    "This datatype supports all basic operations. Here are few examples."
   ]
  },
  {
   "cell_type": "code",
   "execution_count": 12,
   "metadata": {},
   "outputs": [
    {
     "name": "stdout",
     "output_type": "stream",
     "text": [
      "2/3\n",
      "6/5\n",
      "False\n",
      "True\n"
     ]
    }
   ],
   "source": [
    "from fractions import Fraction as F\n",
    "\n",
    "# Output: 2/3\n",
    "print(F(1,3) + F(1,3))\n",
    "\n",
    "# Output: 6/5\n",
    "print(1 / F(5,6))\n",
    "\n",
    "# Output: False\n",
    "print(F(-3,10) > 0)\n",
    "\n",
    "# Output: True\n",
    "print(F(-3,10) < 0)"
   ]
  },
  {
   "cell_type": "markdown",
   "metadata": {},
   "source": [
    "# Python Mathematics"
   ]
  },
  {
   "cell_type": "markdown",
   "metadata": {},
   "source": [
    "Python offers modules like math and random to carry out different mathematics like trigonometry, logarithms, probability and statistics, etc.\n"
   ]
  },
  {
   "cell_type": "code",
   "execution_count": 13,
   "metadata": {},
   "outputs": [
    {
     "name": "stdout",
     "output_type": "stream",
     "text": [
      "3.141592653589793\n",
      "-1.0\n",
      "22026.465794806718\n",
      "3.0\n",
      "1.1752011936438014\n",
      "720\n"
     ]
    }
   ],
   "source": [
    "import math\n",
    "\n",
    "# Output: 3.141592653589793\n",
    "print(math.pi)\n",
    "\n",
    "# Output: -1.0\n",
    "print(math.cos(math.pi))\n",
    "\n",
    "# Output: 22026.465794806718\n",
    "print(math.exp(10))\n",
    "\n",
    "# Output: 3.0\n",
    "print(math.log10(1000))\n",
    "\n",
    "# Output: 1.1752011936438014\n",
    "print(math.sinh(1))\n",
    "\n",
    "# Output: 720\n",
    "print(math.factorial(6))"
   ]
  },
  {
   "cell_type": "code",
   "execution_count": 14,
   "metadata": {},
   "outputs": [
    {
     "name": "stdout",
     "output_type": "stream",
     "text": [
      "17\n",
      "d\n",
      "['d', 'a', 'c', 'b', 'e']\n",
      "0.9006198848999429\n"
     ]
    }
   ],
   "source": [
    "import random\n",
    "\n",
    "# Output: 16\n",
    "print(random.randrange(10,20))\n",
    "\n",
    "x = ['a', 'b', 'c', 'd', 'e']\n",
    "\n",
    "# Get random choice\n",
    "print(random.choice(x))\n",
    "\n",
    "# Shuffle x\n",
    "random.shuffle(x)\n",
    "\n",
    "# Print the shuffled x\n",
    "print(x)\n",
    "\n",
    "# Print random element\n",
    "print(random.random())"
   ]
  },
  {
   "cell_type": "markdown",
   "metadata": {},
   "source": [
    "# Python List"
   ]
  },
  {
   "cell_type": "markdown",
   "metadata": {},
   "source": [
    "Python offers a range of compound datatypes often referred to as sequences. List is one of the most frequently used and very versatile datatype used in Python.\n"
   ]
  },
  {
   "cell_type": "markdown",
   "metadata": {},
   "source": [
    "# How to create a list?"
   ]
  },
  {
   "cell_type": "markdown",
   "metadata": {},
   "source": [
    "In Python programming, a list is created by placing all the items (elements) inside a square bracket [ ], separated by commas.\n",
    "\n",
    "It can have any number of items and they may be of different types (integer, float, string etc.)."
   ]
  },
  {
   "cell_type": "code",
   "execution_count": 15,
   "metadata": {},
   "outputs": [],
   "source": [
    "# empty list\n",
    "my_list = []\n",
    "\n",
    "# list of integers\n",
    "my_list = [1, 2, 3]\n",
    "\n",
    "# list with mixed datatypes\n",
    "my_list = [1, \"Hello\", 3.4]"
   ]
  },
  {
   "cell_type": "markdown",
   "metadata": {},
   "source": [
    "Also, a list can even have another list as an item. This is called a nested list."
   ]
  },
  {
   "cell_type": "code",
   "execution_count": 16,
   "metadata": {},
   "outputs": [],
   "source": [
    "# nested list\n",
    "my_list = [\"mouse\", [8, 4, 6], ['a']]"
   ]
  },
  {
   "cell_type": "markdown",
   "metadata": {},
   "source": [
    "# How to access elements from a list?"
   ]
  },
  {
   "cell_type": "markdown",
   "metadata": {},
   "source": [
    "There are various ways in which we can access the elements of a list."
   ]
  },
  {
   "cell_type": "markdown",
   "metadata": {},
   "source": [
    "# List Index"
   ]
  },
  {
   "cell_type": "markdown",
   "metadata": {},
   "source": [
    "We can use the index operator [] to access an item in a list. Index starts from 0. So, a list having 5 elements will have an index from 0 to 4.\n",
    "\n",
    "Trying to access an element other that this will raise an IndexError. The index must be an integer. We can't use float or other types, this will result in TypeError.\n",
    "\n",
    "Nested lists are accessed using nested indexing."
   ]
  },
  {
   "cell_type": "code",
   "execution_count": 17,
   "metadata": {},
   "outputs": [
    {
     "name": "stdout",
     "output_type": "stream",
     "text": [
      "p\n",
      "o\n",
      "e\n",
      "a\n",
      "5\n"
     ]
    }
   ],
   "source": [
    "my_list = ['p','r','o','b','e']\n",
    "# Output: p\n",
    "print(my_list[0])\n",
    "\n",
    "# Output: o\n",
    "print(my_list[2])\n",
    "\n",
    "# Output: e\n",
    "print(my_list[4])\n",
    "\n",
    "# Error! Only integer can be used for indexing\n",
    "# my_list[4.0]\n",
    "\n",
    "# Nested List\n",
    "n_list = [\"Happy\", [2,0,1,5]]\n",
    "\n",
    "# Nested indexing\n",
    "\n",
    "# Output: a\n",
    "print(n_list[0][1])    \n",
    "\n",
    "# Output: 5\n",
    "print(n_list[1][3])"
   ]
  },
  {
   "cell_type": "markdown",
   "metadata": {},
   "source": [
    "# Negative indexing"
   ]
  },
  {
   "cell_type": "markdown",
   "metadata": {},
   "source": [
    "Python allows negative indexing for its sequences. The index of -1 refers to the last item, -2 to the second last item and so on."
   ]
  },
  {
   "cell_type": "code",
   "execution_count": 18,
   "metadata": {},
   "outputs": [
    {
     "name": "stdout",
     "output_type": "stream",
     "text": [
      "e\n",
      "p\n"
     ]
    }
   ],
   "source": [
    "my_list = ['p','r','o','b','e']\n",
    "\n",
    "# Output: e\n",
    "print(my_list[-1])\n",
    "\n",
    "# Output: p\n",
    "print(my_list[-5])"
   ]
  },
  {
   "cell_type": "markdown",
   "metadata": {},
   "source": [
    "# How to slice lists in Python?"
   ]
  },
  {
   "cell_type": "markdown",
   "metadata": {},
   "source": [
    "We can access a range of items in a list by using the slicing operator (colon)."
   ]
  },
  {
   "cell_type": "code",
   "execution_count": 19,
   "metadata": {},
   "outputs": [
    {
     "name": "stdout",
     "output_type": "stream",
     "text": [
      "['o', 'g', 'r']\n",
      "['p', 'r', 'o', 'g']\n",
      "['a', 'm', 'i', 'z']\n",
      "['p', 'r', 'o', 'g', 'r', 'a', 'm', 'i', 'z']\n"
     ]
    }
   ],
   "source": [
    "my_list = ['p','r','o','g','r','a','m','i','z']\n",
    "# elements 3rd to 5th\n",
    "print(my_list[2:5])\n",
    "\n",
    "# elements beginning to 4th\n",
    "print(my_list[:-5])\n",
    "\n",
    "# elements 6th to end\n",
    "print(my_list[5:])\n",
    "\n",
    "# elements beginning to end\n",
    "print(my_list[:])"
   ]
  },
  {
   "cell_type": "markdown",
   "metadata": {},
   "source": [
    "Slicing can be best visualized by considering the index to be between the elements as shown below. So if we want to access a range, we need two indices that will slice that portion from the list."
   ]
  },
  {
   "cell_type": "markdown",
   "metadata": {},
   "source": [
    "# How to change or add elements to a list?"
   ]
  },
  {
   "cell_type": "markdown",
   "metadata": {},
   "source": [
    "Lists are mutable, meaning their elements can be changed unlike string or tuple.\n",
    "\n",
    "We can use assignment operator (=) to change an item or a range of items."
   ]
  },
  {
   "cell_type": "code",
   "execution_count": 20,
   "metadata": {},
   "outputs": [
    {
     "name": "stdout",
     "output_type": "stream",
     "text": [
      "[1, 4, 6, 8]\n",
      "[1, 3, 5, 7]\n"
     ]
    }
   ],
   "source": [
    "# mistake values\n",
    "odd = [2, 4, 6, 8]\n",
    "\n",
    "# change the 1st item    \n",
    "odd[0] = 1            \n",
    "\n",
    "# Output: [1, 4, 6, 8]\n",
    "print(odd)\n",
    "\n",
    "# change 2nd to 4th items\n",
    "odd[1:4] = [3, 5, 7]  \n",
    "\n",
    "# Output: [1, 3, 5, 7]\n",
    "print(odd)     "
   ]
  },
  {
   "cell_type": "markdown",
   "metadata": {},
   "source": [
    "We can add one item to a list using append() method or add several items using extend() method."
   ]
  },
  {
   "cell_type": "code",
   "execution_count": 21,
   "metadata": {},
   "outputs": [
    {
     "name": "stdout",
     "output_type": "stream",
     "text": [
      "[1, 3, 5, 7]\n",
      "[1, 3, 5, 7, 9, 11, 13]\n"
     ]
    }
   ],
   "source": [
    "odd = [1, 3, 5]\n",
    "\n",
    "odd.append(7)\n",
    "\n",
    "# Output: [1, 3, 5, 7]\n",
    "print(odd)\n",
    "\n",
    "odd.extend([9, 11, 13])\n",
    "\n",
    "# Output: [1, 3, 5, 7, 9, 11, 13]\n",
    "print(odd)"
   ]
  },
  {
   "cell_type": "markdown",
   "metadata": {},
   "source": [
    "We can also use + operator to combine two lists. This is also called concatenation.\n",
    "\n",
    "The * operator repeats a list for the given number of times."
   ]
  },
  {
   "cell_type": "code",
   "execution_count": 22,
   "metadata": {},
   "outputs": [
    {
     "name": "stdout",
     "output_type": "stream",
     "text": [
      "[1, 3, 5, 9, 7, 5]\n",
      "['re', 're', 're']\n"
     ]
    }
   ],
   "source": [
    "odd = [1, 3, 5]\n",
    "\n",
    "# Output: [1, 3, 5, 9, 7, 5]\n",
    "print(odd + [9, 7, 5])\n",
    "\n",
    "#Output: [\"re\", \"re\", \"re\"]\n",
    "print([\"re\"] * 3)"
   ]
  },
  {
   "cell_type": "markdown",
   "metadata": {},
   "source": [
    "Furthermore, we can insert one item at a desired location by using the method insert() or insert multiple items by squeezing it into an empty slice of a list."
   ]
  },
  {
   "cell_type": "code",
   "execution_count": 23,
   "metadata": {},
   "outputs": [
    {
     "name": "stdout",
     "output_type": "stream",
     "text": [
      "[1, 3, 9]\n",
      "[1, 3, 5, 7, 9]\n"
     ]
    }
   ],
   "source": [
    "odd = [1, 9]\n",
    "odd.insert(1,3)\n",
    "\n",
    "# Output: [1, 3, 9] \n",
    "print(odd)\n",
    "\n",
    "odd[2:2] = [5, 7]\n",
    "\n",
    "# Output: [1, 3, 5, 7, 9]\n",
    "print(odd)"
   ]
  },
  {
   "cell_type": "markdown",
   "metadata": {},
   "source": [
    "# How to delete or remove elements from a list?"
   ]
  },
  {
   "cell_type": "markdown",
   "metadata": {},
   "source": [
    "We can delete one or more items from a list using the keyword del. It can even delete the list entirely."
   ]
  },
  {
   "cell_type": "code",
   "execution_count": 24,
   "metadata": {},
   "outputs": [
    {
     "name": "stdout",
     "output_type": "stream",
     "text": [
      "['p', 'r', 'b', 'l', 'e', 'm']\n",
      "['p', 'm']\n"
     ]
    },
    {
     "ename": "NameError",
     "evalue": "name 'my_list' is not defined",
     "output_type": "error",
     "traceback": [
      "\u001b[0;31m---------------------------------------------------------------------------\u001b[0m",
      "\u001b[0;31mNameError\u001b[0m                                 Traceback (most recent call last)",
      "\u001b[0;32m<ipython-input-24-63e8e20c464a>\u001b[0m in \u001b[0;36m<module>\u001b[0;34m\u001b[0m\n\u001b[1;32m     17\u001b[0m \u001b[0;34m\u001b[0m\u001b[0m\n\u001b[1;32m     18\u001b[0m \u001b[0;31m# Error: List not defined\u001b[0m\u001b[0;34m\u001b[0m\u001b[0;34m\u001b[0m\u001b[0;34m\u001b[0m\u001b[0m\n\u001b[0;32m---> 19\u001b[0;31m \u001b[0mprint\u001b[0m\u001b[0;34m(\u001b[0m\u001b[0mmy_list\u001b[0m\u001b[0;34m)\u001b[0m\u001b[0;34m\u001b[0m\u001b[0;34m\u001b[0m\u001b[0m\n\u001b[0m\u001b[1;32m     20\u001b[0m \u001b[0;34m\u001b[0m\u001b[0m\n",
      "\u001b[0;31mNameError\u001b[0m: name 'my_list' is not defined"
     ]
    }
   ],
   "source": [
    "my_list = ['p','r','o','b','l','e','m']\n",
    "\n",
    "# delete one item\n",
    "del my_list[2]\n",
    "\n",
    "# Output: ['p', 'r', 'b', 'l', 'e', 'm']     \n",
    "print(my_list)\n",
    "\n",
    "# delete multiple items\n",
    "del my_list[1:5]  \n",
    "\n",
    "# Output: ['p', 'm']\n",
    "print(my_list)\n",
    "\n",
    "# delete entire list\n",
    "del my_list       \n",
    "\n",
    "# Error: List not defined\n",
    "print(my_list)\n",
    "\n"
   ]
  },
  {
   "cell_type": "markdown",
   "metadata": {},
   "source": [
    "We can use remove() method to remove the given item or pop() method to remove an item at the given index.\n",
    "\n",
    "The pop() method removes and returns the last item if index is not provided. This helps us implement lists as stacks (first in, last out data structure).\n",
    "\n",
    "We can also use the clear() method to empty a list."
   ]
  },
  {
   "cell_type": "code",
   "execution_count": 25,
   "metadata": {},
   "outputs": [
    {
     "name": "stdout",
     "output_type": "stream",
     "text": [
      "['r', 'o', 'b', 'l', 'e', 'm']\n",
      "o\n",
      "['r', 'b', 'l', 'e', 'm']\n",
      "m\n",
      "['r', 'b', 'l', 'e']\n",
      "[]\n"
     ]
    }
   ],
   "source": [
    "my_list = ['p','r','o','b','l','e','m']\n",
    "my_list.remove('p')\n",
    "\n",
    "# Output: ['r', 'o', 'b', 'l', 'e', 'm']\n",
    "print(my_list)\n",
    "\n",
    "# Output: 'o'\n",
    "print(my_list.pop(1))\n",
    "\n",
    "# Output: ['r', 'b', 'l', 'e', 'm']\n",
    "print(my_list)\n",
    "\n",
    "# Output: 'm'\n",
    "print(my_list.pop())\n",
    "\n",
    "# Output: ['r', 'b', 'l', 'e']\n",
    "print(my_list)\n",
    "\n",
    "my_list.clear()\n",
    "\n",
    "# Output: []\n",
    "print(my_list)"
   ]
  },
  {
   "cell_type": "markdown",
   "metadata": {},
   "source": [
    "Finally, we can also delete items in a list by assigning an empty list to a slice of elements."
   ]
  },
  {
   "cell_type": "code",
   "execution_count": 26,
   "metadata": {},
   "outputs": [
    {
     "name": "stdout",
     "output_type": "stream",
     "text": [
      "['p', 'r', 'b', 'l', 'e', 'm']\n",
      "['p', 'r', 'm']\n"
     ]
    }
   ],
   "source": [
    "my_list = ['p','r','o','b','l','e','m']\n",
    "my_list[2:3] = []\n",
    "print(my_list)\n",
    "my_list[2:5] = []\n",
    "print(my_list)"
   ]
  },
  {
   "cell_type": "markdown",
   "metadata": {},
   "source": [
    "# Python List Methods"
   ]
  },
  {
   "cell_type": "markdown",
   "metadata": {},
   "source": [
    "Methods that are available with list object in Python programming are tabulated below.\n",
    "\n",
    "They are accessed as list.method(). Some of the methods have already been used above."
   ]
  },
  {
   "cell_type": "code",
   "execution_count": null,
   "metadata": {},
   "outputs": [],
   "source": [
    "Python List Methods\n",
    "\n",
    "\n",
    "append() - Add an element to the end of the list\n",
    "\n",
    "\n",
    "extend() - Add all elements of a list to the another list\n",
    "\n",
    "\n",
    "insert() - Insert an item at the defined index\n",
    "\n",
    "\n",
    "remove() - Removes an item from the list\n",
    "\n",
    "\n",
    "pop() - Removes and returns an element at the given index\n",
    "\n",
    "\n",
    "clear() - Removes all items from the list\n",
    "\n",
    "\n",
    "index() - Returns the index of the first matched item\n",
    "\n",
    "\n",
    "count() - Returns the count of number of items passed as an argument\n",
    "\n",
    "\n",
    "sort() - Sort items in a list in ascending order\n",
    "\n",
    "\n",
    "reverse() - Reverse the order of items in the list\n",
    "\n",
    "\n",
    "copy() - Returns a shallow copy of the list"
   ]
  },
  {
   "cell_type": "markdown",
   "metadata": {},
   "source": [
    "Some examples of Python list methods:"
   ]
  },
  {
   "cell_type": "code",
   "execution_count": 27,
   "metadata": {},
   "outputs": [
    {
     "name": "stdout",
     "output_type": "stream",
     "text": [
      "1\n",
      "2\n",
      "[0, 1, 3, 4, 6, 8, 8]\n",
      "[8, 8, 6, 4, 3, 1, 0]\n"
     ]
    }
   ],
   "source": [
    "my_list = [3, 8, 1, 6, 0, 8, 4]\n",
    "\n",
    "# Output: 1\n",
    "print(my_list.index(8))\n",
    "\n",
    "# Output: 2\n",
    "print(my_list.count(8))\n",
    "\n",
    "my_list.sort()\n",
    "\n",
    "# Output: [0, 1, 3, 4, 6, 8, 8]\n",
    "print(my_list)\n",
    "\n",
    "my_list.reverse()\n",
    "\n",
    "# Output: [8, 8, 6, 4, 3, 1, 0]\n",
    "print(my_list)"
   ]
  },
  {
   "cell_type": "markdown",
   "metadata": {},
   "source": [
    "# List Comprehension: Elegant way to create new List"
   ]
  },
  {
   "cell_type": "markdown",
   "metadata": {},
   "source": [
    "List comprehension is an elegant and concise way to create a new list from an existing list in Python.\n",
    "\n",
    "List comprehension consists of an expression followed by for statement inside square brackets.\n",
    "\n",
    "Here is an example to make a list with each item being increasing power of 2."
   ]
  },
  {
   "cell_type": "code",
   "execution_count": 28,
   "metadata": {},
   "outputs": [
    {
     "name": "stdout",
     "output_type": "stream",
     "text": [
      "[1, 2, 4, 8, 16, 32, 64, 128, 256, 512]\n"
     ]
    }
   ],
   "source": [
    "pow2 = [2 ** x for x in range(10)]\n",
    "\n",
    "# Output: [1, 2, 4, 8, 16, 32, 64, 128, 256, 512]\n",
    "print(pow2)"
   ]
  },
  {
   "cell_type": "markdown",
   "metadata": {},
   "source": [
    "This code is equivalent to"
   ]
  },
  {
   "cell_type": "code",
   "execution_count": 29,
   "metadata": {},
   "outputs": [],
   "source": [
    "pow2 = []\n",
    "for x in range(10):\n",
    "   pow2.append(2 ** x)"
   ]
  },
  {
   "cell_type": "markdown",
   "metadata": {},
   "source": [
    "A list comprehension can optionally contain more for or if statements. An optional if statement can filter out items for the new list. Here are some examples."
   ]
  },
  {
   "cell_type": "code",
   "execution_count": 30,
   "metadata": {},
   "outputs": [
    {
     "name": "stdout",
     "output_type": "stream",
     "text": [
      "[64, 128, 256, 512]\n",
      "[1, 3, 5, 7, 9, 11, 13, 15, 17, 19]\n"
     ]
    },
    {
     "data": {
      "text/plain": [
       "['Python Language', 'Python Programming', 'C Language', 'C Programming']"
      ]
     },
     "execution_count": 30,
     "metadata": {},
     "output_type": "execute_result"
    }
   ],
   "source": [
    "pow2 = [2 ** x for x in range(10) if x > 5]\n",
    "print(pow2)\n",
    "odd = [x for x in range(20) if x % 2 == 1]\n",
    "print(odd)\n",
    "[x+y for x in ['Python ','C '] for y in ['Language','Programming']]"
   ]
  },
  {
   "cell_type": "markdown",
   "metadata": {},
   "source": [
    "# Other List Operations in Python"
   ]
  },
  {
   "cell_type": "markdown",
   "metadata": {},
   "source": [
    "# List Membership Test"
   ]
  },
  {
   "cell_type": "markdown",
   "metadata": {},
   "source": [
    "We can test if an item exists in a list or not, using the keyword in."
   ]
  },
  {
   "cell_type": "code",
   "execution_count": 31,
   "metadata": {},
   "outputs": [
    {
     "name": "stdout",
     "output_type": "stream",
     "text": [
      "True\n",
      "False\n",
      "True\n"
     ]
    }
   ],
   "source": [
    "my_list = ['p','r','o','b','l','e','m']\n",
    "\n",
    "# Output: True\n",
    "print('p' in my_list)\n",
    "\n",
    "# Output: False\n",
    "print('a' in my_list)\n",
    "\n",
    "# Output: True\n",
    "print('c' not in my_list)"
   ]
  },
  {
   "cell_type": "markdown",
   "metadata": {},
   "source": [
    "# Iterating Through a List"
   ]
  },
  {
   "cell_type": "markdown",
   "metadata": {},
   "source": [
    "Using a for loop we can iterate through each item in a list."
   ]
  },
  {
   "cell_type": "code",
   "execution_count": 32,
   "metadata": {},
   "outputs": [
    {
     "name": "stdout",
     "output_type": "stream",
     "text": [
      "I like apple\n",
      "I like banana\n",
      "I like mango\n"
     ]
    }
   ],
   "source": [
    "for fruit in ['apple','banana','mango']:\n",
    "    print(\"I like\",fruit)"
   ]
  },
  {
   "cell_type": "markdown",
   "metadata": {},
   "source": [
    "# Python Tuple"
   ]
  },
  {
   "cell_type": "markdown",
   "metadata": {},
   "source": [
    "A tuple in Python is similar to a list. The difference between the two is that we cannot change the elements of a tuple once it is assigned whereas, in a list, elements can be changed."
   ]
  },
  {
   "cell_type": "markdown",
   "metadata": {},
   "source": [
    "# Creating a Tuple"
   ]
  },
  {
   "cell_type": "markdown",
   "metadata": {},
   "source": [
    "A tuple is created by placing all the items (elements) inside parentheses (), separated by commas. The parentheses are optional, however, it is a good practice to use them.\n",
    "\n",
    "A tuple can have any number of items and they may be of different types (integer, float, list, string, etc.)."
   ]
  },
  {
   "cell_type": "code",
   "execution_count": 33,
   "metadata": {},
   "outputs": [
    {
     "name": "stdout",
     "output_type": "stream",
     "text": [
      "()\n",
      "(1, 2, 3)\n",
      "(1, 'Hello', 3.4)\n",
      "('mouse', [8, 4, 6], (1, 2, 3))\n"
     ]
    }
   ],
   "source": [
    "# Empty tuple\n",
    "my_tuple = ()\n",
    "print(my_tuple)  # Output: ()\n",
    "\n",
    "# Tuple having integers\n",
    "my_tuple = (1, 2, 3)\n",
    "print(my_tuple)  # Output: (1, 2, 3) \n",
    "\n",
    "# tuple with mixed datatypes\n",
    "my_tuple = (1, \"Hello\", 3.4)\n",
    "print(my_tuple)  # Output: (1, \"Hello\", 3.4)  \n",
    "\n",
    "# nested tuple\n",
    "my_tuple = (\"mouse\", [8, 4, 6], (1, 2, 3))\n",
    "\n",
    "# Output: (\"mouse\", [8, 4, 6], (1, 2, 3)) \n",
    "print(my_tuple)"
   ]
  },
  {
   "cell_type": "markdown",
   "metadata": {},
   "source": [
    "A tuple can also be created without using parentheses. This is known as tuple packing."
   ]
  },
  {
   "cell_type": "code",
   "execution_count": 34,
   "metadata": {},
   "outputs": [
    {
     "name": "stdout",
     "output_type": "stream",
     "text": [
      "(3, 4.6, 'dog')\n",
      "3\n",
      "4.6\n",
      "dog\n"
     ]
    }
   ],
   "source": [
    "my_tuple = 3, 4.6, \"dog\"\n",
    "print(my_tuple)   # Output: 3, 4.6, \"dog\" \n",
    "\n",
    "# tuple unpacking is also possible\n",
    "a, b, c = my_tuple\n",
    "\n",
    "print(a)      # 3\n",
    "print(b)      # 4.6 \n",
    "print(c)      # dog "
   ]
  },
  {
   "cell_type": "markdown",
   "metadata": {},
   "source": [
    "Creating a tuple with one element is a bit tricky.\n",
    "\n",
    "Having one element within parentheses is not enough. We will need a trailing comma to indicate that it is, in fact, a tuple."
   ]
  },
  {
   "cell_type": "code",
   "execution_count": 35,
   "metadata": {},
   "outputs": [
    {
     "name": "stdout",
     "output_type": "stream",
     "text": [
      "<class 'str'>\n",
      "<class 'tuple'>\n",
      "<class 'tuple'>\n"
     ]
    }
   ],
   "source": [
    "my_tuple = (\"hello\")\n",
    "print(type(my_tuple))  # <class 'str'>\n",
    "\n",
    "# Creating a tuple having one element\n",
    "my_tuple = (\"hello\",)  \n",
    "print(type(my_tuple))  # <class 'tuple'> \n",
    "\n",
    "# Parentheses is optional\n",
    "my_tuple = \"hello\",\n",
    "print(type(my_tuple))  # <class 'tuple'> "
   ]
  },
  {
   "cell_type": "markdown",
   "metadata": {},
   "source": [
    "# Access Tuple Elements"
   ]
  },
  {
   "cell_type": "markdown",
   "metadata": {},
   "source": [
    "There are various ways in which we can access the elements of a tuple."
   ]
  },
  {
   "cell_type": "markdown",
   "metadata": {},
   "source": [
    "# 1. Indexing"
   ]
  },
  {
   "cell_type": "markdown",
   "metadata": {},
   "source": [
    "We can use the index operator [] to access an item in a tuple where the index starts from 0.\n",
    "\n",
    "So, a tuple having 6 elements will have indices from 0 to 5. Trying to access an element outside of tuple (for example, 6, 7,...) will raise an IndexError.\n",
    "\n",
    "The index must be an integer; so we cannot use float or other types. This will result in TypeError.\n",
    "\n",
    "Likewise, nested tuples are accessed using nested indexing, as shown in the example below."
   ]
  },
  {
   "cell_type": "code",
   "execution_count": 36,
   "metadata": {},
   "outputs": [
    {
     "name": "stdout",
     "output_type": "stream",
     "text": [
      "p\n",
      "t\n",
      "s\n",
      "4\n"
     ]
    }
   ],
   "source": [
    "my_tuple = ('p','e','r','m','i','t')\n",
    "\n",
    "print(my_tuple[0])   # 'p' \n",
    "print(my_tuple[5])   # 't'\n",
    "\n",
    "# IndexError: list index out of range\n",
    "# print(my_tuple[6])\n",
    "\n",
    "# Index must be an integer\n",
    "# TypeError: list indices must be integers, not float\n",
    "# my_tuple[2.0]\n",
    "\n",
    "# nested tuple\n",
    "n_tuple = (\"mouse\", [8, 4, 6], (1, 2, 3))\n",
    "\n",
    "# nested index\n",
    "print(n_tuple[0][3])       # 's'\n",
    "print(n_tuple[1][1])       # 4"
   ]
  },
  {
   "cell_type": "markdown",
   "metadata": {},
   "source": [
    "# 2. Negative Indexing"
   ]
  },
  {
   "cell_type": "markdown",
   "metadata": {},
   "source": [
    "Python allows negative indexing for its sequences.\n",
    "\n",
    "The index of -1 refers to the last item, -2 to the second last item and so on."
   ]
  },
  {
   "cell_type": "code",
   "execution_count": 37,
   "metadata": {},
   "outputs": [
    {
     "name": "stdout",
     "output_type": "stream",
     "text": [
      "t\n",
      "p\n"
     ]
    }
   ],
   "source": [
    "my_tuple = ('p','e','r','m','i','t')\n",
    "\n",
    "# Output: 't'\n",
    "print(my_tuple[-1])\n",
    "\n",
    "# Output: 'p'\n",
    "print(my_tuple[-6])"
   ]
  },
  {
   "cell_type": "markdown",
   "metadata": {},
   "source": [
    "# 3. Slicing"
   ]
  },
  {
   "cell_type": "markdown",
   "metadata": {},
   "source": [
    "We can access a range of items in a tuple by using the slicing operator - colon \":\"."
   ]
  },
  {
   "cell_type": "code",
   "execution_count": 38,
   "metadata": {},
   "outputs": [
    {
     "name": "stdout",
     "output_type": "stream",
     "text": [
      "('r', 'o', 'g')\n",
      "('p', 'r')\n",
      "('i', 'z')\n",
      "('p', 'r', 'o', 'g', 'r', 'a', 'm', 'i', 'z')\n"
     ]
    }
   ],
   "source": [
    "my_tuple = ('p','r','o','g','r','a','m','i','z')\n",
    "\n",
    "# elements 2nd to 4th\n",
    "# Output: ('r', 'o', 'g')\n",
    "print(my_tuple[1:4])\n",
    "\n",
    "# elements beginning to 2nd\n",
    "# Output: ('p', 'r')\n",
    "print(my_tuple[:-7])\n",
    "\n",
    "# elements 8th to end\n",
    "# Output: ('i', 'z')\n",
    "print(my_tuple[7:])\n",
    "\n",
    "# elements beginning to end\n",
    "# Output: ('p', 'r', 'o', 'g', 'r', 'a', 'm', 'i', 'z')\n",
    "print(my_tuple[:])"
   ]
  },
  {
   "cell_type": "markdown",
   "metadata": {},
   "source": [
    "Slicing can be best visualized by considering the index to be between the elements as shown below. So if we want to access a range, we need the index that will slice the portion from the tuple."
   ]
  },
  {
   "cell_type": "markdown",
   "metadata": {},
   "source": [
    "# Changing a Tuple"
   ]
  },
  {
   "cell_type": "markdown",
   "metadata": {},
   "source": [
    "Unlike lists, tuples are immutable.\n",
    "\n",
    "This means that elements of a tuple cannot be changed once it has been assigned. But, if the element is itself a mutable datatype like list, its nested items can be changed.\n",
    "\n",
    "We can also assign a tuple to different values (reassignment)."
   ]
  },
  {
   "cell_type": "code",
   "execution_count": 39,
   "metadata": {},
   "outputs": [
    {
     "name": "stdout",
     "output_type": "stream",
     "text": [
      "(4, 2, 3, [9, 5])\n",
      "('p', 'r', 'o', 'g', 'r', 'a', 'm', 'i', 'z')\n"
     ]
    }
   ],
   "source": [
    "my_tuple = (4, 2, 3, [6, 5])\n",
    "\n",
    "\n",
    "# TypeError: 'tuple' object does not support item assignment\n",
    "# my_tuple[1] = 9\n",
    "\n",
    "# However, item of mutable element can be changed\n",
    "my_tuple[3][0] = 9    # Output: (4, 2, 3, [9, 5])\n",
    "print(my_tuple)\n",
    "\n",
    "# Tuples can be reassigned\n",
    "my_tuple = ('p','r','o','g','r','a','m','i','z')\n",
    "\n",
    "# Output: ('p', 'r', 'o', 'g', 'r', 'a', 'm', 'i', 'z')\n",
    "print(my_tuple)"
   ]
  },
  {
   "cell_type": "markdown",
   "metadata": {},
   "source": [
    "We can use + operator to combine two tuples. This is also called concatenation.\n",
    "\n",
    "We can also repeat the elements in a tuple for a given number of times using the * operator.\n",
    "\n",
    "Both + and * operations result in a new tuple."
   ]
  },
  {
   "cell_type": "code",
   "execution_count": 40,
   "metadata": {},
   "outputs": [
    {
     "name": "stdout",
     "output_type": "stream",
     "text": [
      "(1, 2, 3, 4, 5, 6)\n",
      "('Repeat', 'Repeat', 'Repeat')\n"
     ]
    }
   ],
   "source": [
    "# Concatenation\n",
    "# Output: (1, 2, 3, 4, 5, 6)\n",
    "print((1, 2, 3) + (4, 5, 6))\n",
    "\n",
    "# Repeat\n",
    "# Output: ('Repeat', 'Repeat', 'Repeat')\n",
    "print((\"Repeat\",) * 3)"
   ]
  },
  {
   "cell_type": "markdown",
   "metadata": {},
   "source": [
    "# Deleting a Tuple"
   ]
  },
  {
   "cell_type": "markdown",
   "metadata": {},
   "source": [
    "As discussed above, we cannot change the elements in a tuple. That also means we cannot delete or remove items from a tuple.\n",
    "\n",
    "But deleting a tuple entirely is possible using the keyword del."
   ]
  },
  {
   "cell_type": "code",
   "execution_count": 41,
   "metadata": {},
   "outputs": [
    {
     "ename": "NameError",
     "evalue": "name 'my_tuple' is not defined",
     "output_type": "error",
     "traceback": [
      "\u001b[0;31m---------------------------------------------------------------------------\u001b[0m",
      "\u001b[0;31mNameError\u001b[0m                                 Traceback (most recent call last)",
      "\u001b[0;32m<ipython-input-41-1ae5833bfd10>\u001b[0m in \u001b[0;36m<module>\u001b[0;34m\u001b[0m\n\u001b[1;32m      9\u001b[0m \u001b[0;34m\u001b[0m\u001b[0m\n\u001b[1;32m     10\u001b[0m \u001b[0;31m# NameError: name 'my_tuple' is not defined\u001b[0m\u001b[0;34m\u001b[0m\u001b[0;34m\u001b[0m\u001b[0;34m\u001b[0m\u001b[0m\n\u001b[0;32m---> 11\u001b[0;31m \u001b[0mprint\u001b[0m\u001b[0;34m(\u001b[0m\u001b[0mmy_tuple\u001b[0m\u001b[0;34m)\u001b[0m\u001b[0;34m\u001b[0m\u001b[0;34m\u001b[0m\u001b[0m\n\u001b[0m",
      "\u001b[0;31mNameError\u001b[0m: name 'my_tuple' is not defined"
     ]
    }
   ],
   "source": [
    "my_tuple = ('p','r','o','g','r','a','m','i','z')\n",
    "\n",
    "# can't delete items\n",
    "# TypeError: 'tuple' object doesn't support item deletion\n",
    "# del my_tuple[3]\n",
    "\n",
    "# Can delete an entire tuple\n",
    "del my_tuple\n",
    "\n",
    "# NameError: name 'my_tuple' is not defined\n",
    "print(my_tuple)"
   ]
  },
  {
   "cell_type": "markdown",
   "metadata": {},
   "source": [
    "# Tuple Methods"
   ]
  },
  {
   "cell_type": "markdown",
   "metadata": {},
   "source": [
    "Methods that add items or remove items are not available with tuple. Only the following two methods are available."
   ]
  },
  {
   "cell_type": "markdown",
   "metadata": {},
   "source": [
    "1. count(x) => Returns the number of items x.\n",
    "2. index(x) => Returns the index of the first item that is equal to x."
   ]
  },
  {
   "cell_type": "markdown",
   "metadata": {},
   "source": [
    "Some examples of Python tuple methods:\n"
   ]
  },
  {
   "cell_type": "code",
   "execution_count": 1,
   "metadata": {},
   "outputs": [
    {
     "name": "stdout",
     "output_type": "stream",
     "text": [
      "2\n",
      "3\n"
     ]
    }
   ],
   "source": [
    "my_tuple = ('a','p','p','l','e',)\n",
    "\n",
    "print(my_tuple.count('p'))  # Output: 2\n",
    "print(my_tuple.index('l'))  # Output: 3"
   ]
  },
  {
   "cell_type": "markdown",
   "metadata": {},
   "source": [
    "# Other Tuple Operations"
   ]
  },
  {
   "cell_type": "markdown",
   "metadata": {},
   "source": [
    "# 1. Tuple Membership Test"
   ]
  },
  {
   "cell_type": "markdown",
   "metadata": {},
   "source": [
    "We can test if an item exists in a tuple or not, using the keyword in."
   ]
  },
  {
   "cell_type": "code",
   "execution_count": 2,
   "metadata": {},
   "outputs": [
    {
     "name": "stdout",
     "output_type": "stream",
     "text": [
      "True\n",
      "False\n",
      "True\n"
     ]
    }
   ],
   "source": [
    "my_tuple = ('a','p','p','l','e',)\n",
    "\n",
    "# In operation\n",
    "# Output: True\n",
    "print('a' in my_tuple)\n",
    "\n",
    "# Output: False\n",
    "print('b' in my_tuple)\n",
    "\n",
    "# Not in operation\n",
    "# Output: True\n",
    "print('g' not in my_tuple)"
   ]
  },
  {
   "cell_type": "markdown",
   "metadata": {},
   "source": [
    "# 2. Iterating Through a Tuple"
   ]
  },
  {
   "cell_type": "markdown",
   "metadata": {},
   "source": [
    "Using a for loop we can iterate through each item in a tuple."
   ]
  },
  {
   "cell_type": "code",
   "execution_count": 3,
   "metadata": {},
   "outputs": [
    {
     "name": "stdout",
     "output_type": "stream",
     "text": [
      "Hello John\n",
      "Hello Kate\n"
     ]
    }
   ],
   "source": [
    "# Output: \n",
    "# Hello John\n",
    "# Hello Kate\n",
    "for name in ('John','Kate'):\n",
    "     print(\"Hello\",name) "
   ]
  },
  {
   "cell_type": "markdown",
   "metadata": {},
   "source": [
    "# Advantages of Tuple over List"
   ]
  },
  {
   "cell_type": "markdown",
   "metadata": {},
   "source": [
    "Since tuples are quite similar to lists, both of them are used in similar situations as well.\n",
    "\n",
    "However, there are certain advantages of implementing a tuple over a list. Below listed are some of the main advantages:"
   ]
  },
  {
   "cell_type": "markdown",
   "metadata": {},
   "source": [
    "1. We generally use tuple for heterogeneous (different) datatypes and list for homogeneous (similar) datatypes.\n",
    "2. Since tuples are immutable, iterating through tuple is faster than with list. So there is a slight performance boost.\n",
    "3. Tuples that contain immutable elements can be used as a key for a dictionary. With lists, this is not possible.\n",
    "4. If you have data that doesn't change, implementing it as tuple will guarantee that it remains write-protected."
   ]
  },
  {
   "cell_type": "markdown",
   "metadata": {},
   "source": [
    "# Python Strings"
   ]
  },
  {
   "cell_type": "markdown",
   "metadata": {},
   "source": [
    "A string is a sequence of characters.\n",
    "\n",
    "A character is simply a symbol. For example, the English language has 26 characters.\n",
    "\n",
    "Computers do not deal with characters, they deal with numbers (binary). Even though you may see characters on your screen, internally it is stored and manipulated as a combination of 0's and 1's.\n",
    "\n",
    "This conversion of character to a number is called encoding, and the reverse process is decoding. ASCII and Unicode are some of the popular encoding used.\n",
    "\n",
    "In Python, a string is a sequence of Unicode characters. Unicode was introduced to include every character in all languages and bring uniformity in encoding. "
   ]
  },
  {
   "cell_type": "markdown",
   "metadata": {},
   "source": [
    "# How to create a string in Python?"
   ]
  },
  {
   "cell_type": "markdown",
   "metadata": {},
   "source": [
    "Strings can be created by enclosing characters inside a single quote or double-quotes. Even triple quotes can be used in Python but generally used to represent multiline strings and docstrings."
   ]
  },
  {
   "cell_type": "code",
   "execution_count": 4,
   "metadata": {},
   "outputs": [
    {
     "name": "stdout",
     "output_type": "stream",
     "text": [
      "Hello\n",
      "Hello\n",
      "Hello\n",
      "Hello, welcome to\n",
      "           the world of Python\n"
     ]
    }
   ],
   "source": [
    "# all of the following are equivalent\n",
    "my_string = 'Hello'\n",
    "print(my_string)\n",
    "\n",
    "my_string = \"Hello\"\n",
    "print(my_string)\n",
    "\n",
    "my_string = '''Hello'''\n",
    "print(my_string)\n",
    "\n",
    "# triple quotes string can extend multiple lines\n",
    "my_string = \"\"\"Hello, welcome to\n",
    "           the world of Python\"\"\"\n",
    "print(my_string)"
   ]
  },
  {
   "cell_type": "markdown",
   "metadata": {},
   "source": [
    "# How to access characters in a string?"
   ]
  },
  {
   "cell_type": "markdown",
   "metadata": {},
   "source": [
    "We can access individual characters using indexing and a range of characters using slicing. Index starts from 0. Trying to access a character out of index range will raise an IndexError. The index must be an integer. We can't use float or other types, this will result into TypeError.\n",
    "\n",
    "Python allows negative indexing for its sequences.\n",
    "\n",
    "The index of -1 refers to the last item, -2 to the second last item and so on. We can access a range of items in a string by using the slicing operator (colon)."
   ]
  },
  {
   "cell_type": "code",
   "execution_count": 5,
   "metadata": {},
   "outputs": [
    {
     "name": "stdout",
     "output_type": "stream",
     "text": [
      "str =  programiz\n",
      "str[0] =  p\n",
      "str[-1] =  z\n",
      "str[1:5] =  rogr\n",
      "str[5:-2] =  am\n"
     ]
    }
   ],
   "source": [
    "str = 'programiz'\n",
    "print('str = ', str)\n",
    "\n",
    "#first character\n",
    "print('str[0] = ', str[0])\n",
    "\n",
    "#last character\n",
    "print('str[-1] = ', str[-1])\n",
    "\n",
    "#slicing 2nd to 5th character\n",
    "print('str[1:5] = ', str[1:5])\n",
    "\n",
    "#slicing 6th to 2nd last character\n",
    "print('str[5:-2] = ', str[5:-2])"
   ]
  },
  {
   "cell_type": "markdown",
   "metadata": {},
   "source": [
    "If we try to access index out of the range or use decimal number, we will get errors."
   ]
  },
  {
   "cell_type": "markdown",
   "metadata": {},
   "source": [
    "# How to change or delete a string?"
   ]
  },
  {
   "cell_type": "markdown",
   "metadata": {},
   "source": [
    "Strings are immutable. This means that elements of a string cannot be changed once it has been assigned. We can simply reassign different strings to the same name.\n",
    "\n"
   ]
  },
  {
   "cell_type": "code",
   "execution_count": 8,
   "metadata": {},
   "outputs": [
    {
     "ename": "TypeError",
     "evalue": "'str' object does not support item assignment",
     "output_type": "error",
     "traceback": [
      "\u001b[0;31m---------------------------------------------------------------------------\u001b[0m",
      "\u001b[0;31mTypeError\u001b[0m                                 Traceback (most recent call last)",
      "\u001b[0;32m<ipython-input-8-dcb637a78c61>\u001b[0m in \u001b[0;36m<module>\u001b[0;34m\u001b[0m\n\u001b[1;32m      1\u001b[0m \u001b[0mmy_string\u001b[0m \u001b[0;34m=\u001b[0m \u001b[0;34m'programiz'\u001b[0m\u001b[0;34m\u001b[0m\u001b[0;34m\u001b[0m\u001b[0m\n\u001b[0;32m----> 2\u001b[0;31m \u001b[0mmy_string\u001b[0m\u001b[0;34m[\u001b[0m\u001b[0;36m5\u001b[0m\u001b[0;34m]\u001b[0m \u001b[0;34m=\u001b[0m \u001b[0;34m'a'\u001b[0m\u001b[0;34m\u001b[0m\u001b[0;34m\u001b[0m\u001b[0m\n\u001b[0m",
      "\u001b[0;31mTypeError\u001b[0m: 'str' object does not support item assignment"
     ]
    }
   ],
   "source": [
    "my_string = 'programiz'\n",
    "my_string[5] = 'a'\n"
   ]
  },
  {
   "cell_type": "code",
   "execution_count": 9,
   "metadata": {},
   "outputs": [
    {
     "data": {
      "text/plain": [
       "'Python'"
      ]
     },
     "execution_count": 9,
     "metadata": {},
     "output_type": "execute_result"
    }
   ],
   "source": [
    "my_string = 'Python'\n",
    "my_string"
   ]
  },
  {
   "cell_type": "markdown",
   "metadata": {},
   "source": [
    "We cannot delete or remove characters from a string. But deleting the string entirely is possible using the keyword del."
   ]
  },
  {
   "cell_type": "code",
   "execution_count": 10,
   "metadata": {},
   "outputs": [
    {
     "ename": "TypeError",
     "evalue": "'str' object doesn't support item deletion",
     "output_type": "error",
     "traceback": [
      "\u001b[0;31m---------------------------------------------------------------------------\u001b[0m",
      "\u001b[0;31mTypeError\u001b[0m                                 Traceback (most recent call last)",
      "\u001b[0;32m<ipython-input-10-d6fdf108d0d3>\u001b[0m in \u001b[0;36m<module>\u001b[0;34m\u001b[0m\n\u001b[0;32m----> 1\u001b[0;31m \u001b[0;32mdel\u001b[0m \u001b[0mmy_string\u001b[0m\u001b[0;34m[\u001b[0m\u001b[0;36m1\u001b[0m\u001b[0;34m]\u001b[0m\u001b[0;34m\u001b[0m\u001b[0;34m\u001b[0m\u001b[0m\n\u001b[0m",
      "\u001b[0;31mTypeError\u001b[0m: 'str' object doesn't support item deletion"
     ]
    }
   ],
   "source": [
    "del my_string[1]"
   ]
  },
  {
   "cell_type": "markdown",
   "metadata": {},
   "source": [
    "# Python String Operations"
   ]
  },
  {
   "cell_type": "markdown",
   "metadata": {},
   "source": [
    "There are many operations that can be performed with string which makes it one of the most used datatypes in Python."
   ]
  },
  {
   "cell_type": "markdown",
   "metadata": {},
   "source": [
    "# Concatenation of Two or More Strings"
   ]
  },
  {
   "cell_type": "markdown",
   "metadata": {},
   "source": [
    "Joining of two or more strings into a single one is called concatenation.\n",
    "\n",
    "The + operator does this in Python. Simply writing two string literals together also concatenates them.\n",
    "\n",
    "The * operator can be used to repeat the string for a given number of times."
   ]
  },
  {
   "cell_type": "code",
   "execution_count": 11,
   "metadata": {},
   "outputs": [
    {
     "name": "stdout",
     "output_type": "stream",
     "text": [
      "str1 + str2 =  HelloWorld!\n",
      "str1 * 3 = HelloHelloHello\n"
     ]
    }
   ],
   "source": [
    "str1 = 'Hello'\n",
    "str2 ='World!'\n",
    "\n",
    "# using +\n",
    "print('str1 + str2 = ', str1 + str2)\n",
    "\n",
    "# using *\n",
    "print('str1 * 3 =', str1 * 3)"
   ]
  },
  {
   "cell_type": "markdown",
   "metadata": {},
   "source": [
    "Writing two string literals together also concatenates them like + operator.\n",
    "\n",
    "If we want to concatenate strings in different lines, we can use parentheses."
   ]
  },
  {
   "cell_type": "code",
   "execution_count": 12,
   "metadata": {},
   "outputs": [
    {
     "data": {
      "text/plain": [
       "'Hello World!'"
      ]
     },
     "execution_count": 12,
     "metadata": {},
     "output_type": "execute_result"
    }
   ],
   "source": [
    "'Hello ''World!'"
   ]
  },
  {
   "cell_type": "code",
   "execution_count": 13,
   "metadata": {},
   "outputs": [],
   "source": [
    "s = ('Hello '\n",
    "...      'World')"
   ]
  },
  {
   "cell_type": "code",
   "execution_count": 14,
   "metadata": {},
   "outputs": [
    {
     "data": {
      "text/plain": [
       "'Hello World'"
      ]
     },
     "execution_count": 14,
     "metadata": {},
     "output_type": "execute_result"
    }
   ],
   "source": [
    "s"
   ]
  },
  {
   "cell_type": "markdown",
   "metadata": {},
   "source": [
    "# Iterating Through String"
   ]
  },
  {
   "cell_type": "markdown",
   "metadata": {},
   "source": [
    "Using for loop we can iterate through a string. Here is an example to count the number of 'l' in a string."
   ]
  },
  {
   "cell_type": "code",
   "execution_count": 15,
   "metadata": {},
   "outputs": [
    {
     "name": "stdout",
     "output_type": "stream",
     "text": [
      "3 letters found\n"
     ]
    }
   ],
   "source": [
    "count = 0\n",
    "for letter in 'Hello World':\n",
    "    if(letter == 'l'):\n",
    "        count += 1\n",
    "print(count,'letters found')"
   ]
  },
  {
   "cell_type": "markdown",
   "metadata": {},
   "source": [
    "# String Membership Test"
   ]
  },
  {
   "cell_type": "markdown",
   "metadata": {},
   "source": [
    "We can test if a sub string exists within a string or not, using the keyword in."
   ]
  },
  {
   "cell_type": "code",
   "execution_count": 16,
   "metadata": {},
   "outputs": [
    {
     "data": {
      "text/plain": [
       "True"
      ]
     },
     "execution_count": 16,
     "metadata": {},
     "output_type": "execute_result"
    }
   ],
   "source": [
    "'a' in 'program'"
   ]
  },
  {
   "cell_type": "code",
   "execution_count": 17,
   "metadata": {},
   "outputs": [
    {
     "data": {
      "text/plain": [
       "False"
      ]
     },
     "execution_count": 17,
     "metadata": {},
     "output_type": "execute_result"
    }
   ],
   "source": [
    "'at' not in 'battle'"
   ]
  },
  {
   "cell_type": "markdown",
   "metadata": {},
   "source": [
    "# Built-in functions to Work with Python"
   ]
  },
  {
   "cell_type": "markdown",
   "metadata": {},
   "source": [
    "Various built-in functions that work with sequence, works with string as well.\n",
    "\n",
    "Some of the commonly used ones are enumerate() and len(). The enumerate() function returns an enumerate object. It contains the index and value of all the items in the string as pairs. This can be useful for iteration.\n",
    "\n",
    "Similarly, len() returns the length (number of characters) of the string."
   ]
  },
  {
   "cell_type": "code",
   "execution_count": 18,
   "metadata": {},
   "outputs": [
    {
     "name": "stdout",
     "output_type": "stream",
     "text": [
      "list(enumerate(str) =  [(0, 'c'), (1, 'o'), (2, 'l'), (3, 'd')]\n",
      "len(str) =  4\n"
     ]
    }
   ],
   "source": [
    "str = 'cold'\n",
    "\n",
    "# enumerate()\n",
    "list_enumerate = list(enumerate(str))\n",
    "print('list(enumerate(str) = ', list_enumerate)\n",
    "\n",
    "#character count\n",
    "print('len(str) = ', len(str))"
   ]
  },
  {
   "cell_type": "markdown",
   "metadata": {},
   "source": [
    "# Python String Formatting"
   ]
  },
  {
   "cell_type": "markdown",
   "metadata": {},
   "source": [
    "# Escape Sequence"
   ]
  },
  {
   "cell_type": "markdown",
   "metadata": {},
   "source": [
    "If we want to print a text like -He said, \"What's there?\"- we can neither use single quote or double quotes. This will result into SyntaxError as the text itself contains both single and double quotes."
   ]
  },
  {
   "cell_type": "code",
   "execution_count": 19,
   "metadata": {},
   "outputs": [
    {
     "ename": "SyntaxError",
     "evalue": "invalid syntax (<ipython-input-19-5b2db8c64782>, line 1)",
     "output_type": "error",
     "traceback": [
      "\u001b[0;36m  File \u001b[0;32m\"<ipython-input-19-5b2db8c64782>\"\u001b[0;36m, line \u001b[0;32m1\u001b[0m\n\u001b[0;31m    print(\"He said, \"What's there?\"\")\u001b[0m\n\u001b[0m                        ^\u001b[0m\n\u001b[0;31mSyntaxError\u001b[0m\u001b[0;31m:\u001b[0m invalid syntax\n"
     ]
    }
   ],
   "source": [
    "print(\"He said, \"What's there?\"\")"
   ]
  },
  {
   "cell_type": "markdown",
   "metadata": {},
   "source": [
    "One way to get around this problem is to use triple quotes. Alternatively, we can use escape sequences.\n",
    "\n",
    "An escape sequence starts with a backslash and is interpreted differently. If we use single quote to represent a string, all the single quotes inside the string must be escaped. Similar is the case with double quotes. Here is how it can be done to represent the above text."
   ]
  },
  {
   "cell_type": "code",
   "execution_count": 20,
   "metadata": {},
   "outputs": [
    {
     "name": "stdout",
     "output_type": "stream",
     "text": [
      "He said, \"What's there?\"\n",
      "He said, \"What's there?\"\n",
      "He said, \"What's there?\"\n"
     ]
    }
   ],
   "source": [
    "# using triple quotes\n",
    "print('''He said, \"What's there?\"''')\n",
    "\n",
    "# escaping single quotes\n",
    "print('He said, \"What\\'s there?\"')\n",
    "\n",
    "# escaping double quotes\n",
    "print(\"He said, \\\"What's there?\\\"\")"
   ]
  },
  {
   "cell_type": "markdown",
   "metadata": {},
   "source": [
    "Here is a list of all the escape sequence supported by Python."
   ]
  },
  {
   "cell_type": "markdown",
   "metadata": {},
   "source": [
    "1. \\newline => Backslash and newline ignored\n",
    "2. \\\\ => Backslash\n",
    "3. \\' => Single Quote\n",
    "4. \\\" => Double Quote\n",
    "5. \\a => ASCII Bell\n",
    "6. \\b => ASCII Backspace\n",
    "7. \\f => ASCII Formfeed\n",
    "8. \\n => ASCII Linefeed\n",
    "9. \\r => ASCII Carriage Return\n",
    "10. \\t => ASCII Horizontal Tab\n",
    "11. \\v => ASCII Vertical Tab\n",
    "12. \\ooo => Character with octal value ooo\n",
    "12. \\xHH => Character with hexadecimal value HH"
   ]
  },
  {
   "cell_type": "markdown",
   "metadata": {},
   "source": [
    "Here are some examples"
   ]
  },
  {
   "cell_type": "code",
   "execution_count": 21,
   "metadata": {},
   "outputs": [
    {
     "name": "stdout",
     "output_type": "stream",
     "text": [
      "C:\\Python32\\Lib\n"
     ]
    }
   ],
   "source": [
    "print(\"C:\\\\Python32\\\\Lib\")"
   ]
  },
  {
   "cell_type": "code",
   "execution_count": 22,
   "metadata": {},
   "outputs": [
    {
     "name": "stdout",
     "output_type": "stream",
     "text": [
      "This is printed\n",
      "in two lines\n"
     ]
    }
   ],
   "source": [
    " print(\"This is printed\\nin two lines\")"
   ]
  },
  {
   "cell_type": "code",
   "execution_count": 23,
   "metadata": {},
   "outputs": [
    {
     "name": "stdout",
     "output_type": "stream",
     "text": [
      "This is HEX representation\n"
     ]
    }
   ],
   "source": [
    "print(\"This is \\x48\\x45\\x58 representation\")"
   ]
  },
  {
   "cell_type": "markdown",
   "metadata": {},
   "source": [
    "# Raw String to ignore escape sequence"
   ]
  },
  {
   "cell_type": "markdown",
   "metadata": {},
   "source": [
    "Sometimes we may wish to ignore the escape sequences inside a string. To do this we can place r or R in front of the string. This will imply that it is a raw string and any escape sequence inside it will be ignored."
   ]
  },
  {
   "cell_type": "code",
   "execution_count": 24,
   "metadata": {},
   "outputs": [
    {
     "name": "stdout",
     "output_type": "stream",
     "text": [
      "This is a \n",
      "good example\n"
     ]
    }
   ],
   "source": [
    "print(\"This is \\x61 \\ngood example\")"
   ]
  },
  {
   "cell_type": "code",
   "execution_count": 25,
   "metadata": {},
   "outputs": [
    {
     "name": "stdout",
     "output_type": "stream",
     "text": [
      "This is \\x61 \\ngood example\n"
     ]
    }
   ],
   "source": [
    "print(r\"This is \\x61 \\ngood example\")"
   ]
  },
  {
   "cell_type": "markdown",
   "metadata": {},
   "source": [
    "# The format() Method for Formatting Strings"
   ]
  },
  {
   "cell_type": "markdown",
   "metadata": {},
   "source": [
    "The format() method that is available with the string object is very versatile and powerful in formatting strings. Format strings contains curly braces {} as placeholders or replacement fields which gets replaced.\n",
    "\n",
    "We can use positional arguments or keyword arguments to specify the order."
   ]
  },
  {
   "cell_type": "code",
   "execution_count": 26,
   "metadata": {},
   "outputs": [
    {
     "name": "stdout",
     "output_type": "stream",
     "text": [
      "\n",
      "--- Default Order ---\n",
      "John, Bill and Sean\n",
      "\n",
      "--- Positional Order ---\n",
      "Bill, John and Sean\n",
      "\n",
      "--- Keyword Order ---\n",
      "Sean, Bill and John\n"
     ]
    }
   ],
   "source": [
    "# default(implicit) order\n",
    "default_order = \"{}, {} and {}\".format('John','Bill','Sean')\n",
    "print('\\n--- Default Order ---')\n",
    "print(default_order)\n",
    "\n",
    "# order using positional argument\n",
    "positional_order = \"{1}, {0} and {2}\".format('John','Bill','Sean')\n",
    "print('\\n--- Positional Order ---')\n",
    "print(positional_order)\n",
    "\n",
    "# order using keyword argument\n",
    "keyword_order = \"{s}, {b} and {j}\".format(j='John',b='Bill',s='Sean')\n",
    "print('\\n--- Keyword Order ---')\n",
    "print(keyword_order)"
   ]
  },
  {
   "cell_type": "markdown",
   "metadata": {},
   "source": [
    "The format() method can have optional format specifications. They are separated from field name using colon. For example, we can left-justify <, right-justify > or center ^ a string in the given space. We can also format integers as binary, hexadecimal etc. and floats can be rounded or displayed in the exponent format. There are a ton of formatting you can use. "
   ]
  },
  {
   "cell_type": "code",
   "execution_count": 27,
   "metadata": {},
   "outputs": [
    {
     "data": {
      "text/plain": [
       "'Binary representation of 12 is 1100'"
      ]
     },
     "execution_count": 27,
     "metadata": {},
     "output_type": "execute_result"
    }
   ],
   "source": [
    "# formatting integers\n",
    "\"Binary representation of {0} is {0:b}\".format(12)"
   ]
  },
  {
   "cell_type": "code",
   "execution_count": 28,
   "metadata": {},
   "outputs": [
    {
     "data": {
      "text/plain": [
       "'Exponent representation: 1.566345e+03'"
      ]
     },
     "execution_count": 28,
     "metadata": {},
     "output_type": "execute_result"
    }
   ],
   "source": [
    "# formatting floats\n",
    "\"Exponent representation: {0:e}\".format(1566.345)"
   ]
  },
  {
   "cell_type": "code",
   "execution_count": 29,
   "metadata": {},
   "outputs": [
    {
     "data": {
      "text/plain": [
       "'One third is: 0.333'"
      ]
     },
     "execution_count": 29,
     "metadata": {},
     "output_type": "execute_result"
    }
   ],
   "source": [
    "# round off\n",
    "\"One third is: {0:.3f}\".format(1/3)"
   ]
  },
  {
   "cell_type": "code",
   "execution_count": 30,
   "metadata": {},
   "outputs": [
    {
     "data": {
      "text/plain": [
       "'|butter    |  bread   |       ham|'"
      ]
     },
     "execution_count": 30,
     "metadata": {},
     "output_type": "execute_result"
    }
   ],
   "source": [
    "# string alignment\n",
    "\"|{:<10}|{:^10}|{:>10}|\".format('butter','bread','ham')"
   ]
  },
  {
   "cell_type": "markdown",
   "metadata": {},
   "source": [
    "# Old style formatting"
   ]
  },
  {
   "cell_type": "markdown",
   "metadata": {},
   "source": [
    "We can even format strings like the old sprintf() style used in C programming language. We use the % operator to accomplish this."
   ]
  },
  {
   "cell_type": "code",
   "execution_count": 31,
   "metadata": {},
   "outputs": [
    {
     "name": "stdout",
     "output_type": "stream",
     "text": [
      "The value of x is 12.35\n",
      "The value of x is 12.3457\n"
     ]
    }
   ],
   "source": [
    "x = 12.3456789\n",
    "print('The value of x is %3.2f' %x)\n",
    "print('The value of x is %3.4f' %x)"
   ]
  },
  {
   "cell_type": "markdown",
   "metadata": {},
   "source": [
    "# Common Python String Methods"
   ]
  },
  {
   "cell_type": "markdown",
   "metadata": {},
   "source": [
    "There are numerous methods available with the string object. The format() method that we mentioned above is one of them. Some of the commonly used methods are lower(), upper(), join(), split(), find(), replace() etc."
   ]
  },
  {
   "cell_type": "code",
   "execution_count": 32,
   "metadata": {},
   "outputs": [
    {
     "data": {
      "text/plain": [
       "'programiz'"
      ]
     },
     "execution_count": 32,
     "metadata": {},
     "output_type": "execute_result"
    }
   ],
   "source": [
    "\"PrOgRaMiZ\".lower()"
   ]
  },
  {
   "cell_type": "code",
   "execution_count": 33,
   "metadata": {},
   "outputs": [
    {
     "data": {
      "text/plain": [
       "'PROGRAMIZ'"
      ]
     },
     "execution_count": 33,
     "metadata": {},
     "output_type": "execute_result"
    }
   ],
   "source": [
    "\"PrOgRaMiZ\".upper()"
   ]
  },
  {
   "cell_type": "code",
   "execution_count": 34,
   "metadata": {},
   "outputs": [
    {
     "data": {
      "text/plain": [
       "['This', 'will', 'split', 'all', 'words', 'into', 'a', 'list']"
      ]
     },
     "execution_count": 34,
     "metadata": {},
     "output_type": "execute_result"
    }
   ],
   "source": [
    "\"This will split all words into a list\".split()"
   ]
  },
  {
   "cell_type": "code",
   "execution_count": 35,
   "metadata": {},
   "outputs": [
    {
     "data": {
      "text/plain": [
       "'This will join all words into a string'"
      ]
     },
     "execution_count": 35,
     "metadata": {},
     "output_type": "execute_result"
    }
   ],
   "source": [
    "' '.join(['This', 'will', 'join', 'all', 'words', 'into', 'a', 'string'])"
   ]
  },
  {
   "cell_type": "code",
   "execution_count": 36,
   "metadata": {},
   "outputs": [
    {
     "data": {
      "text/plain": [
       "7"
      ]
     },
     "execution_count": 36,
     "metadata": {},
     "output_type": "execute_result"
    }
   ],
   "source": [
    "'Happy New Year'.find('ew')"
   ]
  },
  {
   "cell_type": "code",
   "execution_count": 37,
   "metadata": {},
   "outputs": [
    {
     "data": {
      "text/plain": [
       "'Brilliant New Year'"
      ]
     },
     "execution_count": 37,
     "metadata": {},
     "output_type": "execute_result"
    }
   ],
   "source": [
    "'Happy New Year'.replace('Happy','Brilliant')"
   ]
  },
  {
   "cell_type": "markdown",
   "metadata": {},
   "source": [
    "# Python Sets"
   ]
  },
  {
   "cell_type": "markdown",
   "metadata": {},
   "source": [
    "A set is an unordered collection of items. Every element is unique (no duplicates) and must be immutable (which cannot be changed).\n",
    "\n",
    "However, the set itself is mutable. We can add or remove items from it.\n",
    "\n",
    "Sets can be used to perform mathematical set operations like union, intersection, symmetric difference etc."
   ]
  },
  {
   "cell_type": "markdown",
   "metadata": {},
   "source": [
    "# How to create a set?"
   ]
  },
  {
   "cell_type": "markdown",
   "metadata": {},
   "source": [
    "A set is created by placing all the items (elements) inside curly braces {}, separated by comma or by using the built-in function set().\n",
    "\n",
    "It can have any number of items and they may be of different types (integer, float, tuple, string etc.). But a set cannot have a mutable element, like list, set or dictionary, as its element."
   ]
  },
  {
   "cell_type": "code",
   "execution_count": 38,
   "metadata": {},
   "outputs": [
    {
     "name": "stdout",
     "output_type": "stream",
     "text": [
      "{1, 2, 3}\n",
      "{1.0, 'Hello', (1, 2, 3)}\n"
     ]
    }
   ],
   "source": [
    "# set of integers\n",
    "my_set = {1, 2, 3}\n",
    "print(my_set)\n",
    "\n",
    "# set of mixed datatypes\n",
    "my_set = {1.0, \"Hello\", (1, 2, 3)}\n",
    "print(my_set)"
   ]
  },
  {
   "cell_type": "markdown",
   "metadata": {},
   "source": [
    "Try the following examples as well."
   ]
  },
  {
   "cell_type": "code",
   "execution_count": 39,
   "metadata": {},
   "outputs": [
    {
     "name": "stdout",
     "output_type": "stream",
     "text": [
      "{1, 2, 3, 4}\n",
      "{1, 2, 3}\n"
     ]
    }
   ],
   "source": [
    "# set do not have duplicates\n",
    "# Output: {1, 2, 3, 4}\n",
    "my_set = {1,2,3,4,3,2}\n",
    "print(my_set)\n",
    "\n",
    "# set cannot have mutable items\n",
    "# here [3, 4] is a mutable list\n",
    "# If you uncomment line #12,\n",
    "# this will cause an error.\n",
    "# TypeError: unhashable type: 'list'\n",
    "\n",
    "#my_set = {1, 2, [3, 4]}\n",
    "\n",
    "# we can make set from a list\n",
    "# Output: {1, 2, 3}\n",
    "my_set = set([1,2,3,2])\n",
    "print(my_set)"
   ]
  },
  {
   "cell_type": "markdown",
   "metadata": {},
   "source": [
    "Creating an empty set is a bit tricky.\n",
    "\n",
    "Empty curly braces {} will make an empty dictionary in Python. To make a set without any elements we use the set() function without any argument."
   ]
  },
  {
   "cell_type": "code",
   "execution_count": 40,
   "metadata": {},
   "outputs": [
    {
     "name": "stdout",
     "output_type": "stream",
     "text": [
      "<class 'dict'>\n",
      "<class 'set'>\n"
     ]
    }
   ],
   "source": [
    "# initialize a with {}\n",
    "a = {}\n",
    "\n",
    "# check data type of a\n",
    "# Output: <class 'dict'>\n",
    "print(type(a))\n",
    "\n",
    "# initialize a with set()\n",
    "a = set()\n",
    "\n",
    "# check data type of a\n",
    "# Output: <class 'set'>\n",
    "print(type(a))"
   ]
  },
  {
   "cell_type": "markdown",
   "metadata": {},
   "source": [
    "# How to change a set in Python?"
   ]
  },
  {
   "cell_type": "markdown",
   "metadata": {},
   "source": [
    "Sets are mutable. But since they are unordered, indexing have no meaning.\n",
    "\n",
    "We cannot access or change an element of set using indexing or slicing. Set does not support it.\n",
    "\n",
    "We can add single element using the add() method and multiple elements using the update() method. The update() method can take tuples, lists, strings or other sets as its argument. In all cases, duplicates are avoided."
   ]
  },
  {
   "cell_type": "code",
   "execution_count": 41,
   "metadata": {},
   "outputs": [
    {
     "name": "stdout",
     "output_type": "stream",
     "text": [
      "{1, 3}\n",
      "{1, 2, 3}\n",
      "{1, 2, 3, 4}\n",
      "{1, 2, 3, 4, 5, 6, 8}\n"
     ]
    }
   ],
   "source": [
    "# initialize my_set\n",
    "my_set = {1,3}\n",
    "print(my_set)\n",
    "\n",
    "# if you uncomment line 9,\n",
    "# you will get an error\n",
    "# TypeError: 'set' object does not support indexing\n",
    "\n",
    "#my_set[0]\n",
    "\n",
    "# add an element\n",
    "# Output: {1, 2, 3}\n",
    "my_set.add(2)\n",
    "print(my_set)\n",
    "\n",
    "# add multiple elements\n",
    "# Output: {1, 2, 3, 4}\n",
    "my_set.update([2,3,4])\n",
    "print(my_set)\n",
    "\n",
    "# add list and set\n",
    "# Output: {1, 2, 3, 4, 5, 6, 8}\n",
    "my_set.update([4,5], {1,6,8})\n",
    "print(my_set)"
   ]
  },
  {
   "cell_type": "markdown",
   "metadata": {},
   "source": [
    "# How to remove elements from a set?"
   ]
  },
  {
   "cell_type": "markdown",
   "metadata": {},
   "source": [
    "A particular item can be removed from set using methods, discard() and remove().\n",
    "\n",
    "The only difference between the two is that, while using discard() if the item does not exist in the set, it remains unchanged. But remove() will raise an error in such condition.\n",
    "\n",
    "The following example will illustrate this."
   ]
  },
  {
   "cell_type": "code",
   "execution_count": 42,
   "metadata": {},
   "outputs": [
    {
     "name": "stdout",
     "output_type": "stream",
     "text": [
      "{1, 3, 4, 5, 6}\n",
      "{1, 3, 5, 6}\n",
      "{1, 3, 5}\n",
      "{1, 3, 5}\n"
     ]
    }
   ],
   "source": [
    "# initialize my_set\n",
    "my_set = {1, 3, 4, 5, 6}\n",
    "print(my_set)\n",
    "\n",
    "# discard an element\n",
    "# Output: {1, 3, 5, 6}\n",
    "my_set.discard(4)\n",
    "print(my_set)\n",
    "\n",
    "# remove an element\n",
    "# Output: {1, 3, 5}\n",
    "my_set.remove(6)\n",
    "print(my_set)\n",
    "\n",
    "# discard an element\n",
    "# not present in my_set\n",
    "# Output: {1, 3, 5}\n",
    "my_set.discard(2)\n",
    "print(my_set)\n",
    "\n",
    "# remove an element\n",
    "# not present in my_set\n",
    "# If you uncomment line 27,\n",
    "# you will get an error.\n",
    "# Output: KeyError: 2\n",
    "\n",
    "#my_set.remove(2)"
   ]
  },
  {
   "cell_type": "markdown",
   "metadata": {},
   "source": [
    "Similarly, we can remove and return an item using the pop() method.\n",
    "\n",
    "Set being unordered, there is no way of determining which item will be popped. It is completely arbitrary.\n",
    "\n",
    "We can also remove all items from a set using clear()."
   ]
  },
  {
   "cell_type": "code",
   "execution_count": 43,
   "metadata": {},
   "outputs": [
    {
     "name": "stdout",
     "output_type": "stream",
     "text": [
      "{'d', 'e', 'o', 'l', 'W', 'H', 'r'}\n",
      "d\n",
      "{'o', 'l', 'W', 'H', 'r'}\n",
      "set()\n"
     ]
    }
   ],
   "source": [
    "# initialize my_set\n",
    "# Output: set of unique elements\n",
    "my_set = set(\"HelloWorld\")\n",
    "print(my_set)\n",
    "\n",
    "# pop an element\n",
    "# Output: random element\n",
    "print(my_set.pop())\n",
    "\n",
    "# pop another element\n",
    "# Output: random element\n",
    "my_set.pop()\n",
    "print(my_set)\n",
    "\n",
    "# clear my_set\n",
    "#Output: set()\n",
    "my_set.clear()\n",
    "print(my_set)"
   ]
  },
  {
   "cell_type": "markdown",
   "metadata": {},
   "source": [
    "# Python Set Operations"
   ]
  },
  {
   "cell_type": "markdown",
   "metadata": {},
   "source": [
    "Sets can be used to carry out mathematical set operations like union, intersection, difference and symmetric difference. We can do this with operators or methods.\n",
    "\n",
    "Let us consider the following two sets for the following operations."
   ]
  },
  {
   "cell_type": "code",
   "execution_count": 44,
   "metadata": {},
   "outputs": [],
   "source": [
    "A = {1, 2, 3, 4, 5}\n",
    "B = {4, 5, 6, 7, 8}"
   ]
  },
  {
   "cell_type": "markdown",
   "metadata": {},
   "source": [
    "# Set Union"
   ]
  },
  {
   "cell_type": "markdown",
   "metadata": {},
   "source": [
    "Union of A and B is a set of all elements from both sets.\n",
    "\n",
    "Union is performed using | operator. Same can be accomplished using the method union()."
   ]
  },
  {
   "cell_type": "code",
   "execution_count": 45,
   "metadata": {},
   "outputs": [
    {
     "name": "stdout",
     "output_type": "stream",
     "text": [
      "{1, 2, 3, 4, 5, 6, 7, 8}\n"
     ]
    }
   ],
   "source": [
    "# initialize A and B\n",
    "A = {1, 2, 3, 4, 5}\n",
    "B = {4, 5, 6, 7, 8}\n",
    "\n",
    "# use | operator\n",
    "# Output: {1, 2, 3, 4, 5, 6, 7, 8}\n",
    "print(A | B)"
   ]
  },
  {
   "cell_type": "code",
   "execution_count": 46,
   "metadata": {},
   "outputs": [
    {
     "data": {
      "text/plain": [
       "{1, 2, 3, 4, 5, 6, 7, 8}"
      ]
     },
     "execution_count": 46,
     "metadata": {},
     "output_type": "execute_result"
    }
   ],
   "source": [
    "# use union function\n",
    "A.union(B)"
   ]
  },
  {
   "cell_type": "code",
   "execution_count": 47,
   "metadata": {},
   "outputs": [
    {
     "data": {
      "text/plain": [
       "{1, 2, 3, 4, 5, 6, 7, 8}"
      ]
     },
     "execution_count": 47,
     "metadata": {},
     "output_type": "execute_result"
    }
   ],
   "source": [
    "# use union function on B\n",
    "B.union(A)"
   ]
  },
  {
   "cell_type": "markdown",
   "metadata": {},
   "source": [
    "# Set Intersection"
   ]
  },
  {
   "cell_type": "markdown",
   "metadata": {},
   "source": [
    "Intersection of A and B is a set of elements that are common in both sets.\n",
    "\n",
    "Intersection is performed using & operator. Same can be accomplished using the method intersection()."
   ]
  },
  {
   "cell_type": "code",
   "execution_count": 48,
   "metadata": {},
   "outputs": [
    {
     "name": "stdout",
     "output_type": "stream",
     "text": [
      "{4, 5}\n"
     ]
    }
   ],
   "source": [
    "# initialize A and B\n",
    "A = {1, 2, 3, 4, 5}\n",
    "B = {4, 5, 6, 7, 8}\n",
    "\n",
    "# use & operator\n",
    "# Output: {4, 5}\n",
    "print(A & B)"
   ]
  },
  {
   "cell_type": "code",
   "execution_count": 49,
   "metadata": {},
   "outputs": [
    {
     "data": {
      "text/plain": [
       "{4, 5}"
      ]
     },
     "execution_count": 49,
     "metadata": {},
     "output_type": "execute_result"
    }
   ],
   "source": [
    "# use intersection function on A\n",
    "A.intersection(B)"
   ]
  },
  {
   "cell_type": "code",
   "execution_count": 50,
   "metadata": {},
   "outputs": [
    {
     "data": {
      "text/plain": [
       "{4, 5}"
      ]
     },
     "execution_count": 50,
     "metadata": {},
     "output_type": "execute_result"
    }
   ],
   "source": [
    "# use intersection function on B\n",
    "B.intersection(A)"
   ]
  },
  {
   "cell_type": "markdown",
   "metadata": {},
   "source": [
    "# Set Difference"
   ]
  },
  {
   "cell_type": "markdown",
   "metadata": {},
   "source": [
    "Difference of A and B (A - B) is a set of elements that are only in A but not in B. Similarly, B - A is a set of element in B but not in A.\n",
    "\n",
    "Difference is performed using - operator. Same can be accomplished using the method difference()."
   ]
  },
  {
   "cell_type": "code",
   "execution_count": 51,
   "metadata": {},
   "outputs": [
    {
     "name": "stdout",
     "output_type": "stream",
     "text": [
      "{1, 2, 3}\n"
     ]
    }
   ],
   "source": [
    "# initialize A and B\n",
    "A = {1, 2, 3, 4, 5}\n",
    "B = {4, 5, 6, 7, 8}\n",
    "\n",
    "# use - operator on A\n",
    "# Output: {1, 2, 3}\n",
    "print(A - B)"
   ]
  },
  {
   "cell_type": "code",
   "execution_count": 52,
   "metadata": {},
   "outputs": [
    {
     "data": {
      "text/plain": [
       "{1, 2, 3}"
      ]
     },
     "execution_count": 52,
     "metadata": {},
     "output_type": "execute_result"
    }
   ],
   "source": [
    "# use difference function on A\n",
    "A.difference(B)"
   ]
  },
  {
   "cell_type": "code",
   "execution_count": 53,
   "metadata": {},
   "outputs": [
    {
     "data": {
      "text/plain": [
       "{6, 7, 8}"
      ]
     },
     "execution_count": 53,
     "metadata": {},
     "output_type": "execute_result"
    }
   ],
   "source": [
    "# use - operator on B\n",
    "B-A"
   ]
  },
  {
   "cell_type": "code",
   "execution_count": 54,
   "metadata": {},
   "outputs": [
    {
     "data": {
      "text/plain": [
       "{6, 7, 8}"
      ]
     },
     "execution_count": 54,
     "metadata": {},
     "output_type": "execute_result"
    }
   ],
   "source": [
    "# use difference function on B\n",
    "B.difference(A)"
   ]
  },
  {
   "cell_type": "markdown",
   "metadata": {},
   "source": [
    "# Set Symmetric Difference"
   ]
  },
  {
   "cell_type": "markdown",
   "metadata": {},
   "source": [
    "Symmetric Difference of A and B is a set of elements in both A and B except those that are common in both.\n",
    "\n",
    "Symmetric difference is performed using ^ operator. Same can be accomplished using the method symmetric_difference()."
   ]
  },
  {
   "cell_type": "code",
   "execution_count": 55,
   "metadata": {},
   "outputs": [
    {
     "name": "stdout",
     "output_type": "stream",
     "text": [
      "{1, 2, 3, 6, 7, 8}\n"
     ]
    }
   ],
   "source": [
    "# initialize A and B\n",
    "A = {1, 2, 3, 4, 5}\n",
    "B = {4, 5, 6, 7, 8}\n",
    "\n",
    "# use ^ operator\n",
    "# Output: {1, 2, 3, 6, 7, 8}\n",
    "print(A ^ B)"
   ]
  },
  {
   "cell_type": "code",
   "execution_count": 56,
   "metadata": {},
   "outputs": [
    {
     "data": {
      "text/plain": [
       "{1, 2, 3, 6, 7, 8}"
      ]
     },
     "execution_count": 56,
     "metadata": {},
     "output_type": "execute_result"
    }
   ],
   "source": [
    "# use symmetric_difference function on A\n",
    "A.symmetric_difference(B)"
   ]
  },
  {
   "cell_type": "code",
   "execution_count": 57,
   "metadata": {},
   "outputs": [
    {
     "data": {
      "text/plain": [
       "{1, 2, 3, 6, 7, 8}"
      ]
     },
     "execution_count": 57,
     "metadata": {},
     "output_type": "execute_result"
    }
   ],
   "source": [
    "# use symmetric_difference function on B\n",
    "B.symmetric_difference(A)"
   ]
  },
  {
   "cell_type": "markdown",
   "metadata": {},
   "source": [
    "# Different Python Set Methods"
   ]
  },
  {
   "cell_type": "markdown",
   "metadata": {},
   "source": [
    "There are many set methods, some of which we have already used above. Here is a list of all the methods that are available with set objects."
   ]
  },
  {
   "cell_type": "markdown",
   "metadata": {},
   "source": [
    "1. add() => Adds an element to the set\n",
    "2. clear() => Removes all elements from the set\n",
    "3. copy() => Returns a copy of the set\n",
    "4. difference() => Returns the difference of two or more sets as a new set\n",
    "5. difference_update() => Removes all elements of another set from this set\n",
    "6. discard() => Removes an element from the set if it is a member. (Do nothing if the element is not in set)\n",
    "7. intersection() => Returns the intersection of two sets as a new set\n",
    "8. intersection_update() => Updates the set with the intersection of itself and another\n",
    "9. isdisjoint() => Returns True if two sets have a null intersection\n",
    "10. issubset() => Returns True if another set contains this set\n",
    "11. issuperset() => Returns True if this set contains another set\n",
    "12. pop() => Removes and returns an arbitary set element. Raise KeyError if the set is empty\n",
    "13. remove() => Removes an element from the set. If the element is not a member, raise a KeyError\n",
    "14. symmetric_difference() => Returns the symmetric difference of two sets as a new set\n",
    "15. symmetric_difference_update() => Updates a set with the symmetric difference of itself and another\n",
    "16. union() => Returns the union of sets in a new set\n",
    "17. update() => Updates the set with the union of itself and others"
   ]
  },
  {
   "cell_type": "markdown",
   "metadata": {},
   "source": [
    "# Other Set Operations"
   ]
  },
  {
   "cell_type": "markdown",
   "metadata": {},
   "source": [
    "# Set Membership Test"
   ]
  },
  {
   "cell_type": "markdown",
   "metadata": {},
   "source": [
    "We can test if an item exists in a set or not, using the keyword in."
   ]
  },
  {
   "cell_type": "code",
   "execution_count": 58,
   "metadata": {},
   "outputs": [
    {
     "name": "stdout",
     "output_type": "stream",
     "text": [
      "True\n",
      "False\n"
     ]
    }
   ],
   "source": [
    "# initialize my_set\n",
    "my_set = set(\"apple\")\n",
    "\n",
    "# check if 'a' is present\n",
    "# Output: True\n",
    "print('a' in my_set)\n",
    "\n",
    "# check if 'p' is present\n",
    "# Output: False\n",
    "print('p' not in my_set)"
   ]
  },
  {
   "cell_type": "markdown",
   "metadata": {},
   "source": [
    "# Iterating Through a Set"
   ]
  },
  {
   "cell_type": "markdown",
   "metadata": {},
   "source": [
    "Using a for loop, we can iterate though each item in a set."
   ]
  },
  {
   "cell_type": "code",
   "execution_count": 59,
   "metadata": {},
   "outputs": [
    {
     "name": "stdout",
     "output_type": "stream",
     "text": [
      "p\n",
      "l\n",
      "e\n",
      "a\n"
     ]
    }
   ],
   "source": [
    "for letter in set(\"apple\"):\n",
    "    print(letter)"
   ]
  },
  {
   "cell_type": "markdown",
   "metadata": {},
   "source": [
    "# Built-in Functions with Set"
   ]
  },
  {
   "cell_type": "markdown",
   "metadata": {},
   "source": [
    "Built-in functions like all(), any(), enumerate(), len(), max(), min(), sorted(), sum() etc. are commonly used with set to perform different tasks."
   ]
  },
  {
   "cell_type": "markdown",
   "metadata": {},
   "source": [
    "1. all() => Return True if all elements of the set are true (or if the set is empty).\n",
    "2. any() => Return True if any element of the set is true. If the set is empty, return False.\n",
    "3. enumerate() => Return an enumerate object. It contains the index and value of all the items of set as a pair.\n",
    "4. len() => Return the length (the number of items) in the set.\n",
    "5. max() => Return the largest item in the set.\n",
    "6. min() => Return the smallest item in the set.\n",
    "7. sorted() => Return a new sorted list from elements in the set(does not sort the set itself).\n",
    "8. sum() => Return the sum of all elements in the set."
   ]
  },
  {
   "cell_type": "markdown",
   "metadata": {},
   "source": [
    "# Python Frozenset"
   ]
  },
  {
   "cell_type": "markdown",
   "metadata": {},
   "source": [
    "Frozenset is a new class that has the characteristics of a set, but its elements cannot be changed once assigned. While tuples are immutable lists, frozensets are immutable sets.\n",
    "\n",
    "Sets being mutable are unhashable, so they can't be used as dictionary keys. On the other hand, frozensets are hashable and can be used as keys to a dictionary.\n",
    "\n",
    "Frozensets can be created using the function frozenset().\n",
    "\n",
    "This datatype supports methods like copy(), difference(), intersection(), isdisjoint(), issubset(), issuperset(), symmetric_difference() and union(). Being immutable it does not have method that add or remove elements.\n"
   ]
  },
  {
   "cell_type": "code",
   "execution_count": 60,
   "metadata": {},
   "outputs": [],
   "source": [
    "# initialize A and B\n",
    "A = frozenset([1, 2, 3, 4])\n",
    "B = frozenset([3, 4, 5, 6])"
   ]
  },
  {
   "cell_type": "code",
   "execution_count": 61,
   "metadata": {},
   "outputs": [
    {
     "data": {
      "text/plain": [
       "False"
      ]
     },
     "execution_count": 61,
     "metadata": {},
     "output_type": "execute_result"
    }
   ],
   "source": [
    "A.isdisjoint(B)"
   ]
  },
  {
   "cell_type": "code",
   "execution_count": 62,
   "metadata": {},
   "outputs": [
    {
     "data": {
      "text/plain": [
       "frozenset({1, 2})"
      ]
     },
     "execution_count": 62,
     "metadata": {},
     "output_type": "execute_result"
    }
   ],
   "source": [
    "A.difference(B)"
   ]
  },
  {
   "cell_type": "code",
   "execution_count": 63,
   "metadata": {},
   "outputs": [
    {
     "data": {
      "text/plain": [
       "frozenset({1, 2, 3, 4, 5, 6})"
      ]
     },
     "execution_count": 63,
     "metadata": {},
     "output_type": "execute_result"
    }
   ],
   "source": [
    "A | B"
   ]
  },
  {
   "cell_type": "code",
   "execution_count": 64,
   "metadata": {},
   "outputs": [
    {
     "ename": "AttributeError",
     "evalue": "'frozenset' object has no attribute 'add'",
     "output_type": "error",
     "traceback": [
      "\u001b[0;31m---------------------------------------------------------------------------\u001b[0m",
      "\u001b[0;31mAttributeError\u001b[0m                            Traceback (most recent call last)",
      "\u001b[0;32m<ipython-input-64-a0e0b3f02a4a>\u001b[0m in \u001b[0;36m<module>\u001b[0;34m\u001b[0m\n\u001b[0;32m----> 1\u001b[0;31m \u001b[0mA\u001b[0m\u001b[0;34m.\u001b[0m\u001b[0madd\u001b[0m\u001b[0;34m(\u001b[0m\u001b[0;36m3\u001b[0m\u001b[0;34m)\u001b[0m\u001b[0;34m\u001b[0m\u001b[0;34m\u001b[0m\u001b[0m\n\u001b[0m",
      "\u001b[0;31mAttributeError\u001b[0m: 'frozenset' object has no attribute 'add'"
     ]
    }
   ],
   "source": [
    "A.add(3)"
   ]
  },
  {
   "cell_type": "markdown",
   "metadata": {},
   "source": [
    "# Python Dictionary"
   ]
  },
  {
   "cell_type": "markdown",
   "metadata": {},
   "source": [
    "Python dictionary is an unordered collection of items. While other compound data types have only value as an element, a dictionary has a key: value pair.\n",
    "\n",
    "Dictionaries are optimized to retrieve values when the key is known."
   ]
  },
  {
   "cell_type": "markdown",
   "metadata": {},
   "source": [
    "# How to create a dictionary?"
   ]
  },
  {
   "cell_type": "markdown",
   "metadata": {},
   "source": [
    "Creating a dictionary is as simple as placing items inside curly braces {} separated by comma.\n",
    "\n",
    "An item has a key and the corresponding value expressed as a pair, key: value.\n",
    "\n",
    "While values can be of any data type and can repeat, keys must be of immutable type (string, number or tuple with immutable elements) and must be unique."
   ]
  },
  {
   "cell_type": "code",
   "execution_count": 65,
   "metadata": {},
   "outputs": [],
   "source": [
    "# empty dictionary\n",
    "my_dict = {}\n",
    "\n",
    "# dictionary with integer keys\n",
    "my_dict = {1: 'apple', 2: 'ball'}\n",
    "\n",
    "# dictionary with mixed keys\n",
    "my_dict = {'name': 'John', 1: [2, 4, 3]}\n",
    "\n",
    "# using dict()\n",
    "my_dict = dict({1:'apple', 2:'ball'})\n",
    "\n",
    "# from sequence having each item as a pair\n",
    "my_dict = dict([(1,'apple'), (2,'ball')])"
   ]
  },
  {
   "cell_type": "markdown",
   "metadata": {},
   "source": [
    "As you can see above, we can also create a dictionary using the built-in function dict()."
   ]
  },
  {
   "cell_type": "markdown",
   "metadata": {},
   "source": [
    "# How to access elements from a dictionary?"
   ]
  },
  {
   "cell_type": "markdown",
   "metadata": {},
   "source": [
    "While indexing is used with other container types to access values, dictionary uses keys. Key can be used either inside square brackets or with the get() method.\n",
    "\n",
    "The difference while using get() is that it returns None instead of KeyError, if the key is not found."
   ]
  },
  {
   "cell_type": "code",
   "execution_count": 66,
   "metadata": {},
   "outputs": [
    {
     "name": "stdout",
     "output_type": "stream",
     "text": [
      "Jack\n",
      "26\n"
     ]
    }
   ],
   "source": [
    "my_dict = {'name':'Jack', 'age': 26}\n",
    "\n",
    "# Output: Jack\n",
    "print(my_dict['name'])\n",
    "\n",
    "# Output: 26\n",
    "print(my_dict.get('age'))\n",
    "\n",
    "# Trying to access keys which doesn't exist throws error\n",
    "# my_dict.get('address')\n",
    "# my_dict['address']"
   ]
  },
  {
   "cell_type": "markdown",
   "metadata": {},
   "source": [
    "# How to change or add elements in a dictionary?"
   ]
  },
  {
   "cell_type": "markdown",
   "metadata": {},
   "source": [
    "Dictionary are mutable. We can add new items or change the value of existing items using assignment operator.\n",
    "\n",
    "If the key is already present, value gets updated, else a new key: value pair is added to the dictionary."
   ]
  },
  {
   "cell_type": "code",
   "execution_count": 67,
   "metadata": {},
   "outputs": [
    {
     "name": "stdout",
     "output_type": "stream",
     "text": [
      "{'name': 'Jack', 'age': 27}\n",
      "{'name': 'Jack', 'age': 27, 'address': 'Downtown'}\n"
     ]
    }
   ],
   "source": [
    "my_dict = {'name':'Jack', 'age': 26}\n",
    "\n",
    "# update value\n",
    "my_dict['age'] = 27\n",
    "\n",
    "#Output: {'age': 27, 'name': 'Jack'}\n",
    "print(my_dict)\n",
    "\n",
    "# add item\n",
    "my_dict['address'] = 'Downtown'  \n",
    "\n",
    "# Output: {'address': 'Downtown', 'age': 27, 'name': 'Jack'}\n",
    "print(my_dict)"
   ]
  },
  {
   "cell_type": "markdown",
   "metadata": {},
   "source": [
    "# How to delete or remove elements from a dictionary?"
   ]
  },
  {
   "cell_type": "markdown",
   "metadata": {},
   "source": [
    "We can remove a particular item in a dictionary by using the method pop(). This method removes as item with the provided key and returns the value.\n",
    "\n",
    "The method, popitem() can be used to remove and return an arbitrary item (key, value) form the dictionary. All the items can be removed at once using the clear() method.\n",
    "\n",
    "We can also use the del keyword to remove individual items or the entire dictionary itself."
   ]
  },
  {
   "cell_type": "code",
   "execution_count": 68,
   "metadata": {},
   "outputs": [
    {
     "name": "stdout",
     "output_type": "stream",
     "text": [
      "16\n",
      "{1: 1, 2: 4, 3: 9, 5: 25}\n",
      "(5, 25)\n",
      "{1: 1, 2: 4, 3: 9}\n"
     ]
    },
    {
     "ename": "KeyError",
     "evalue": "5",
     "output_type": "error",
     "traceback": [
      "\u001b[0;31m---------------------------------------------------------------------------\u001b[0m",
      "\u001b[0;31mKeyError\u001b[0m                                  Traceback (most recent call last)",
      "\u001b[0;32m<ipython-input-68-d3532408378d>\u001b[0m in \u001b[0;36m<module>\u001b[0;34m\u001b[0m\n\u001b[1;32m     17\u001b[0m \u001b[0;34m\u001b[0m\u001b[0m\n\u001b[1;32m     18\u001b[0m \u001b[0;31m# delete a particular item\u001b[0m\u001b[0;34m\u001b[0m\u001b[0;34m\u001b[0m\u001b[0;34m\u001b[0m\u001b[0m\n\u001b[0;32m---> 19\u001b[0;31m \u001b[0;32mdel\u001b[0m \u001b[0msquares\u001b[0m\u001b[0;34m[\u001b[0m\u001b[0;36m5\u001b[0m\u001b[0;34m]\u001b[0m\u001b[0;34m\u001b[0m\u001b[0;34m\u001b[0m\u001b[0m\n\u001b[0m\u001b[1;32m     20\u001b[0m \u001b[0;34m\u001b[0m\u001b[0m\n\u001b[1;32m     21\u001b[0m \u001b[0;31m# Output: {2: 4, 3: 9}\u001b[0m\u001b[0;34m\u001b[0m\u001b[0;34m\u001b[0m\u001b[0;34m\u001b[0m\u001b[0m\n",
      "\u001b[0;31mKeyError\u001b[0m: 5"
     ]
    }
   ],
   "source": [
    "# create a dictionary\n",
    "squares = {1:1, 2:4, 3:9, 4:16, 5:25}  \n",
    "\n",
    "# remove a particular item\n",
    "# Output: 16\n",
    "print(squares.pop(4))  \n",
    "\n",
    "# Output: {1: 1, 2: 4, 3: 9, 5: 25}\n",
    "print(squares)\n",
    "\n",
    "# remove an arbitrary item\n",
    "# Output: (1, 1)\n",
    "print(squares.popitem())\n",
    "\n",
    "# Output: {2: 4, 3: 9, 5: 25}\n",
    "print(squares)\n",
    "\n",
    "# delete a particular item\n",
    "del squares[5]  \n",
    "\n",
    "# Output: {2: 4, 3: 9}\n",
    "print(squares)\n",
    "\n",
    "# remove all items\n",
    "squares.clear()\n",
    "\n",
    "# Output: {}\n",
    "print(squares)\n",
    "\n",
    "# delete the dictionary itself\n",
    "del squares\n",
    "\n",
    "# Throws Error\n",
    "# print(squares)"
   ]
  },
  {
   "cell_type": "markdown",
   "metadata": {},
   "source": [
    "# Python Dictionary Methods"
   ]
  },
  {
   "cell_type": "markdown",
   "metadata": {},
   "source": [
    "Methods that are available with dictionary are tabulated below. Some of them have already been used in the above examples."
   ]
  },
  {
   "cell_type": "markdown",
   "metadata": {},
   "source": [
    "1. clear() => Remove all items form the dictionary.\n",
    "2. copy() => Return a shallow copy of the dictionary.\n",
    "3. get(key,d) => Return the value of key. If key doesnot exit, return d (defaults to None).\n",
    "4. items() => Return a new view of the dictionary's items (key, value).\n",
    "5. keys() => Return a new view of the dictionary's keys.\n",
    "6. pop(key,d) => Remove the item with key and return its value or d if key is not found. If d is not provided and key is not found, raises KeyError.\n",
    "7. popitem() => Remove and return an arbitary item (key, value). Raises KeyError if the dictionary is empty.\n",
    "8. setdefault(key,d) => If key is in the dictionary, return its value. If not, insert key with a value of d and return d (defaults to None).\n",
    "9. update([other]) => Update the dictionary with the key/value pairs from other, overwriting existing keys.\n",
    "10. values() => Return a new view of the dictionary's values"
   ]
  },
  {
   "cell_type": "markdown",
   "metadata": {},
   "source": [
    "Here are a few example use of these methods."
   ]
  },
  {
   "cell_type": "code",
   "execution_count": 69,
   "metadata": {},
   "outputs": [
    {
     "name": "stdout",
     "output_type": "stream",
     "text": [
      "{'Math': 0, 'English': 0, 'Science': 0}\n",
      "('Math', 0)\n",
      "('English', 0)\n",
      "('Science', 0)\n"
     ]
    },
    {
     "data": {
      "text/plain": [
       "['English', 'Math', 'Science']"
      ]
     },
     "execution_count": 69,
     "metadata": {},
     "output_type": "execute_result"
    }
   ],
   "source": [
    "marks = {}.fromkeys(['Math','English','Science'], 0)\n",
    "\n",
    "# Output: {'English': 0, 'Math': 0, 'Science': 0}\n",
    "print(marks)\n",
    "\n",
    "for item in marks.items():\n",
    "    print(item)\n",
    "\n",
    "# Output: ['English', 'Math', 'Science']\n",
    "list(sorted(marks.keys()))"
   ]
  },
  {
   "cell_type": "markdown",
   "metadata": {},
   "source": [
    "# Python Dictionary Comprehension"
   ]
  },
  {
   "cell_type": "markdown",
   "metadata": {},
   "source": [
    "Dictionary comprehension is an elegant and concise way to create new dictionary from an iterable in Python.\n",
    "\n",
    "Dictionary comprehension consists of an expression pair (key: value) followed by for statement inside curly braces {}.\n",
    "\n",
    "Here is an example to make a dictionary with each item being a pair of a number and its square."
   ]
  },
  {
   "cell_type": "code",
   "execution_count": 70,
   "metadata": {},
   "outputs": [
    {
     "name": "stdout",
     "output_type": "stream",
     "text": [
      "{0: 0, 1: 1, 2: 4, 3: 9, 4: 16, 5: 25}\n"
     ]
    }
   ],
   "source": [
    "squares = {x: x*x for x in range(6)}\n",
    "\n",
    "# Output: {0: 0, 1: 1, 2: 4, 3: 9, 4: 16, 5: 25}\n",
    "print(squares)"
   ]
  },
  {
   "cell_type": "markdown",
   "metadata": {},
   "source": [
    "This code is equivalent to"
   ]
  },
  {
   "cell_type": "code",
   "execution_count": 71,
   "metadata": {},
   "outputs": [],
   "source": [
    "squares = {}\n",
    "for x in range(6):\n",
    "   squares[x] = x*x"
   ]
  },
  {
   "cell_type": "markdown",
   "metadata": {},
   "source": [
    "A dictionary comprehension can optionally contain more for or if statements.\n",
    "\n",
    "An optional if statement can filter out items to form the new dictionary.\n",
    "\n",
    "Here are some examples to make dictionary with only odd items."
   ]
  },
  {
   "cell_type": "code",
   "execution_count": 72,
   "metadata": {},
   "outputs": [
    {
     "name": "stdout",
     "output_type": "stream",
     "text": [
      "{1: 1, 3: 9, 5: 25, 7: 49, 9: 81}\n"
     ]
    }
   ],
   "source": [
    "odd_squares = {x: x*x for x in range(11) if x%2 == 1}\n",
    "\n",
    "# Output: {1: 1, 3: 9, 5: 25, 7: 49, 9: 81}\n",
    "print(odd_squares)"
   ]
  },
  {
   "cell_type": "markdown",
   "metadata": {},
   "source": [
    "# Other Dictionary Operations"
   ]
  },
  {
   "cell_type": "markdown",
   "metadata": {},
   "source": [
    "# Dictionary Membership Test"
   ]
  },
  {
   "cell_type": "markdown",
   "metadata": {},
   "source": [
    "We can test if a key is in a dictionary or not using the keyword in. Notice that membership test is for keys only, not for values."
   ]
  },
  {
   "cell_type": "code",
   "execution_count": 74,
   "metadata": {},
   "outputs": [
    {
     "name": "stdout",
     "output_type": "stream",
     "text": [
      "True\n",
      "True\n",
      "False\n"
     ]
    }
   ],
   "source": [
    "squares = {1: 1, 3: 9, 5: 25, 7: 49, 9: 81}\n",
    "\n",
    "# Output: True\n",
    "print(1 in squares)\n",
    "\n",
    "# Output: True\n",
    "print(2 not in squares)\n",
    "\n",
    "# membership tests for key only not value\n",
    "# Output: False\n",
    "print(49 in squares)"
   ]
  },
  {
   "cell_type": "markdown",
   "metadata": {},
   "source": [
    "# Iterating Through a Dictionary"
   ]
  },
  {
   "cell_type": "markdown",
   "metadata": {},
   "source": [
    "Using a for loop we can iterate though each key in a dictionary."
   ]
  },
  {
   "cell_type": "code",
   "execution_count": 75,
   "metadata": {},
   "outputs": [
    {
     "name": "stdout",
     "output_type": "stream",
     "text": [
      "1\n",
      "9\n",
      "25\n",
      "49\n",
      "81\n"
     ]
    }
   ],
   "source": [
    "squares = {1: 1, 3: 9, 5: 25, 7: 49, 9: 81}\n",
    "for i in squares:\n",
    "    print(squares[i])"
   ]
  },
  {
   "cell_type": "markdown",
   "metadata": {},
   "source": [
    "# Built-in Functions with Dictionary"
   ]
  },
  {
   "cell_type": "markdown",
   "metadata": {},
   "source": [
    "Built-in functions like all(), any(), len(), cmp(), sorted() etc. are commonly used with dictionary to perform different tasks."
   ]
  },
  {
   "cell_type": "markdown",
   "metadata": {},
   "source": [
    "1. all() => Return True if all keys of the dictionary are true (or if the dictionary is empty).\n",
    "2. any() => Return True if any key of the dictionary is true. If the dictionary is empty, return False.\n",
    "3. len() => Return the length (the number of items) in the dictionary.\n",
    "4. cmp() => Compares items of two dictionaries.\n",
    "5. sorted() => Return a new sorted list of keys in the dictionary."
   ]
  },
  {
   "cell_type": "markdown",
   "metadata": {},
   "source": [
    "Here are some examples that uses built-in functions to work with dictionary."
   ]
  },
  {
   "cell_type": "code",
   "execution_count": 76,
   "metadata": {},
   "outputs": [
    {
     "name": "stdout",
     "output_type": "stream",
     "text": [
      "5\n",
      "[1, 3, 5, 7, 9]\n"
     ]
    }
   ],
   "source": [
    "squares = {1: 1, 3: 9, 5: 25, 7: 49, 9: 81}\n",
    "\n",
    "# Output: 5\n",
    "print(len(squares))\n",
    "\n",
    "# Output: [1, 3, 5, 7, 9]\n",
    "print(sorted(squares))"
   ]
  },
  {
   "cell_type": "code",
   "execution_count": null,
   "metadata": {},
   "outputs": [],
   "source": []
  }
 ],
 "metadata": {
  "kernelspec": {
   "display_name": "Python 3",
   "language": "python",
   "name": "python3"
  },
  "language_info": {
   "codemirror_mode": {
    "name": "ipython",
    "version": 3
   },
   "file_extension": ".py",
   "mimetype": "text/x-python",
   "name": "python",
   "nbconvert_exporter": "python",
   "pygments_lexer": "ipython3",
   "version": "3.7.4"
  }
 },
 "nbformat": 4,
 "nbformat_minor": 2
}
